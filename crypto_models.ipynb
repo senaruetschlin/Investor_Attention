{
 "cells": [
  {
   "cell_type": "markdown",
   "metadata": {},
   "source": [
    "## Statistical Testing\n",
    "\n",
    "In order to test our hypothesis, we need to conduct statistical tests to determine whether our independent variable which is investor attention (name_price_attentino) has a statistically significant relationship with the target variable of returns (pct_return)"
   ]
  },
  {
   "cell_type": "markdown",
   "metadata": {},
   "source": [
    "### Data Prepping \n",
    "\n",
    "Adding the dataframe we will be working with - which is the combined dataframe which includes financial information as well as the attention proxies\n"
   ]
  },
  {
   "cell_type": "code",
   "execution_count": 38,
   "metadata": {},
   "outputs": [
    {
     "data": {
      "text/html": [
       "<div>\n",
       "<style scoped>\n",
       "    .dataframe tbody tr th:only-of-type {\n",
       "        vertical-align: middle;\n",
       "    }\n",
       "\n",
       "    .dataframe tbody tr th {\n",
       "        vertical-align: top;\n",
       "    }\n",
       "\n",
       "    .dataframe thead th {\n",
       "        text-align: right;\n",
       "    }\n",
       "</style>\n",
       "<table border=\"1\" class=\"dataframe\">\n",
       "  <thead>\n",
       "    <tr style=\"text-align: right;\">\n",
       "      <th></th>\n",
       "      <th>Date</th>\n",
       "      <th>Price</th>\n",
       "      <th>Volume</th>\n",
       "      <th>Market_cap</th>\n",
       "      <th>crypto_name</th>\n",
       "      <th>crypto_price</th>\n",
       "    </tr>\n",
       "  </thead>\n",
       "  <tbody>\n",
       "    <tr>\n",
       "      <th>0</th>\n",
       "      <td>2023-12-31</td>\n",
       "      <td>0.223147</td>\n",
       "      <td>2.946115e+07</td>\n",
       "      <td>1.786535e+09</td>\n",
       "      <td>Algorand</td>\n",
       "      <td>9.66</td>\n",
       "    </tr>\n",
       "    <tr>\n",
       "      <th>1</th>\n",
       "      <td>2023-12-30</td>\n",
       "      <td>0.221633</td>\n",
       "      <td>2.982879e+07</td>\n",
       "      <td>1.774411e+09</td>\n",
       "      <td>Algorand</td>\n",
       "      <td>0.00</td>\n",
       "    </tr>\n",
       "    <tr>\n",
       "      <th>2</th>\n",
       "      <td>2023-12-29</td>\n",
       "      <td>0.226712</td>\n",
       "      <td>6.161765e+07</td>\n",
       "      <td>1.815082e+09</td>\n",
       "      <td>Algorand</td>\n",
       "      <td>6.09</td>\n",
       "    </tr>\n",
       "    <tr>\n",
       "      <th>3</th>\n",
       "      <td>2023-12-28</td>\n",
       "      <td>0.233802</td>\n",
       "      <td>6.306787e+07</td>\n",
       "      <td>1.871838e+09</td>\n",
       "      <td>Algorand</td>\n",
       "      <td>0.00</td>\n",
       "    </tr>\n",
       "    <tr>\n",
       "      <th>4</th>\n",
       "      <td>2023-12-27</td>\n",
       "      <td>0.229015</td>\n",
       "      <td>4.023982e+07</td>\n",
       "      <td>1.833514e+09</td>\n",
       "      <td>Algorand</td>\n",
       "      <td>8.82</td>\n",
       "    </tr>\n",
       "  </tbody>\n",
       "</table>\n",
       "</div>"
      ],
      "text/plain": [
       "         Date     Price        Volume    Market_cap crypto_name  crypto_price\n",
       "0  2023-12-31  0.223147  2.946115e+07  1.786535e+09    Algorand          9.66\n",
       "1  2023-12-30  0.221633  2.982879e+07  1.774411e+09    Algorand          0.00\n",
       "2  2023-12-29  0.226712  6.161765e+07  1.815082e+09    Algorand          6.09\n",
       "3  2023-12-28  0.233802  6.306787e+07  1.871838e+09    Algorand          0.00\n",
       "4  2023-12-27  0.229015  4.023982e+07  1.833514e+09    Algorand          8.82"
      ]
     },
     "execution_count": 38,
     "metadata": {},
     "output_type": "execute_result"
    }
   ],
   "source": [
    "import pandas as pd \n",
    "import numpy as np\n",
    "df = pd.read_csv(\"combined_crypto_data.csv\", index_col=0)\n",
    "df.head()"
   ]
  },
  {
   "cell_type": "code",
   "execution_count": 39,
   "metadata": {},
   "outputs": [
    {
     "data": {
      "text/html": [
       "<div>\n",
       "<style scoped>\n",
       "    .dataframe tbody tr th:only-of-type {\n",
       "        vertical-align: middle;\n",
       "    }\n",
       "\n",
       "    .dataframe tbody tr th {\n",
       "        vertical-align: top;\n",
       "    }\n",
       "\n",
       "    .dataframe thead th {\n",
       "        text-align: right;\n",
       "    }\n",
       "</style>\n",
       "<table border=\"1\" class=\"dataframe\">\n",
       "  <thead>\n",
       "    <tr style=\"text-align: right;\">\n",
       "      <th></th>\n",
       "      <th>Date</th>\n",
       "      <th>Price</th>\n",
       "      <th>Volume</th>\n",
       "      <th>Market_cap</th>\n",
       "      <th>crypto_name</th>\n",
       "      <th>attention</th>\n",
       "    </tr>\n",
       "  </thead>\n",
       "  <tbody>\n",
       "    <tr>\n",
       "      <th>0</th>\n",
       "      <td>2023-12-31</td>\n",
       "      <td>0.223147</td>\n",
       "      <td>2.946115e+07</td>\n",
       "      <td>1.786535e+09</td>\n",
       "      <td>Algorand</td>\n",
       "      <td>9.66</td>\n",
       "    </tr>\n",
       "    <tr>\n",
       "      <th>1</th>\n",
       "      <td>2023-12-30</td>\n",
       "      <td>0.221633</td>\n",
       "      <td>2.982879e+07</td>\n",
       "      <td>1.774411e+09</td>\n",
       "      <td>Algorand</td>\n",
       "      <td>0.00</td>\n",
       "    </tr>\n",
       "    <tr>\n",
       "      <th>2</th>\n",
       "      <td>2023-12-29</td>\n",
       "      <td>0.226712</td>\n",
       "      <td>6.161765e+07</td>\n",
       "      <td>1.815082e+09</td>\n",
       "      <td>Algorand</td>\n",
       "      <td>6.09</td>\n",
       "    </tr>\n",
       "    <tr>\n",
       "      <th>3</th>\n",
       "      <td>2023-12-28</td>\n",
       "      <td>0.233802</td>\n",
       "      <td>6.306787e+07</td>\n",
       "      <td>1.871838e+09</td>\n",
       "      <td>Algorand</td>\n",
       "      <td>0.00</td>\n",
       "    </tr>\n",
       "    <tr>\n",
       "      <th>4</th>\n",
       "      <td>2023-12-27</td>\n",
       "      <td>0.229015</td>\n",
       "      <td>4.023982e+07</td>\n",
       "      <td>1.833514e+09</td>\n",
       "      <td>Algorand</td>\n",
       "      <td>8.82</td>\n",
       "    </tr>\n",
       "  </tbody>\n",
       "</table>\n",
       "</div>"
      ],
      "text/plain": [
       "         Date     Price        Volume    Market_cap crypto_name  attention\n",
       "0  2023-12-31  0.223147  2.946115e+07  1.786535e+09    Algorand       9.66\n",
       "1  2023-12-30  0.221633  2.982879e+07  1.774411e+09    Algorand       0.00\n",
       "2  2023-12-29  0.226712  6.161765e+07  1.815082e+09    Algorand       6.09\n",
       "3  2023-12-28  0.233802  6.306787e+07  1.871838e+09    Algorand       0.00\n",
       "4  2023-12-27  0.229015  4.023982e+07  1.833514e+09    Algorand       8.82"
      ]
     },
     "execution_count": 39,
     "metadata": {},
     "output_type": "execute_result"
    }
   ],
   "source": [
    "# rename crypto_price to attention\n",
    "df.rename(columns={\"crypto_price\": \"attention\"}, inplace=True)\n",
    "df.head()"
   ]
  },
  {
   "cell_type": "markdown",
   "metadata": {},
   "source": [
    "We see daily volatility is not in the dataset, therefore adding it using the formula\n",
    "$$\n",
    "\\text{Daily Volatility} = \\text{Daily Close} - \\text{Daily Open}\n",
    "$$\n",
    "\n",
    "Daily volatility along wiht market cap and volume can behave as controls"
   ]
  },
  {
   "cell_type": "code",
   "execution_count": 34,
   "metadata": {},
   "outputs": [
    {
     "data": {
      "text/html": [
       "<div>\n",
       "<style scoped>\n",
       "    .dataframe tbody tr th:only-of-type {\n",
       "        vertical-align: middle;\n",
       "    }\n",
       "\n",
       "    .dataframe tbody tr th {\n",
       "        vertical-align: top;\n",
       "    }\n",
       "\n",
       "    .dataframe thead th {\n",
       "        text-align: right;\n",
       "    }\n",
       "</style>\n",
       "<table border=\"1\" class=\"dataframe\">\n",
       "  <thead>\n",
       "    <tr style=\"text-align: right;\">\n",
       "      <th></th>\n",
       "      <th>Date</th>\n",
       "      <th>Price</th>\n",
       "      <th>Volume</th>\n",
       "      <th>Market_cap</th>\n",
       "      <th>crypto_name</th>\n",
       "      <th>attention</th>\n",
       "      <th>day-to-day_volatility</th>\n",
       "    </tr>\n",
       "  </thead>\n",
       "  <tbody>\n",
       "    <tr>\n",
       "      <th>0</th>\n",
       "      <td>2023-12-31</td>\n",
       "      <td>0.223147</td>\n",
       "      <td>2.946115e+07</td>\n",
       "      <td>1.786535e+09</td>\n",
       "      <td>Algorand</td>\n",
       "      <td>9.66</td>\n",
       "      <td>NaN</td>\n",
       "    </tr>\n",
       "    <tr>\n",
       "      <th>1</th>\n",
       "      <td>2023-12-30</td>\n",
       "      <td>0.221633</td>\n",
       "      <td>2.982879e+07</td>\n",
       "      <td>1.774411e+09</td>\n",
       "      <td>Algorand</td>\n",
       "      <td>0.00</td>\n",
       "      <td>0.003566</td>\n",
       "    </tr>\n",
       "    <tr>\n",
       "      <th>2</th>\n",
       "      <td>2023-12-29</td>\n",
       "      <td>0.226712</td>\n",
       "      <td>6.161765e+07</td>\n",
       "      <td>1.815082e+09</td>\n",
       "      <td>Algorand</td>\n",
       "      <td>6.09</td>\n",
       "      <td>0.012169</td>\n",
       "    </tr>\n",
       "    <tr>\n",
       "      <th>3</th>\n",
       "      <td>2023-12-28</td>\n",
       "      <td>0.233802</td>\n",
       "      <td>6.306787e+07</td>\n",
       "      <td>1.871838e+09</td>\n",
       "      <td>Algorand</td>\n",
       "      <td>0.00</td>\n",
       "      <td>0.002302</td>\n",
       "    </tr>\n",
       "    <tr>\n",
       "      <th>4</th>\n",
       "      <td>2023-12-27</td>\n",
       "      <td>0.229015</td>\n",
       "      <td>4.023982e+07</td>\n",
       "      <td>1.833514e+09</td>\n",
       "      <td>Algorand</td>\n",
       "      <td>8.82</td>\n",
       "      <td>0.001042</td>\n",
       "    </tr>\n",
       "  </tbody>\n",
       "</table>\n",
       "</div>"
      ],
      "text/plain": [
       "         Date     Price        Volume    Market_cap crypto_name  attention  \\\n",
       "0  2023-12-31  0.223147  2.946115e+07  1.786535e+09    Algorand       9.66   \n",
       "1  2023-12-30  0.221633  2.982879e+07  1.774411e+09    Algorand       0.00   \n",
       "2  2023-12-29  0.226712  6.161765e+07  1.815082e+09    Algorand       6.09   \n",
       "3  2023-12-28  0.233802  6.306787e+07  1.871838e+09    Algorand       0.00   \n",
       "4  2023-12-27  0.229015  4.023982e+07  1.833514e+09    Algorand       8.82   \n",
       "\n",
       "   day-to-day_volatility  \n",
       "0                    NaN  \n",
       "1               0.003566  \n",
       "2               0.012169  \n",
       "3               0.002302  \n",
       "4               0.001042  "
      ]
     },
     "execution_count": 34,
     "metadata": {},
     "output_type": "execute_result"
    }
   ],
   "source": [
    "df['day-to-day_volatility'] = df['Price'].shift(-1) - df['Price'].shift(1)\n",
    "df.head()"
   ]
  },
  {
   "cell_type": "code",
   "execution_count": 40,
   "metadata": {},
   "outputs": [
    {
     "name": "stderr",
     "output_type": "stream",
     "text": [
      "/var/folders/hp/hkpqf03x0qdg7_8s3s9sy7gw0000gn/T/ipykernel_53970/2272813703.py:5: DeprecationWarning: DataFrameGroupBy.apply operated on the grouping columns. This behavior is deprecated, and in a future version of pandas the grouping columns will be excluded from the operation. Either pass `include_groups=False` to exclude the groupings or explicitly select the grouping columns after groupby to silence this warning.\n",
      "  df = df.groupby('crypto_name').apply(calculate_volatility)\n"
     ]
    },
    {
     "data": {
      "text/html": [
       "<div>\n",
       "<style scoped>\n",
       "    .dataframe tbody tr th:only-of-type {\n",
       "        vertical-align: middle;\n",
       "    }\n",
       "\n",
       "    .dataframe tbody tr th {\n",
       "        vertical-align: top;\n",
       "    }\n",
       "\n",
       "    .dataframe thead th {\n",
       "        text-align: right;\n",
       "    }\n",
       "</style>\n",
       "<table border=\"1\" class=\"dataframe\">\n",
       "  <thead>\n",
       "    <tr style=\"text-align: right;\">\n",
       "      <th></th>\n",
       "      <th></th>\n",
       "      <th>Date</th>\n",
       "      <th>Price</th>\n",
       "      <th>Volume</th>\n",
       "      <th>Market_cap</th>\n",
       "      <th>crypto_name</th>\n",
       "      <th>attention</th>\n",
       "      <th>day-to-day_volatility</th>\n",
       "    </tr>\n",
       "    <tr>\n",
       "      <th>crypto_name</th>\n",
       "      <th></th>\n",
       "      <th></th>\n",
       "      <th></th>\n",
       "      <th></th>\n",
       "      <th></th>\n",
       "      <th></th>\n",
       "      <th></th>\n",
       "      <th></th>\n",
       "    </tr>\n",
       "  </thead>\n",
       "  <tbody>\n",
       "    <tr>\n",
       "      <th rowspan=\"5\" valign=\"top\">Algorand</th>\n",
       "      <th>0</th>\n",
       "      <td>2023-12-31</td>\n",
       "      <td>0.223147</td>\n",
       "      <td>2.946115e+07</td>\n",
       "      <td>1.786535e+09</td>\n",
       "      <td>Algorand</td>\n",
       "      <td>9.66</td>\n",
       "      <td>NaN</td>\n",
       "    </tr>\n",
       "    <tr>\n",
       "      <th>1</th>\n",
       "      <td>2023-12-30</td>\n",
       "      <td>0.221633</td>\n",
       "      <td>2.982879e+07</td>\n",
       "      <td>1.774411e+09</td>\n",
       "      <td>Algorand</td>\n",
       "      <td>0.00</td>\n",
       "      <td>0.003566</td>\n",
       "    </tr>\n",
       "    <tr>\n",
       "      <th>2</th>\n",
       "      <td>2023-12-29</td>\n",
       "      <td>0.226712</td>\n",
       "      <td>6.161765e+07</td>\n",
       "      <td>1.815082e+09</td>\n",
       "      <td>Algorand</td>\n",
       "      <td>6.09</td>\n",
       "      <td>0.012169</td>\n",
       "    </tr>\n",
       "    <tr>\n",
       "      <th>3</th>\n",
       "      <td>2023-12-28</td>\n",
       "      <td>0.233802</td>\n",
       "      <td>6.306787e+07</td>\n",
       "      <td>1.871838e+09</td>\n",
       "      <td>Algorand</td>\n",
       "      <td>0.00</td>\n",
       "      <td>0.002302</td>\n",
       "    </tr>\n",
       "    <tr>\n",
       "      <th>4</th>\n",
       "      <td>2023-12-27</td>\n",
       "      <td>0.229015</td>\n",
       "      <td>4.023982e+07</td>\n",
       "      <td>1.833514e+09</td>\n",
       "      <td>Algorand</td>\n",
       "      <td>8.82</td>\n",
       "      <td>0.001042</td>\n",
       "    </tr>\n",
       "  </tbody>\n",
       "</table>\n",
       "</div>"
      ],
      "text/plain": [
       "                     Date     Price        Volume    Market_cap crypto_name  \\\n",
       "crypto_name                                                                   \n",
       "Algorand    0  2023-12-31  0.223147  2.946115e+07  1.786535e+09    Algorand   \n",
       "            1  2023-12-30  0.221633  2.982879e+07  1.774411e+09    Algorand   \n",
       "            2  2023-12-29  0.226712  6.161765e+07  1.815082e+09    Algorand   \n",
       "            3  2023-12-28  0.233802  6.306787e+07  1.871838e+09    Algorand   \n",
       "            4  2023-12-27  0.229015  4.023982e+07  1.833514e+09    Algorand   \n",
       "\n",
       "               attention  day-to-day_volatility  \n",
       "crypto_name                                      \n",
       "Algorand    0       9.66                    NaN  \n",
       "            1       0.00               0.003566  \n",
       "            2       6.09               0.012169  \n",
       "            3       0.00               0.002302  \n",
       "            4       8.82               0.001042  "
      ]
     },
     "execution_count": 40,
     "metadata": {},
     "output_type": "execute_result"
    }
   ],
   "source": [
    "def calculate_volatility(group):\n",
    "    group['day-to-day_volatility'] = group['Price'].shift(-1) - group['Price'].shift(1)\n",
    "    return group\n",
    "\n",
    "df = df.groupby('crypto_name').apply(calculate_volatility)\n",
    "df.head()"
   ]
  },
  {
   "cell_type": "code",
   "execution_count": 41,
   "metadata": {},
   "outputs": [
    {
     "data": {
      "text/html": [
       "<div>\n",
       "<style scoped>\n",
       "    .dataframe tbody tr th:only-of-type {\n",
       "        vertical-align: middle;\n",
       "    }\n",
       "\n",
       "    .dataframe tbody tr th {\n",
       "        vertical-align: top;\n",
       "    }\n",
       "\n",
       "    .dataframe thead th {\n",
       "        text-align: right;\n",
       "    }\n",
       "</style>\n",
       "<table border=\"1\" class=\"dataframe\">\n",
       "  <thead>\n",
       "    <tr style=\"text-align: right;\">\n",
       "      <th></th>\n",
       "      <th>Date</th>\n",
       "      <th>Price</th>\n",
       "      <th>Volume</th>\n",
       "      <th>Market_cap</th>\n",
       "      <th>crypto_name</th>\n",
       "      <th>attention</th>\n",
       "      <th>day-to-day_volatility</th>\n",
       "    </tr>\n",
       "  </thead>\n",
       "  <tbody>\n",
       "    <tr>\n",
       "      <th>0</th>\n",
       "      <td>2023-12-31</td>\n",
       "      <td>0.223147</td>\n",
       "      <td>2.946115e+07</td>\n",
       "      <td>1.786535e+09</td>\n",
       "      <td>Algorand</td>\n",
       "      <td>9.66</td>\n",
       "      <td>NaN</td>\n",
       "    </tr>\n",
       "    <tr>\n",
       "      <th>1</th>\n",
       "      <td>2023-12-30</td>\n",
       "      <td>0.221633</td>\n",
       "      <td>2.982879e+07</td>\n",
       "      <td>1.774411e+09</td>\n",
       "      <td>Algorand</td>\n",
       "      <td>0.00</td>\n",
       "      <td>0.003566</td>\n",
       "    </tr>\n",
       "    <tr>\n",
       "      <th>2</th>\n",
       "      <td>2023-12-29</td>\n",
       "      <td>0.226712</td>\n",
       "      <td>6.161765e+07</td>\n",
       "      <td>1.815082e+09</td>\n",
       "      <td>Algorand</td>\n",
       "      <td>6.09</td>\n",
       "      <td>0.012169</td>\n",
       "    </tr>\n",
       "    <tr>\n",
       "      <th>3</th>\n",
       "      <td>2023-12-28</td>\n",
       "      <td>0.233802</td>\n",
       "      <td>6.306787e+07</td>\n",
       "      <td>1.871838e+09</td>\n",
       "      <td>Algorand</td>\n",
       "      <td>0.00</td>\n",
       "      <td>0.002302</td>\n",
       "    </tr>\n",
       "    <tr>\n",
       "      <th>4</th>\n",
       "      <td>2023-12-27</td>\n",
       "      <td>0.229015</td>\n",
       "      <td>4.023982e+07</td>\n",
       "      <td>1.833514e+09</td>\n",
       "      <td>Algorand</td>\n",
       "      <td>8.82</td>\n",
       "      <td>0.001042</td>\n",
       "    </tr>\n",
       "  </tbody>\n",
       "</table>\n",
       "</div>"
      ],
      "text/plain": [
       "         Date     Price        Volume    Market_cap crypto_name  attention  \\\n",
       "0  2023-12-31  0.223147  2.946115e+07  1.786535e+09    Algorand       9.66   \n",
       "1  2023-12-30  0.221633  2.982879e+07  1.774411e+09    Algorand       0.00   \n",
       "2  2023-12-29  0.226712  6.161765e+07  1.815082e+09    Algorand       6.09   \n",
       "3  2023-12-28  0.233802  6.306787e+07  1.871838e+09    Algorand       0.00   \n",
       "4  2023-12-27  0.229015  4.023982e+07  1.833514e+09    Algorand       8.82   \n",
       "\n",
       "   day-to-day_volatility  \n",
       "0                    NaN  \n",
       "1               0.003566  \n",
       "2               0.012169  \n",
       "3               0.002302  \n",
       "4               0.001042  "
      ]
     },
     "execution_count": 41,
     "metadata": {},
     "output_type": "execute_result"
    }
   ],
   "source": [
    "df.reset_index(drop=True, inplace=True)\n",
    "df.head()"
   ]
  },
  {
   "cell_type": "markdown",
   "metadata": {},
   "source": [
    "Creating X and y for statistical testing as well as to split for training and testing"
   ]
  },
  {
   "cell_type": "code",
   "execution_count": 62,
   "metadata": {},
   "outputs": [
    {
     "name": "stdout",
     "output_type": "stream",
     "text": [
      "Empty DataFrame\n",
      "Columns: [Date, Price, Volume, Market_cap, crypto_name, attention, day-to-day_volatility]\n",
      "Index: []\n"
     ]
    }
   ],
   "source": [
    "nan_marketcap_rows = df[df['Market_cap'].isnull()]\n",
    "print(nan_marketcap_rows)"
   ]
  },
  {
   "cell_type": "code",
   "execution_count": 51,
   "metadata": {},
   "outputs": [
    {
     "name": "stdout",
     "output_type": "stream",
     "text": [
      "                   Date      Price        Volume  Market_cap  attention  \\\n",
      "crypto_name                                                               \n",
      "Cardano      2017-10-17   0.000000  2.336180e+06         NaN       0.00   \n",
      "Chainlink    2017-11-08   0.176479  3.347920e+06         NaN       0.00   \n",
      "Dogecoin     2017-04-02   0.000491  4.226544e+06         NaN       0.00   \n",
      "Filecoin     2020-10-14  30.216922  1.555853e+08         NaN       0.00   \n",
      "Stellar      2015-12-28        NaN           NaN         NaN       0.69   \n",
      "\n",
      "             day-to-day_volatility  \n",
      "crypto_name                         \n",
      "Cardano                  -0.026845  \n",
      "Chainlink                -0.059095  \n",
      "Dogecoin                 -0.000091  \n",
      "Filecoin                -27.728868  \n",
      "Stellar                   0.000149  \n"
     ]
    }
   ],
   "source": [
    "nan_marketcap_rows = df[df['Market_cap'].isnull()]\n",
    "\n",
    "grouped_nan_marketcap = nan_marketcap_rows.groupby('crypto_name')\n",
    "\n",
    "# To view the first entries in each group\n",
    "print(grouped_nan_marketcap.first())"
   ]
  },
  {
   "cell_type": "code",
   "execution_count": 53,
   "metadata": {},
   "outputs": [
    {
     "name": "stdout",
     "output_type": "stream",
     "text": [
      "Cryptos with NaNs: ['Algorand' 'Avalanche' 'Cardano' 'Chainlink' 'Cosmos' 'Dogecoin'\n",
      " 'Filecoin' 'Polkadot' 'Polygon' 'Solana' 'Stacks' 'Stellar' 'Terra'\n",
      " 'Uniswap' 'VeChain']\n"
     ]
    },
    {
     "name": "stderr",
     "output_type": "stream",
     "text": [
      "/var/folders/hp/hkpqf03x0qdg7_8s3s9sy7gw0000gn/T/ipykernel_53970/3720100082.py:8: DeprecationWarning: DataFrameGroupBy.apply operated on the grouping columns. This behavior is deprecated, and in a future version of pandas the grouping columns will be excluded from the operation. Either pass `include_groups=False` to exclude the groupings or explicitly select the grouping columns after groupby to silence this warning.\n",
      "  nan_counts = nan_rows.groupby('crypto_name').apply(lambda x: x.isnull().sum())\n"
     ]
    },
    {
     "data": {
      "text/html": [
       "<div>\n",
       "<style scoped>\n",
       "    .dataframe tbody tr th:only-of-type {\n",
       "        vertical-align: middle;\n",
       "    }\n",
       "\n",
       "    .dataframe tbody tr th {\n",
       "        vertical-align: top;\n",
       "    }\n",
       "\n",
       "    .dataframe thead th {\n",
       "        text-align: right;\n",
       "    }\n",
       "</style>\n",
       "<table border=\"1\" class=\"dataframe\">\n",
       "  <thead>\n",
       "    <tr style=\"text-align: right;\">\n",
       "      <th></th>\n",
       "      <th>Date</th>\n",
       "      <th>Price</th>\n",
       "      <th>Volume</th>\n",
       "      <th>Market_cap</th>\n",
       "      <th>crypto_name</th>\n",
       "      <th>attention</th>\n",
       "      <th>day-to-day_volatility</th>\n",
       "    </tr>\n",
       "    <tr>\n",
       "      <th>crypto_name</th>\n",
       "      <th></th>\n",
       "      <th></th>\n",
       "      <th></th>\n",
       "      <th></th>\n",
       "      <th></th>\n",
       "      <th></th>\n",
       "      <th></th>\n",
       "    </tr>\n",
       "  </thead>\n",
       "  <tbody>\n",
       "    <tr>\n",
       "      <th>Algorand</th>\n",
       "      <td>0</td>\n",
       "      <td>0</td>\n",
       "      <td>0</td>\n",
       "      <td>0</td>\n",
       "      <td>0</td>\n",
       "      <td>0</td>\n",
       "      <td>2</td>\n",
       "    </tr>\n",
       "    <tr>\n",
       "      <th>Avalanche</th>\n",
       "      <td>0</td>\n",
       "      <td>0</td>\n",
       "      <td>0</td>\n",
       "      <td>0</td>\n",
       "      <td>0</td>\n",
       "      <td>0</td>\n",
       "      <td>2</td>\n",
       "    </tr>\n",
       "    <tr>\n",
       "      <th>Cardano</th>\n",
       "      <td>0</td>\n",
       "      <td>0</td>\n",
       "      <td>8</td>\n",
       "      <td>25</td>\n",
       "      <td>0</td>\n",
       "      <td>0</td>\n",
       "      <td>2</td>\n",
       "    </tr>\n",
       "    <tr>\n",
       "      <th>Chainlink</th>\n",
       "      <td>0</td>\n",
       "      <td>0</td>\n",
       "      <td>0</td>\n",
       "      <td>49</td>\n",
       "      <td>0</td>\n",
       "      <td>0</td>\n",
       "      <td>2</td>\n",
       "    </tr>\n",
       "    <tr>\n",
       "      <th>Cosmos</th>\n",
       "      <td>0</td>\n",
       "      <td>0</td>\n",
       "      <td>0</td>\n",
       "      <td>0</td>\n",
       "      <td>0</td>\n",
       "      <td>0</td>\n",
       "      <td>2</td>\n",
       "    </tr>\n",
       "    <tr>\n",
       "      <th>Dogecoin</th>\n",
       "      <td>0</td>\n",
       "      <td>1</td>\n",
       "      <td>1</td>\n",
       "      <td>2</td>\n",
       "      <td>0</td>\n",
       "      <td>0</td>\n",
       "      <td>4</td>\n",
       "    </tr>\n",
       "    <tr>\n",
       "      <th>Filecoin</th>\n",
       "      <td>0</td>\n",
       "      <td>0</td>\n",
       "      <td>0</td>\n",
       "      <td>1036</td>\n",
       "      <td>0</td>\n",
       "      <td>0</td>\n",
       "      <td>2</td>\n",
       "    </tr>\n",
       "    <tr>\n",
       "      <th>Polkadot</th>\n",
       "      <td>0</td>\n",
       "      <td>0</td>\n",
       "      <td>0</td>\n",
       "      <td>0</td>\n",
       "      <td>0</td>\n",
       "      <td>0</td>\n",
       "      <td>2</td>\n",
       "    </tr>\n",
       "    <tr>\n",
       "      <th>Polygon</th>\n",
       "      <td>0</td>\n",
       "      <td>0</td>\n",
       "      <td>0</td>\n",
       "      <td>0</td>\n",
       "      <td>0</td>\n",
       "      <td>0</td>\n",
       "      <td>2</td>\n",
       "    </tr>\n",
       "    <tr>\n",
       "      <th>Solana</th>\n",
       "      <td>0</td>\n",
       "      <td>0</td>\n",
       "      <td>0</td>\n",
       "      <td>0</td>\n",
       "      <td>0</td>\n",
       "      <td>0</td>\n",
       "      <td>2</td>\n",
       "    </tr>\n",
       "    <tr>\n",
       "      <th>Stacks</th>\n",
       "      <td>0</td>\n",
       "      <td>0</td>\n",
       "      <td>0</td>\n",
       "      <td>0</td>\n",
       "      <td>0</td>\n",
       "      <td>0</td>\n",
       "      <td>2</td>\n",
       "    </tr>\n",
       "    <tr>\n",
       "      <th>Stellar</th>\n",
       "      <td>0</td>\n",
       "      <td>6</td>\n",
       "      <td>6</td>\n",
       "      <td>6</td>\n",
       "      <td>0</td>\n",
       "      <td>0</td>\n",
       "      <td>11</td>\n",
       "    </tr>\n",
       "    <tr>\n",
       "      <th>Terra</th>\n",
       "      <td>0</td>\n",
       "      <td>0</td>\n",
       "      <td>0</td>\n",
       "      <td>0</td>\n",
       "      <td>0</td>\n",
       "      <td>0</td>\n",
       "      <td>2</td>\n",
       "    </tr>\n",
       "    <tr>\n",
       "      <th>Uniswap</th>\n",
       "      <td>0</td>\n",
       "      <td>0</td>\n",
       "      <td>0</td>\n",
       "      <td>0</td>\n",
       "      <td>0</td>\n",
       "      <td>0</td>\n",
       "      <td>2</td>\n",
       "    </tr>\n",
       "    <tr>\n",
       "      <th>VeChain</th>\n",
       "      <td>0</td>\n",
       "      <td>0</td>\n",
       "      <td>0</td>\n",
       "      <td>0</td>\n",
       "      <td>0</td>\n",
       "      <td>0</td>\n",
       "      <td>2</td>\n",
       "    </tr>\n",
       "  </tbody>\n",
       "</table>\n",
       "</div>"
      ],
      "text/plain": [
       "             Date  Price  Volume  Market_cap  crypto_name  attention  \\\n",
       "crypto_name                                                            \n",
       "Algorand        0      0       0           0            0          0   \n",
       "Avalanche       0      0       0           0            0          0   \n",
       "Cardano         0      0       8          25            0          0   \n",
       "Chainlink       0      0       0          49            0          0   \n",
       "Cosmos          0      0       0           0            0          0   \n",
       "Dogecoin        0      1       1           2            0          0   \n",
       "Filecoin        0      0       0        1036            0          0   \n",
       "Polkadot        0      0       0           0            0          0   \n",
       "Polygon         0      0       0           0            0          0   \n",
       "Solana          0      0       0           0            0          0   \n",
       "Stacks          0      0       0           0            0          0   \n",
       "Stellar         0      6       6           6            0          0   \n",
       "Terra           0      0       0           0            0          0   \n",
       "Uniswap         0      0       0           0            0          0   \n",
       "VeChain         0      0       0           0            0          0   \n",
       "\n",
       "             day-to-day_volatility  \n",
       "crypto_name                         \n",
       "Algorand                         2  \n",
       "Avalanche                        2  \n",
       "Cardano                          2  \n",
       "Chainlink                        2  \n",
       "Cosmos                           2  \n",
       "Dogecoin                         4  \n",
       "Filecoin                         2  \n",
       "Polkadot                         2  \n",
       "Polygon                          2  \n",
       "Solana                           2  \n",
       "Stacks                           2  \n",
       "Stellar                         11  \n",
       "Terra                            2  \n",
       "Uniswap                          2  \n",
       "VeChain                          2  "
      ]
     },
     "execution_count": 53,
     "metadata": {},
     "output_type": "execute_result"
    }
   ],
   "source": [
    "nan_rows = df[df.isnull().any(axis=1)]\n",
    "\n",
    "# Get the names of the cryptos that have NaNs\n",
    "crypto_names_with_nans = nan_rows['crypto_name'].unique()\n",
    "print(\"Cryptos with NaNs:\", crypto_names_with_nans)\n",
    "\n",
    "# Calculate how many NaNs in each column for each crypto\n",
    "nan_counts = nan_rows.groupby('crypto_name').apply(lambda x: x.isnull().sum())\n",
    "nan_counts"
   ]
  },
  {
   "cell_type": "code",
   "execution_count": 57,
   "metadata": {},
   "outputs": [
    {
     "name": "stdout",
     "output_type": "stream",
     "text": [
      "(2209, 7)\n"
     ]
    }
   ],
   "source": [
    "df_file = df[df['crypto_name']=='Filecoin']\n",
    "\n",
    "# print its shape\n",
    "print(df_file.shape)\n"
   ]
  },
  {
   "cell_type": "code",
   "execution_count": 49,
   "metadata": {},
   "outputs": [
    {
     "name": "stdout",
     "output_type": "stream",
     "text": [
      "<pandas.core.groupby.generic.DataFrameGroupBy object at 0x288b72e50>\n"
     ]
    }
   ],
   "source": [
    "print(grouped)"
   ]
  },
  {
   "cell_type": "code",
   "execution_count": 58,
   "metadata": {},
   "outputs": [],
   "source": [
    "df.dropna(inplace=True)"
   ]
  },
  {
   "cell_type": "code",
   "execution_count": 65,
   "metadata": {},
   "outputs": [
    {
     "data": {
      "text/html": [
       "<div>\n",
       "<style scoped>\n",
       "    .dataframe tbody tr th:only-of-type {\n",
       "        vertical-align: middle;\n",
       "    }\n",
       "\n",
       "    .dataframe tbody tr th {\n",
       "        vertical-align: top;\n",
       "    }\n",
       "\n",
       "    .dataframe thead th {\n",
       "        text-align: right;\n",
       "    }\n",
       "</style>\n",
       "<table border=\"1\" class=\"dataframe\">\n",
       "  <thead>\n",
       "    <tr style=\"text-align: right;\">\n",
       "      <th></th>\n",
       "      <th>Date</th>\n",
       "      <th>Price</th>\n",
       "      <th>Volume</th>\n",
       "      <th>Market_cap</th>\n",
       "      <th>crypto_name</th>\n",
       "      <th>attention</th>\n",
       "      <th>day-to-day_volatility</th>\n",
       "    </tr>\n",
       "  </thead>\n",
       "  <tbody>\n",
       "    <tr>\n",
       "      <th>1</th>\n",
       "      <td>2023-12-30</td>\n",
       "      <td>0.221633</td>\n",
       "      <td>2.982879e+07</td>\n",
       "      <td>1.774411e+09</td>\n",
       "      <td>Algorand</td>\n",
       "      <td>0.00</td>\n",
       "      <td>0.003566</td>\n",
       "    </tr>\n",
       "    <tr>\n",
       "      <th>2</th>\n",
       "      <td>2023-12-29</td>\n",
       "      <td>0.226712</td>\n",
       "      <td>6.161765e+07</td>\n",
       "      <td>1.815082e+09</td>\n",
       "      <td>Algorand</td>\n",
       "      <td>6.09</td>\n",
       "      <td>0.012169</td>\n",
       "    </tr>\n",
       "    <tr>\n",
       "      <th>3</th>\n",
       "      <td>2023-12-28</td>\n",
       "      <td>0.233802</td>\n",
       "      <td>6.306787e+07</td>\n",
       "      <td>1.871838e+09</td>\n",
       "      <td>Algorand</td>\n",
       "      <td>0.00</td>\n",
       "      <td>0.002302</td>\n",
       "    </tr>\n",
       "    <tr>\n",
       "      <th>4</th>\n",
       "      <td>2023-12-27</td>\n",
       "      <td>0.229015</td>\n",
       "      <td>4.023982e+07</td>\n",
       "      <td>1.833514e+09</td>\n",
       "      <td>Algorand</td>\n",
       "      <td>8.82</td>\n",
       "      <td>0.001042</td>\n",
       "    </tr>\n",
       "    <tr>\n",
       "      <th>5</th>\n",
       "      <td>2023-12-26</td>\n",
       "      <td>0.234844</td>\n",
       "      <td>6.093416e+07</td>\n",
       "      <td>1.880180e+09</td>\n",
       "      <td>Algorand</td>\n",
       "      <td>0.00</td>\n",
       "      <td>0.009051</td>\n",
       "    </tr>\n",
       "  </tbody>\n",
       "</table>\n",
       "</div>"
      ],
      "text/plain": [
       "         Date     Price        Volume    Market_cap crypto_name  attention  \\\n",
       "1  2023-12-30  0.221633  2.982879e+07  1.774411e+09    Algorand       0.00   \n",
       "2  2023-12-29  0.226712  6.161765e+07  1.815082e+09    Algorand       6.09   \n",
       "3  2023-12-28  0.233802  6.306787e+07  1.871838e+09    Algorand       0.00   \n",
       "4  2023-12-27  0.229015  4.023982e+07  1.833514e+09    Algorand       8.82   \n",
       "5  2023-12-26  0.234844  6.093416e+07  1.880180e+09    Algorand       0.00   \n",
       "\n",
       "   day-to-day_volatility  \n",
       "1               0.003566  \n",
       "2               0.012169  \n",
       "3               0.002302  \n",
       "4               0.001042  \n",
       "5               0.009051  "
      ]
     },
     "execution_count": 65,
     "metadata": {},
     "output_type": "execute_result"
    }
   ],
   "source": [
    "df.to_csv(\"combined_crypto_data.csv\")\n",
    "df.head()"
   ]
  },
  {
   "cell_type": "code",
   "execution_count": 28,
   "metadata": {},
   "outputs": [],
   "source": [
    "from sklearn.model_selection import train_test_split\n",
    "import statsmodels.api as sm"
   ]
  },
  {
   "cell_type": "code",
   "execution_count": 59,
   "metadata": {},
   "outputs": [],
   "source": [
    "fix_seed = 42\n",
    "\n",
    "X = df[['attention']]\n",
    "y = df['Price']\n",
    "\n",
    "\n",
    "X_train, X_test, y_train, y_test = train_test_split(X, y, test_size=0.2, random_state=fix_seed)\n"
   ]
  },
  {
   "cell_type": "markdown",
   "metadata": {},
   "source": [
    "### OLS Regression Analysis \n",
    "\n",
    "OLS regression helps to understand how one or more independent variables predict the outcome of a dependent variable, by minimizing the sum of the squared differences between the observed and predicted values.\n",
    "\n",
    "We will run 8 models which will be various combinations of the 4 independent variables we are focusing on - attention, market cap, volume and volatility \n",
    "\n",
    "* model 1 - attention only \n",
    "* model 2 - attention plus mkt cap\n",
    "* model 3 - attention plus volume\n",
    "* model 4 - attention plus volatility\n",
    "* model 5 - attention plus mkt cap and volume \n",
    "* model 6 - attention plus mkt cap and volatility\n",
    "* model 7 - attention plus volatility and volume \n",
    "* model 8 - all 4 \n",
    "\n",
    "\n",
    "add anomolies durign regression \n",
    "end - display the regresssion table/summary \n",
    "\n",
    "#### Model 1: Attention Only"
   ]
  },
  {
   "cell_type": "code",
   "execution_count": 63,
   "metadata": {},
   "outputs": [
    {
     "name": "stdout",
     "output_type": "stream",
     "text": [
      "                            OLS Regression Results                            \n",
      "==============================================================================\n",
      "Dep. Variable:                  Price   R-squared:                       0.194\n",
      "Model:                            OLS   Adj. R-squared:                  0.194\n",
      "Method:                 Least Squares   F-statistic:                     6438.\n",
      "Date:                Sun, 03 Mar 2024   Prob (F-statistic):               0.00\n",
      "Time:                        14:51:24   Log-Likelihood:            -1.1567e+05\n",
      "No. Observations:               26731   AIC:                         2.313e+05\n",
      "Df Residuals:                   26729   BIC:                         2.314e+05\n",
      "Df Model:                           1                                         \n",
      "Covariance Type:            nonrobust                                         \n",
      "==============================================================================\n",
      "                 coef    std err          t      P>|t|      [0.025      0.975]\n",
      "------------------------------------------------------------------------------\n",
      "const          2.9519      0.127     23.174      0.000       2.702       3.202\n",
      "attention      0.7672      0.010     80.235      0.000       0.748       0.786\n",
      "==============================================================================\n",
      "Omnibus:                    24554.842   Durbin-Watson:                   0.112\n",
      "Prob(Omnibus):                  0.000   Jarque-Bera (JB):          1182247.009\n",
      "Skew:                           4.381   Prob(JB):                         0.00\n",
      "Kurtosis:                      34.380   Cond. No.                         15.2\n",
      "==============================================================================\n",
      "\n",
      "Notes:\n",
      "[1] Standard Errors assume that the covariance matrix of the errors is correctly specified.\n"
     ]
    }
   ],
   "source": [
    "# Adding a constant term to the model (intercept)\n",
    "X = sm.add_constant(X) \n",
    "\n",
    "# Fit the OLS model\n",
    "model = sm.OLS(y, X)\n",
    "result = model.fit()\n",
    "\n",
    "# Print the summary of the regression results\n",
    "print(result.summary())\n"
   ]
  },
  {
   "cell_type": "markdown",
   "metadata": {},
   "source": [
    "The OLS Analysis aims to explore the relationship between the independent variable name_price_attention and the target variable pct_return. While findings such as the R-square value show that the model is not a good fit, the p-value of less than 0.05 for the variable indicates a statistically significant association between our independent and dependent variable while keeping other values not included in the model constant. This suggests that, while minimal, there is a noticeable impact of changes in name_price_attention on the return.\n",
    "\n",
    "Now adding controls and seeing how that impacts the p-value for our attention variable"
   ]
  },
  {
   "cell_type": "markdown",
   "metadata": {},
   "source": [
    "#### Model 2: Attention and Market cap\n",
    "\n",
    "Looking at controls such as volume, volatility and mkt_cap, let us see if that improves the model or impacts the p-value\n"
   ]
  },
  {
   "cell_type": "code",
   "execution_count": 53,
   "metadata": {},
   "outputs": [
    {
     "name": "stdout",
     "output_type": "stream",
     "text": [
      "                            OLS Regression Results                            \n",
      "==============================================================================\n",
      "Dep. Variable:                 return   R-squared:                       0.000\n",
      "Model:                            OLS   Adj. R-squared:                  0.000\n",
      "Method:                 Least Squares   F-statistic:                     6.666\n",
      "Date:                Sat, 02 Mar 2024   Prob (F-statistic):            0.00127\n",
      "Time:                        12:24:11   Log-Likelihood:             1.6768e+05\n",
      "No. Observations:               64008   AIC:                        -3.354e+05\n",
      "Df Residuals:                   64005   BIC:                        -3.353e+05\n",
      "Df Model:                           2                                         \n",
      "Covariance Type:            nonrobust                                         \n",
      "========================================================================================\n",
      "                           coef    std err          t      P>|t|      [0.025      0.975]\n",
      "----------------------------------------------------------------------------------------\n",
      "const                    0.0003      0.000      3.454      0.001       0.000       0.001\n",
      "name_price_attention  1.145e-05   4.71e-06      2.433      0.015    2.22e-06    2.07e-05\n",
      "mkt_cap               4.341e-13   2.22e-13      1.955      0.051   -1.01e-15    8.69e-13\n",
      "==============================================================================\n",
      "Omnibus:                    14574.096   Durbin-Watson:                   2.112\n",
      "Prob(Omnibus):                  0.000   Jarque-Bera (JB):           736051.857\n",
      "Skew:                           0.145   Prob(JB):                         0.00\n",
      "Kurtosis:                      19.610   Cond. No.                     5.87e+08\n",
      "==============================================================================\n",
      "\n",
      "Notes:\n",
      "[1] Standard Errors assume that the covariance matrix of the errors is correctly specified.\n",
      "[2] The condition number is large, 5.87e+08. This might indicate that there are\n",
      "strong multicollinearity or other numerical problems.\n"
     ]
    }
   ],
   "source": [
    "#model 2: attention and market cap\n",
    "# Adding a constant term to the model (intercept)\n",
    "X2 = df[['name_price_attention', 'mkt_cap']]\n",
    "X2 = sm.add_constant(X2) \n",
    "\n",
    "# Fit the OLS model\n",
    "model2 = sm.OLS(y, X2)\n",
    "m2_result = model2.fit()\n",
    "\n",
    "# Print the summary of the regression results\n",
    "print(m2_result.summary())\n"
   ]
  },
  {
   "cell_type": "markdown",
   "metadata": {},
   "source": [
    "#### Model 3: Attention and Volume\n"
   ]
  },
  {
   "cell_type": "code",
   "execution_count": 54,
   "metadata": {},
   "outputs": [
    {
     "name": "stdout",
     "output_type": "stream",
     "text": [
      "                            OLS Regression Results                            \n",
      "==============================================================================\n",
      "Dep. Variable:                 return   R-squared:                       0.000\n",
      "Model:                            OLS   Adj. R-squared:                  0.000\n",
      "Method:                 Least Squares   F-statistic:                     13.81\n",
      "Date:                Sat, 02 Mar 2024   Prob (F-statistic):           1.00e-06\n",
      "Time:                        12:24:14   Log-Likelihood:             1.6769e+05\n",
      "No. Observations:               64008   AIC:                        -3.354e+05\n",
      "Df Residuals:                   64005   BIC:                        -3.353e+05\n",
      "Df Model:                           2                                         \n",
      "Covariance Type:            nonrobust                                         \n",
      "========================================================================================\n",
      "                           coef    std err          t      P>|t|      [0.025      0.975]\n",
      "----------------------------------------------------------------------------------------\n",
      "const                    0.0006   9.93e-05      5.618      0.000       0.000       0.001\n",
      "name_price_attention   2.03e-05   4.77e-06      4.259      0.000     1.1e-05    2.96e-05\n",
      "volume               -2.032e-11   4.77e-12     -4.256      0.000   -2.97e-11    -1.1e-11\n",
      "==============================================================================\n",
      "Omnibus:                    14668.127   Durbin-Watson:                   2.113\n",
      "Prob(Omnibus):                  0.000   Jarque-Bera (JB):           738304.996\n",
      "Skew:                           0.171   Prob(JB):                         0.00\n",
      "Kurtosis:                      19.635   Cond. No.                     2.71e+07\n",
      "==============================================================================\n",
      "\n",
      "Notes:\n",
      "[1] Standard Errors assume that the covariance matrix of the errors is correctly specified.\n",
      "[2] The condition number is large, 2.71e+07. This might indicate that there are\n",
      "strong multicollinearity or other numerical problems.\n"
     ]
    }
   ],
   "source": [
    "#model 3: attention and volume\n",
    "# Adding a constant term to the model (intercept)\n",
    "X3 = df[['name_price_attention', 'volume']]\n",
    "X3 = sm.add_constant(X3) \n",
    "\n",
    "# Fit the OLS model\n",
    "model3 = sm.OLS(y, X3)\n",
    "m3_result = model3.fit()\n",
    "\n",
    "# Print the summary of the regression results\n",
    "print(m3_result.summary())\n"
   ]
  },
  {
   "cell_type": "markdown",
   "metadata": {},
   "source": [
    "#### Model 4: Attention and Daily Volatility\n"
   ]
  },
  {
   "cell_type": "code",
   "execution_count": 55,
   "metadata": {},
   "outputs": [
    {
     "name": "stdout",
     "output_type": "stream",
     "text": [
      "                            OLS Regression Results                            \n",
      "==============================================================================\n",
      "Dep. Variable:                 return   R-squared:                       0.278\n",
      "Model:                            OLS   Adj. R-squared:                  0.278\n",
      "Method:                 Least Squares   F-statistic:                 1.233e+04\n",
      "Date:                Sat, 02 Mar 2024   Prob (F-statistic):               0.00\n",
      "Time:                        12:24:16   Log-Likelihood:             1.7810e+05\n",
      "No. Observations:               64008   AIC:                        -3.562e+05\n",
      "Df Residuals:                   64005   BIC:                        -3.562e+05\n",
      "Df Model:                           2                                         \n",
      "Covariance Type:            nonrobust                                         \n",
      "========================================================================================\n",
      "                           coef    std err          t      P>|t|      [0.025      0.975]\n",
      "----------------------------------------------------------------------------------------\n",
      "const                    0.0004   7.96e-05      4.659      0.000       0.000       0.001\n",
      "name_price_attention  1.483e-05   3.85e-06      3.855      0.000    7.29e-06    2.24e-05\n",
      "daily_volatility         0.0023   1.49e-05    156.977      0.000       0.002       0.002\n",
      "==============================================================================\n",
      "Omnibus:                    20480.966   Durbin-Watson:                   2.152\n",
      "Prob(Omnibus):                  0.000   Jarque-Bera (JB):          3445858.512\n",
      "Skew:                           0.356   Prob(JB):                         0.00\n",
      "Kurtosis:                      38.938   Cond. No.                         27.9\n",
      "==============================================================================\n",
      "\n",
      "Notes:\n",
      "[1] Standard Errors assume that the covariance matrix of the errors is correctly specified.\n"
     ]
    }
   ],
   "source": [
    "# Adding a constant term to the model (intercept)\n",
    "X4 = df[['name_price_attention', 'daily_volatility']]\n",
    "X4 = sm.add_constant(X4) \n",
    "\n",
    "# Fit the OLS model\n",
    "model4 = sm.OLS(y, X4)\n",
    "m4_result = model4.fit()\n",
    "\n",
    "# Print the summary of the regression results\n",
    "print(m4_result.summary())\n"
   ]
  },
  {
   "cell_type": "markdown",
   "metadata": {},
   "source": [
    "#### Model 5: Attention, Market Cap and Volume\n"
   ]
  },
  {
   "cell_type": "code",
   "execution_count": 56,
   "metadata": {},
   "outputs": [
    {
     "name": "stdout",
     "output_type": "stream",
     "text": [
      "                            OLS Regression Results                            \n",
      "==============================================================================\n",
      "Dep. Variable:                 return   R-squared:                       0.001\n",
      "Model:                            OLS   Adj. R-squared:                  0.001\n",
      "Method:                 Least Squares   F-statistic:                     18.45\n",
      "Date:                Sat, 02 Mar 2024   Prob (F-statistic):           5.89e-12\n",
      "Time:                        12:24:17   Log-Likelihood:             1.6770e+05\n",
      "No. Observations:               64008   AIC:                        -3.354e+05\n",
      "Df Residuals:                   64004   BIC:                        -3.354e+05\n",
      "Df Model:                           3                                         \n",
      "Covariance Type:            nonrobust                                         \n",
      "========================================================================================\n",
      "                           coef    std err          t      P>|t|      [0.025      0.975]\n",
      "----------------------------------------------------------------------------------------\n",
      "const                    0.0004      0.000      4.380      0.000       0.000       0.001\n",
      "name_price_attention  1.745e-05   4.79e-06      3.640      0.000    8.05e-06    2.69e-05\n",
      "mkt_cap               1.413e-12   2.68e-13      5.263      0.000    8.87e-13    1.94e-12\n",
      "volume               -3.742e-11   5.77e-12     -6.481      0.000   -4.87e-11   -2.61e-11\n",
      "==============================================================================\n",
      "Omnibus:                    14844.052   Durbin-Watson:                   2.112\n",
      "Prob(Omnibus):                  0.000   Jarque-Bera (JB):           742342.708\n",
      "Skew:                           0.211   Prob(JB):                         0.00\n",
      "Kurtosis:                      19.678   Cond. No.                     5.94e+08\n",
      "==============================================================================\n",
      "\n",
      "Notes:\n",
      "[1] Standard Errors assume that the covariance matrix of the errors is correctly specified.\n",
      "[2] The condition number is large, 5.94e+08. This might indicate that there are\n",
      "strong multicollinearity or other numerical problems.\n"
     ]
    }
   ],
   "source": [
    "# Adding a constant term to the model (intercept)\n",
    "X5 = df[['name_price_attention', 'mkt_cap', 'volume']]\n",
    "X5 = sm.add_constant(X5) \n",
    "\n",
    "# Fit the OLS model\n",
    "model5 = sm.OLS(y, X5)\n",
    "m5_result = model5.fit()\n",
    "\n",
    "# Print the summary of the regression results\n",
    "print(m5_result.summary())\n"
   ]
  },
  {
   "cell_type": "markdown",
   "metadata": {},
   "source": [
    "#### Model 6: Attention, Market Cap and Daily Volatility"
   ]
  },
  {
   "cell_type": "code",
   "execution_count": 57,
   "metadata": {},
   "outputs": [
    {
     "name": "stdout",
     "output_type": "stream",
     "text": [
      "                            OLS Regression Results                            \n",
      "==============================================================================\n",
      "Dep. Variable:                 return   R-squared:                       0.278\n",
      "Model:                            OLS   Adj. R-squared:                  0.278\n",
      "Method:                 Least Squares   F-statistic:                     8219.\n",
      "Date:                Sat, 02 Mar 2024   Prob (F-statistic):               0.00\n",
      "Time:                        12:24:18   Log-Likelihood:             1.7811e+05\n",
      "No. Observations:               64008   AIC:                        -3.562e+05\n",
      "Df Residuals:                   64004   BIC:                        -3.562e+05\n",
      "Df Model:                           3                                         \n",
      "Covariance Type:            nonrobust                                         \n",
      "========================================================================================\n",
      "                           coef    std err          t      P>|t|      [0.025      0.975]\n",
      "----------------------------------------------------------------------------------------\n",
      "const                    0.0003   8.54e-05      3.960      0.000       0.000       0.001\n",
      "name_price_attention  1.367e-05      4e-06      3.418      0.001    5.83e-06    2.15e-05\n",
      "mkt_cap               2.014e-13   1.89e-13      1.067      0.286   -1.68e-13    5.71e-13\n",
      "daily_volatility         0.0023   1.49e-05    156.964      0.000       0.002       0.002\n",
      "==============================================================================\n",
      "Omnibus:                    20500.429   Durbin-Watson:                   2.152\n",
      "Prob(Omnibus):                  0.000   Jarque-Bera (JB):          3445808.187\n",
      "Skew:                           0.359   Prob(JB):                         0.00\n",
      "Kurtosis:                      38.937   Cond. No.                     5.87e+08\n",
      "==============================================================================\n",
      "\n",
      "Notes:\n",
      "[1] Standard Errors assume that the covariance matrix of the errors is correctly specified.\n",
      "[2] The condition number is large, 5.87e+08. This might indicate that there are\n",
      "strong multicollinearity or other numerical problems.\n"
     ]
    }
   ],
   "source": [
    "# Adding a constant term to the model (intercept)\n",
    "X6 = df[['name_price_attention', 'mkt_cap', 'daily_volatility']]\n",
    "X6 = sm.add_constant(X6) \n",
    "\n",
    "# Fit the OLS model\n",
    "model6 = sm.OLS(y, X6)\n",
    "m6_result = model6.fit()\n",
    "\n",
    "# Print the summary of the regression results\n",
    "print(m6_result.summary())\n"
   ]
  },
  {
   "cell_type": "markdown",
   "metadata": {},
   "source": [
    "#### Model 7: Attention and Daily Volatility\n"
   ]
  },
  {
   "cell_type": "code",
   "execution_count": 58,
   "metadata": {},
   "outputs": [
    {
     "name": "stdout",
     "output_type": "stream",
     "text": [
      "                            OLS Regression Results                            \n",
      "==============================================================================\n",
      "Dep. Variable:                 return   R-squared:                       0.001\n",
      "Model:                            OLS   Adj. R-squared:                  0.001\n",
      "Method:                 Least Squares   F-statistic:                     18.45\n",
      "Date:                Sat, 02 Mar 2024   Prob (F-statistic):           5.89e-12\n",
      "Time:                        12:24:20   Log-Likelihood:             1.6770e+05\n",
      "No. Observations:               64008   AIC:                        -3.354e+05\n",
      "Df Residuals:                   64004   BIC:                        -3.354e+05\n",
      "Df Model:                           3                                         \n",
      "Covariance Type:            nonrobust                                         \n",
      "========================================================================================\n",
      "                           coef    std err          t      P>|t|      [0.025      0.975]\n",
      "----------------------------------------------------------------------------------------\n",
      "const                    0.0004      0.000      4.380      0.000       0.000       0.001\n",
      "name_price_attention  1.745e-05   4.79e-06      3.640      0.000    8.05e-06    2.69e-05\n",
      "mkt_cap               1.413e-12   2.68e-13      5.263      0.000    8.87e-13    1.94e-12\n",
      "volume               -3.742e-11   5.77e-12     -6.481      0.000   -4.87e-11   -2.61e-11\n",
      "==============================================================================\n",
      "Omnibus:                    14844.052   Durbin-Watson:                   2.112\n",
      "Prob(Omnibus):                  0.000   Jarque-Bera (JB):           742342.708\n",
      "Skew:                           0.211   Prob(JB):                         0.00\n",
      "Kurtosis:                      19.678   Cond. No.                     5.94e+08\n",
      "==============================================================================\n",
      "\n",
      "Notes:\n",
      "[1] Standard Errors assume that the covariance matrix of the errors is correctly specified.\n",
      "[2] The condition number is large, 5.94e+08. This might indicate that there are\n",
      "strong multicollinearity or other numerical problems.\n"
     ]
    }
   ],
   "source": [
    "# Adding a constant term to the model (intercept)\n",
    "X7 = df[['name_price_attention', 'daily_volatility', 'volume']]\n",
    "X7 = sm.add_constant(X7) \n",
    "\n",
    "# Fit the OLS model\n",
    "model7 = sm.OLS(y, X7)\n",
    "m7_result = model5.fit()\n",
    "\n",
    "# Print the summary of the regression results\n",
    "print(m7_result.summary())\n"
   ]
  },
  {
   "cell_type": "markdown",
   "metadata": {},
   "source": [
    "#### Model 8: Attention, Market Cap, Volume and Volatility\n"
   ]
  },
  {
   "cell_type": "code",
   "execution_count": 59,
   "metadata": {},
   "outputs": [
    {
     "name": "stdout",
     "output_type": "stream",
     "text": [
      "                            OLS Regression Results                            \n",
      "==============================================================================\n",
      "Dep. Variable:                 return   R-squared:                       0.279\n",
      "Model:                            OLS   Adj. R-squared:                  0.278\n",
      "Method:                 Least Squares   F-statistic:                     6177.\n",
      "Date:                Sat, 02 Mar 2024   Prob (F-statistic):               0.00\n",
      "Time:                        12:24:23   Log-Likelihood:             1.7812e+05\n",
      "No. Observations:               64008   AIC:                        -3.562e+05\n",
      "Df Residuals:                   64003   BIC:                        -3.562e+05\n",
      "Df Model:                           4                                         \n",
      "Covariance Type:            nonrobust                                         \n",
      "========================================================================================\n",
      "                           coef    std err          t      P>|t|      [0.025      0.975]\n",
      "----------------------------------------------------------------------------------------\n",
      "const                    0.0004   8.63e-05      4.835      0.000       0.000       0.001\n",
      "name_price_attention  1.853e-05   4.07e-06      4.547      0.000    1.05e-05    2.65e-05\n",
      "mkt_cap               9.937e-13   2.28e-13      4.356      0.000    5.47e-13    1.44e-12\n",
      "daily_volatility         0.0023   1.49e-05    156.946      0.000       0.002       0.002\n",
      "volume               -3.029e-11   4.91e-12     -6.173      0.000   -3.99e-11   -2.07e-11\n",
      "==============================================================================\n",
      "Omnibus:                    21029.456   Durbin-Watson:                   2.152\n",
      "Prob(Omnibus):                  0.000   Jarque-Bera (JB):          3462267.385\n",
      "Skew:                           0.429   Prob(JB):                         0.00\n",
      "Kurtosis:                      39.020   Cond. No.                     5.94e+08\n",
      "==============================================================================\n",
      "\n",
      "Notes:\n",
      "[1] Standard Errors assume that the covariance matrix of the errors is correctly specified.\n",
      "[2] The condition number is large, 5.94e+08. This might indicate that there are\n",
      "strong multicollinearity or other numerical problems.\n"
     ]
    }
   ],
   "source": [
    "# Adding a constant term to the model (intercept)\n",
    "X8 = df[['name_price_attention', 'mkt_cap','daily_volatility', 'volume']]\n",
    "X8 = sm.add_constant(X8) \n",
    "\n",
    "# Fit the OLS model\n",
    "model8 = sm.OLS(y, X8)\n",
    "m8_result = model8.fit()\n",
    "\n",
    "# Print the summary of the regression results\n",
    "print(m8_result.summary())\n"
   ]
  },
  {
   "cell_type": "markdown",
   "metadata": {},
   "source": []
  },
  {
   "cell_type": "markdown",
   "metadata": {},
   "source": []
  },
  {
   "cell_type": "markdown",
   "metadata": {},
   "source": []
  },
  {
   "cell_type": "code",
   "execution_count": null,
   "metadata": {},
   "outputs": [],
   "source": []
  },
  {
   "cell_type": "code",
   "execution_count": null,
   "metadata": {},
   "outputs": [],
   "source": []
  },
  {
   "cell_type": "code",
   "execution_count": null,
   "metadata": {},
   "outputs": [],
   "source": []
  },
  {
   "cell_type": "markdown",
   "metadata": {},
   "source": [
    "### Regression\n",
    "\n",
    "Based on the Pearson Correlation and some prior visualizations, we can determine that the data is non-linear therefore Linear Regression is not an option for our data. Therefore we use XXX regression that is found inbuilt in the statsmodels library in Python\n",
    "\n",
    "About the regression model: XXX"
   ]
  },
  {
   "cell_type": "code",
   "execution_count": 60,
   "metadata": {},
   "outputs": [],
   "source": [
    "import pandas as pd\n",
    "import statsmodels.api as sm\n",
    "import numpy as np"
   ]
  },
  {
   "cell_type": "code",
   "execution_count": 86,
   "metadata": {},
   "outputs": [
    {
     "data": {
      "text/html": [
       "<div>\n",
       "<style scoped>\n",
       "    .dataframe tbody tr th:only-of-type {\n",
       "        vertical-align: middle;\n",
       "    }\n",
       "\n",
       "    .dataframe tbody tr th {\n",
       "        vertical-align: top;\n",
       "    }\n",
       "\n",
       "    .dataframe thead th {\n",
       "        text-align: right;\n",
       "    }\n",
       "</style>\n",
       "<table border=\"1\" class=\"dataframe\">\n",
       "  <thead>\n",
       "    <tr style=\"text-align: right;\">\n",
       "      <th></th>\n",
       "      <th>date</th>\n",
       "      <th>permno</th>\n",
       "      <th>ticker</th>\n",
       "      <th>price</th>\n",
       "      <th>volume</th>\n",
       "      <th>return</th>\n",
       "      <th>high</th>\n",
       "      <th>low</th>\n",
       "      <th>open</th>\n",
       "      <th>avg_price</th>\n",
       "      <th>mkt_cap</th>\n",
       "      <th>pct_return</th>\n",
       "      <th>ticker_attention</th>\n",
       "      <th>name_price_attention</th>\n",
       "      <th>daily_volatility</th>\n",
       "    </tr>\n",
       "  </thead>\n",
       "  <tbody>\n",
       "    <tr>\n",
       "      <th>0</th>\n",
       "      <td>2014-01-02</td>\n",
       "      <td>10107</td>\n",
       "      <td>MSFT</td>\n",
       "      <td>37.16</td>\n",
       "      <td>30423757.0</td>\n",
       "      <td>-0.006683</td>\n",
       "      <td>37.40</td>\n",
       "      <td>37.10</td>\n",
       "      <td>37.350</td>\n",
       "      <td>37.25</td>\n",
       "      <td>308428000.0</td>\n",
       "      <td>-0.6683</td>\n",
       "      <td>3.25</td>\n",
       "      <td>3.15</td>\n",
       "      <td>-0.190</td>\n",
       "    </tr>\n",
       "    <tr>\n",
       "      <th>1</th>\n",
       "      <td>2014-01-03</td>\n",
       "      <td>10107</td>\n",
       "      <td>MSFT</td>\n",
       "      <td>36.91</td>\n",
       "      <td>30944370.0</td>\n",
       "      <td>-0.006728</td>\n",
       "      <td>37.22</td>\n",
       "      <td>36.60</td>\n",
       "      <td>37.200</td>\n",
       "      <td>36.91</td>\n",
       "      <td>306353000.0</td>\n",
       "      <td>-0.6728</td>\n",
       "      <td>3.38</td>\n",
       "      <td>1.54</td>\n",
       "      <td>-0.290</td>\n",
       "    </tr>\n",
       "    <tr>\n",
       "      <th>2</th>\n",
       "      <td>2014-01-06</td>\n",
       "      <td>10107</td>\n",
       "      <td>MSFT</td>\n",
       "      <td>36.13</td>\n",
       "      <td>43111355.0</td>\n",
       "      <td>-0.021133</td>\n",
       "      <td>36.89</td>\n",
       "      <td>36.11</td>\n",
       "      <td>36.850</td>\n",
       "      <td>36.50</td>\n",
       "      <td>299879000.0</td>\n",
       "      <td>-2.1133</td>\n",
       "      <td>4.03</td>\n",
       "      <td>2.24</td>\n",
       "      <td>-0.720</td>\n",
       "    </tr>\n",
       "    <tr>\n",
       "      <th>3</th>\n",
       "      <td>2014-01-07</td>\n",
       "      <td>10107</td>\n",
       "      <td>MSFT</td>\n",
       "      <td>36.41</td>\n",
       "      <td>35478667.0</td>\n",
       "      <td>0.007750</td>\n",
       "      <td>36.49</td>\n",
       "      <td>36.21</td>\n",
       "      <td>36.325</td>\n",
       "      <td>36.35</td>\n",
       "      <td>302203000.0</td>\n",
       "      <td>0.7750</td>\n",
       "      <td>4.94</td>\n",
       "      <td>1.19</td>\n",
       "      <td>0.085</td>\n",
       "    </tr>\n",
       "    <tr>\n",
       "      <th>4</th>\n",
       "      <td>2014-01-08</td>\n",
       "      <td>10107</td>\n",
       "      <td>MSFT</td>\n",
       "      <td>35.76</td>\n",
       "      <td>59452427.0</td>\n",
       "      <td>-0.017852</td>\n",
       "      <td>36.14</td>\n",
       "      <td>35.58</td>\n",
       "      <td>36.000</td>\n",
       "      <td>35.86</td>\n",
       "      <td>296808000.0</td>\n",
       "      <td>-1.7852</td>\n",
       "      <td>5.33</td>\n",
       "      <td>1.68</td>\n",
       "      <td>-0.240</td>\n",
       "    </tr>\n",
       "  </tbody>\n",
       "</table>\n",
       "</div>"
      ],
      "text/plain": [
       "         date  permno ticker  price      volume    return   high    low  \\\n",
       "0  2014-01-02   10107   MSFT  37.16  30423757.0 -0.006683  37.40  37.10   \n",
       "1  2014-01-03   10107   MSFT  36.91  30944370.0 -0.006728  37.22  36.60   \n",
       "2  2014-01-06   10107   MSFT  36.13  43111355.0 -0.021133  36.89  36.11   \n",
       "3  2014-01-07   10107   MSFT  36.41  35478667.0  0.007750  36.49  36.21   \n",
       "4  2014-01-08   10107   MSFT  35.76  59452427.0 -0.017852  36.14  35.58   \n",
       "\n",
       "     open  avg_price      mkt_cap  pct_return  ticker_attention  \\\n",
       "0  37.350      37.25  308428000.0     -0.6683              3.25   \n",
       "1  37.200      36.91  306353000.0     -0.6728              3.38   \n",
       "2  36.850      36.50  299879000.0     -2.1133              4.03   \n",
       "3  36.325      36.35  302203000.0      0.7750              4.94   \n",
       "4  36.000      35.86  296808000.0     -1.7852              5.33   \n",
       "\n",
       "   name_price_attention  daily_volatility  \n",
       "0                  3.15            -0.190  \n",
       "1                  1.54            -0.290  \n",
       "2                  2.24            -0.720  \n",
       "3                  1.19             0.085  \n",
       "4                  1.68            -0.240  "
      ]
     },
     "execution_count": 86,
     "metadata": {},
     "output_type": "execute_result"
    }
   ],
   "source": [
    "#importing our df\n",
    "df = pd.read_csv(\"combined_financial_data.csv\", index_col=0)\n",
    "df['daily_volatility'] = df['price'] - df['open']\n",
    "df.head()"
   ]
  },
  {
   "cell_type": "code",
   "execution_count": 87,
   "metadata": {},
   "outputs": [
    {
     "data": {
      "text/html": [
       "<div>\n",
       "<style scoped>\n",
       "    .dataframe tbody tr th:only-of-type {\n",
       "        vertical-align: middle;\n",
       "    }\n",
       "\n",
       "    .dataframe tbody tr th {\n",
       "        vertical-align: top;\n",
       "    }\n",
       "\n",
       "    .dataframe thead th {\n",
       "        text-align: right;\n",
       "    }\n",
       "</style>\n",
       "<table border=\"1\" class=\"dataframe\">\n",
       "  <thead>\n",
       "    <tr style=\"text-align: right;\">\n",
       "      <th></th>\n",
       "      <th>gvkey</th>\n",
       "      <th>datadate</th>\n",
       "      <th>fqtr</th>\n",
       "      <th>tic</th>\n",
       "      <th>conm</th>\n",
       "      <th>net_income</th>\n",
       "      <th>revenue</th>\n",
       "      <th>total_assets</th>\n",
       "      <th>shareholders_equity</th>\n",
       "      <th>total_liabilities</th>\n",
       "      <th>total_debt</th>\n",
       "      <th>sales</th>\n",
       "      <th>operating_activities_cf</th>\n",
       "      <th>capital_expenditures</th>\n",
       "      <th>interest_expense</th>\n",
       "      <th>common_shares_outstanding</th>\n",
       "      <th>earnings_per_share</th>\n",
       "      <th>dividends_per_share</th>\n",
       "      <th>date</th>\n",
       "      <th>ticker</th>\n",
       "    </tr>\n",
       "  </thead>\n",
       "  <tbody>\n",
       "    <tr>\n",
       "      <th>0</th>\n",
       "      <td>1690</td>\n",
       "      <td>2013-03-31</td>\n",
       "      <td>2</td>\n",
       "      <td>AAPL</td>\n",
       "      <td>APPLE INC</td>\n",
       "      <td>9547.0</td>\n",
       "      <td>43603.0</td>\n",
       "      <td>194743.0</td>\n",
       "      <td>135490.0</td>\n",
       "      <td>59253.0</td>\n",
       "      <td>0.0</td>\n",
       "      <td>43603.0</td>\n",
       "      <td>35930.0</td>\n",
       "      <td>4325.0</td>\n",
       "      <td>0.0</td>\n",
       "      <td>940.094</td>\n",
       "      <td>10.16</td>\n",
       "      <td>2.65</td>\n",
       "      <td>2013-03-31</td>\n",
       "      <td>AAPL</td>\n",
       "    </tr>\n",
       "    <tr>\n",
       "      <th>1</th>\n",
       "      <td>1690</td>\n",
       "      <td>2013-06-30</td>\n",
       "      <td>3</td>\n",
       "      <td>AAPL</td>\n",
       "      <td>APPLE INC</td>\n",
       "      <td>6900.0</td>\n",
       "      <td>35323.0</td>\n",
       "      <td>199856.0</td>\n",
       "      <td>123354.0</td>\n",
       "      <td>76502.0</td>\n",
       "      <td>16958.0</td>\n",
       "      <td>35323.0</td>\n",
       "      <td>43758.0</td>\n",
       "      <td>6210.0</td>\n",
       "      <td>53.0</td>\n",
       "      <td>908.442</td>\n",
       "      <td>7.51</td>\n",
       "      <td>3.05</td>\n",
       "      <td>2013-06-30</td>\n",
       "      <td>AAPL</td>\n",
       "    </tr>\n",
       "    <tr>\n",
       "      <th>2</th>\n",
       "      <td>1690</td>\n",
       "      <td>2013-09-30</td>\n",
       "      <td>4</td>\n",
       "      <td>AAPL</td>\n",
       "      <td>APPLE INC</td>\n",
       "      <td>7512.0</td>\n",
       "      <td>37472.0</td>\n",
       "      <td>207000.0</td>\n",
       "      <td>123549.0</td>\n",
       "      <td>83451.0</td>\n",
       "      <td>16960.0</td>\n",
       "      <td>37472.0</td>\n",
       "      <td>53666.0</td>\n",
       "      <td>8165.0</td>\n",
       "      <td>83.0</td>\n",
       "      <td>899.213</td>\n",
       "      <td>8.31</td>\n",
       "      <td>3.05</td>\n",
       "      <td>2013-09-30</td>\n",
       "      <td>AAPL</td>\n",
       "    </tr>\n",
       "    <tr>\n",
       "      <th>3</th>\n",
       "      <td>1690</td>\n",
       "      <td>2013-12-31</td>\n",
       "      <td>1</td>\n",
       "      <td>AAPL</td>\n",
       "      <td>APPLE INC</td>\n",
       "      <td>13072.0</td>\n",
       "      <td>57594.0</td>\n",
       "      <td>225184.0</td>\n",
       "      <td>129684.0</td>\n",
       "      <td>95500.0</td>\n",
       "      <td>16961.0</td>\n",
       "      <td>57594.0</td>\n",
       "      <td>22670.0</td>\n",
       "      <td>1985.0</td>\n",
       "      <td>84.0</td>\n",
       "      <td>892.447</td>\n",
       "      <td>14.59</td>\n",
       "      <td>3.05</td>\n",
       "      <td>2013-12-31</td>\n",
       "      <td>AAPL</td>\n",
       "    </tr>\n",
       "    <tr>\n",
       "      <th>4</th>\n",
       "      <td>1690</td>\n",
       "      <td>2014-03-31</td>\n",
       "      <td>2</td>\n",
       "      <td>AAPL</td>\n",
       "      <td>APPLE INC</td>\n",
       "      <td>10223.0</td>\n",
       "      <td>45646.0</td>\n",
       "      <td>205989.0</td>\n",
       "      <td>120179.0</td>\n",
       "      <td>85810.0</td>\n",
       "      <td>16962.0</td>\n",
       "      <td>45646.0</td>\n",
       "      <td>36208.0</td>\n",
       "      <td>3367.0</td>\n",
       "      <td>85.0</td>\n",
       "      <td>861.745</td>\n",
       "      <td>11.69</td>\n",
       "      <td>3.05</td>\n",
       "      <td>2014-03-31</td>\n",
       "      <td>AAPL</td>\n",
       "    </tr>\n",
       "  </tbody>\n",
       "</table>\n",
       "</div>"
      ],
      "text/plain": [
       "   gvkey    datadate  fqtr   tic       conm  net_income  revenue  \\\n",
       "0   1690  2013-03-31     2  AAPL  APPLE INC      9547.0  43603.0   \n",
       "1   1690  2013-06-30     3  AAPL  APPLE INC      6900.0  35323.0   \n",
       "2   1690  2013-09-30     4  AAPL  APPLE INC      7512.0  37472.0   \n",
       "3   1690  2013-12-31     1  AAPL  APPLE INC     13072.0  57594.0   \n",
       "4   1690  2014-03-31     2  AAPL  APPLE INC     10223.0  45646.0   \n",
       "\n",
       "   total_assets  shareholders_equity  total_liabilities  total_debt    sales  \\\n",
       "0      194743.0             135490.0            59253.0         0.0  43603.0   \n",
       "1      199856.0             123354.0            76502.0     16958.0  35323.0   \n",
       "2      207000.0             123549.0            83451.0     16960.0  37472.0   \n",
       "3      225184.0             129684.0            95500.0     16961.0  57594.0   \n",
       "4      205989.0             120179.0            85810.0     16962.0  45646.0   \n",
       "\n",
       "   operating_activities_cf  capital_expenditures  interest_expense  \\\n",
       "0                  35930.0                4325.0               0.0   \n",
       "1                  43758.0                6210.0              53.0   \n",
       "2                  53666.0                8165.0              83.0   \n",
       "3                  22670.0                1985.0              84.0   \n",
       "4                  36208.0                3367.0              85.0   \n",
       "\n",
       "   common_shares_outstanding  earnings_per_share  dividends_per_share  \\\n",
       "0                    940.094               10.16                 2.65   \n",
       "1                    908.442                7.51                 3.05   \n",
       "2                    899.213                8.31                 3.05   \n",
       "3                    892.447               14.59                 3.05   \n",
       "4                    861.745               11.69                 3.05   \n",
       "\n",
       "         date ticker  \n",
       "0  2013-03-31   AAPL  \n",
       "1  2013-06-30   AAPL  \n",
       "2  2013-09-30   AAPL  \n",
       "3  2013-12-31   AAPL  \n",
       "4  2014-03-31   AAPL  "
      ]
     },
     "execution_count": 87,
     "metadata": {},
     "output_type": "execute_result"
    }
   ],
   "source": [
    "df_test = pd.read_csv(\"quarterly_financial_data_2013_2023.csv\")\n",
    "\n",
    "\n",
    "#df_test = df_test.rename(columns = {'datedate': 'date'})\n",
    "df_test['date'] = df_test['datadate']\n",
    "df_test['ticker'] = df_test['tic']\n",
    "df_test.head()"
   ]
  },
  {
   "cell_type": "code",
   "execution_count": 93,
   "metadata": {},
   "outputs": [
    {
     "data": {
      "text/html": [
       "<div>\n",
       "<style scoped>\n",
       "    .dataframe tbody tr th:only-of-type {\n",
       "        vertical-align: middle;\n",
       "    }\n",
       "\n",
       "    .dataframe tbody tr th {\n",
       "        vertical-align: top;\n",
       "    }\n",
       "\n",
       "    .dataframe thead th {\n",
       "        text-align: right;\n",
       "    }\n",
       "</style>\n",
       "<table border=\"1\" class=\"dataframe\">\n",
       "  <thead>\n",
       "    <tr style=\"text-align: right;\">\n",
       "      <th></th>\n",
       "      <th>date</th>\n",
       "      <th>permno</th>\n",
       "      <th>ticker</th>\n",
       "      <th>price</th>\n",
       "      <th>volume</th>\n",
       "      <th>return</th>\n",
       "      <th>high</th>\n",
       "      <th>low</th>\n",
       "      <th>open</th>\n",
       "      <th>avg_price</th>\n",
       "      <th>...</th>\n",
       "      <th>daily_volatility</th>\n",
       "      <th>revenue</th>\n",
       "      <th>total_assets</th>\n",
       "      <th>earnings_per_share</th>\n",
       "      <th>book_to_market</th>\n",
       "      <th>dt_date</th>\n",
       "      <th>jan_dummy</th>\n",
       "      <th>monday_dummy</th>\n",
       "      <th>annual_rep_release</th>\n",
       "      <th>log returns</th>\n",
       "    </tr>\n",
       "  </thead>\n",
       "  <tbody>\n",
       "    <tr>\n",
       "      <th>0</th>\n",
       "      <td>2014-01-02</td>\n",
       "      <td>10107</td>\n",
       "      <td>MSFT</td>\n",
       "      <td>37.16</td>\n",
       "      <td>30423757.0</td>\n",
       "      <td>-0.006683</td>\n",
       "      <td>37.40</td>\n",
       "      <td>37.10</td>\n",
       "      <td>37.350</td>\n",
       "      <td>37.25</td>\n",
       "      <td>...</td>\n",
       "      <td>-0.190</td>\n",
       "      <td>NaN</td>\n",
       "      <td>NaN</td>\n",
       "      <td>NaN</td>\n",
       "      <td>NaN</td>\n",
       "      <td>2014-01-02</td>\n",
       "      <td>1</td>\n",
       "      <td>0</td>\n",
       "      <td>0</td>\n",
       "      <td>-0.006705</td>\n",
       "    </tr>\n",
       "    <tr>\n",
       "      <th>1</th>\n",
       "      <td>2014-01-03</td>\n",
       "      <td>10107</td>\n",
       "      <td>MSFT</td>\n",
       "      <td>36.91</td>\n",
       "      <td>30944370.0</td>\n",
       "      <td>-0.006728</td>\n",
       "      <td>37.22</td>\n",
       "      <td>36.60</td>\n",
       "      <td>37.200</td>\n",
       "      <td>36.91</td>\n",
       "      <td>...</td>\n",
       "      <td>-0.290</td>\n",
       "      <td>NaN</td>\n",
       "      <td>NaN</td>\n",
       "      <td>NaN</td>\n",
       "      <td>NaN</td>\n",
       "      <td>2014-01-03</td>\n",
       "      <td>1</td>\n",
       "      <td>0</td>\n",
       "      <td>0</td>\n",
       "      <td>-0.006751</td>\n",
       "    </tr>\n",
       "    <tr>\n",
       "      <th>2</th>\n",
       "      <td>2014-01-06</td>\n",
       "      <td>10107</td>\n",
       "      <td>MSFT</td>\n",
       "      <td>36.13</td>\n",
       "      <td>43111355.0</td>\n",
       "      <td>-0.021133</td>\n",
       "      <td>36.89</td>\n",
       "      <td>36.11</td>\n",
       "      <td>36.850</td>\n",
       "      <td>36.50</td>\n",
       "      <td>...</td>\n",
       "      <td>-0.720</td>\n",
       "      <td>NaN</td>\n",
       "      <td>NaN</td>\n",
       "      <td>NaN</td>\n",
       "      <td>NaN</td>\n",
       "      <td>2014-01-06</td>\n",
       "      <td>1</td>\n",
       "      <td>1</td>\n",
       "      <td>0</td>\n",
       "      <td>-0.021359</td>\n",
       "    </tr>\n",
       "    <tr>\n",
       "      <th>3</th>\n",
       "      <td>2014-01-07</td>\n",
       "      <td>10107</td>\n",
       "      <td>MSFT</td>\n",
       "      <td>36.41</td>\n",
       "      <td>35478667.0</td>\n",
       "      <td>0.007750</td>\n",
       "      <td>36.49</td>\n",
       "      <td>36.21</td>\n",
       "      <td>36.325</td>\n",
       "      <td>36.35</td>\n",
       "      <td>...</td>\n",
       "      <td>0.085</td>\n",
       "      <td>NaN</td>\n",
       "      <td>NaN</td>\n",
       "      <td>NaN</td>\n",
       "      <td>NaN</td>\n",
       "      <td>2014-01-07</td>\n",
       "      <td>1</td>\n",
       "      <td>0</td>\n",
       "      <td>0</td>\n",
       "      <td>0.007720</td>\n",
       "    </tr>\n",
       "    <tr>\n",
       "      <th>4</th>\n",
       "      <td>2014-01-08</td>\n",
       "      <td>10107</td>\n",
       "      <td>MSFT</td>\n",
       "      <td>35.76</td>\n",
       "      <td>59452427.0</td>\n",
       "      <td>-0.017852</td>\n",
       "      <td>36.14</td>\n",
       "      <td>35.58</td>\n",
       "      <td>36.000</td>\n",
       "      <td>35.86</td>\n",
       "      <td>...</td>\n",
       "      <td>-0.240</td>\n",
       "      <td>NaN</td>\n",
       "      <td>NaN</td>\n",
       "      <td>NaN</td>\n",
       "      <td>NaN</td>\n",
       "      <td>2014-01-08</td>\n",
       "      <td>1</td>\n",
       "      <td>0</td>\n",
       "      <td>0</td>\n",
       "      <td>-0.018013</td>\n",
       "    </tr>\n",
       "  </tbody>\n",
       "</table>\n",
       "<p>5 rows × 24 columns</p>\n",
       "</div>"
      ],
      "text/plain": [
       "         date  permno ticker  price      volume    return   high    low  \\\n",
       "0  2014-01-02   10107   MSFT  37.16  30423757.0 -0.006683  37.40  37.10   \n",
       "1  2014-01-03   10107   MSFT  36.91  30944370.0 -0.006728  37.22  36.60   \n",
       "2  2014-01-06   10107   MSFT  36.13  43111355.0 -0.021133  36.89  36.11   \n",
       "3  2014-01-07   10107   MSFT  36.41  35478667.0  0.007750  36.49  36.21   \n",
       "4  2014-01-08   10107   MSFT  35.76  59452427.0 -0.017852  36.14  35.58   \n",
       "\n",
       "     open  avg_price  ...  daily_volatility  revenue  total_assets  \\\n",
       "0  37.350      37.25  ...            -0.190      NaN           NaN   \n",
       "1  37.200      36.91  ...            -0.290      NaN           NaN   \n",
       "2  36.850      36.50  ...            -0.720      NaN           NaN   \n",
       "3  36.325      36.35  ...             0.085      NaN           NaN   \n",
       "4  36.000      35.86  ...            -0.240      NaN           NaN   \n",
       "\n",
       "   earnings_per_share  book_to_market    dt_date  jan_dummy  monday_dummy  \\\n",
       "0                 NaN             NaN 2014-01-02          1             0   \n",
       "1                 NaN             NaN 2014-01-03          1             0   \n",
       "2                 NaN             NaN 2014-01-06          1             1   \n",
       "3                 NaN             NaN 2014-01-07          1             0   \n",
       "4                 NaN             NaN 2014-01-08          1             0   \n",
       "\n",
       "   annual_rep_release log returns  \n",
       "0                   0   -0.006705  \n",
       "1                   0   -0.006751  \n",
       "2                   0   -0.021359  \n",
       "3                   0    0.007720  \n",
       "4                   0   -0.018013  \n",
       "\n",
       "[5 rows x 24 columns]"
      ]
     },
     "execution_count": 93,
     "metadata": {},
     "output_type": "execute_result"
    }
   ],
   "source": [
    "anomalies_df = pd.merge(df, df_test[['date','ticker','revenue', 'total_assets', 'earnings_per_share']], on=['date', 'ticker'], how = 'left')\n",
    "anomalies_df['book_to_market'] = anomalies_df['total_assets'] / anomalies_df['mkt_cap']\n",
    "anomalies_df['dt_date'] = pd.to_datetime(anomalies_df['date'])\n",
    "anomalies_df['jan_dummy'] = (anomalies_df['dt_date'].dt.month == 1).astype(int)\n",
    "anomalies_df['monday_dummy'] = (anomalies_df['dt_date'].dt.dayofweek == 0).astype(int)\n",
    "anomalies_df['annual_rep_release'] = anomalies_df['book_to_market'].notna().astype(int)\n",
    "anomalies_df['log returns'] = np.log1p(anomalies_df['return']) \n",
    "#anomalies_df['log returns'] = anomalies_df['log returns'].fillna(0, inplace=True)\n",
    "#anomalies_df[anomalies_df['book_to_market'].notna()].head()\n",
    "\n",
    "anomalies_df.head()\n",
    "#anomalies_df.to_csv('anomalies_df.csv')"
   ]
  },
  {
   "cell_type": "code",
   "execution_count": 94,
   "metadata": {},
   "outputs": [
    {
     "data": {
      "text/plain": [
       "['date',\n",
       " 'permno',\n",
       " 'ticker',\n",
       " 'price',\n",
       " 'volume',\n",
       " 'return',\n",
       " 'high',\n",
       " 'low',\n",
       " 'open',\n",
       " 'avg_price',\n",
       " 'mkt_cap',\n",
       " 'pct_return',\n",
       " 'ticker_attention',\n",
       " 'name_price_attention',\n",
       " 'daily_volatility',\n",
       " 'revenue',\n",
       " 'total_assets',\n",
       " 'earnings_per_share',\n",
       " 'book_to_market',\n",
       " 'dt_date',\n",
       " 'jan_dummy',\n",
       " 'monday_dummy',\n",
       " 'annual_rep_release',\n",
       " 'log returns']"
      ]
     },
     "execution_count": 94,
     "metadata": {},
     "output_type": "execute_result"
    }
   ],
   "source": [
    "list(anomalies_df.columns)"
   ]
  },
  {
   "cell_type": "markdown",
   "metadata": {},
   "source": [
    "### Inluding anomalies "
   ]
  },
  {
   "cell_type": "markdown",
   "metadata": {},
   "source": [
    "##### model 9: attention, market cap"
   ]
  },
  {
   "cell_type": "code",
   "execution_count": 103,
   "metadata": {},
   "outputs": [
    {
     "name": "stdout",
     "output_type": "stream",
     "text": [
      "                            OLS Regression Results                            \n",
      "==============================================================================\n",
      "Dep. Variable:                 return   R-squared:                       0.000\n",
      "Model:                            OLS   Adj. R-squared:                  0.000\n",
      "Method:                 Least Squares   F-statistic:                     5.556\n",
      "Date:                Sat, 02 Mar 2024   Prob (F-statistic):            0.00386\n",
      "Time:                        17:50:21   Log-Likelihood:             1.6768e+05\n",
      "No. Observations:               64008   AIC:                        -3.354e+05\n",
      "Df Residuals:                   64005   BIC:                        -3.353e+05\n",
      "Df Model:                           2                                         \n",
      "Covariance Type:            nonrobust                                         \n",
      "========================================================================================\n",
      "                           coef    std err          t      P>|t|      [0.025      0.975]\n",
      "----------------------------------------------------------------------------------------\n",
      "const                    0.0004    9.4e-05      4.547      0.000       0.000       0.001\n",
      "name_price_attention  1.396e-05   4.53e-06      3.084      0.002    5.09e-06    2.28e-05\n",
      "annual_rep_release      -0.0008      0.001     -1.267      0.205      -0.002       0.000\n",
      "==============================================================================\n",
      "Omnibus:                    14557.165   Durbin-Watson:                   2.112\n",
      "Prob(Omnibus):                  0.000   Jarque-Bera (JB):           735762.124\n",
      "Skew:                           0.140   Prob(JB):                         0.00\n",
      "Kurtosis:                      19.607   Cond. No.                         193.\n",
      "==============================================================================\n",
      "\n",
      "Notes:\n",
      "[1] Standard Errors assume that the covariance matrix of the errors is correctly specified.\n"
     ]
    }
   ],
   "source": [
    "# including the anomaly annual report release \n",
    "anomalies_df['annual_rep_release'] = anomalies_df['annual_rep_release'].fillna(0)\n",
    "\n",
    "\n",
    "# Assuming 'y' is your dependent variable\n",
    "X10 = anomalies_df[['name_price_attention', 'annual_rep_release']]\n",
    "X10 = sm.add_constant(X10)\n",
    "\n",
    "# Fit the OLS model\n",
    "model10 = sm.OLS(y, X10)\n",
    "m10_result = model10.fit()  # Corrected to use 'model10'\n",
    "\n",
    "# Print the summary of the regression results\n",
    "print(m10_result.summary())\n"
   ]
  },
  {
   "cell_type": "code",
   "execution_count": 105,
   "metadata": {},
   "outputs": [
    {
     "name": "stdout",
     "output_type": "stream",
     "text": [
      "                            OLS Regression Results                            \n",
      "==============================================================================\n",
      "Dep. Variable:                 return   R-squared:                       0.000\n",
      "Model:                            OLS   Adj. R-squared:                  0.000\n",
      "Method:                 Least Squares   F-statistic:                     6.483\n",
      "Date:                Sat, 02 Mar 2024   Prob (F-statistic):            0.00153\n",
      "Time:                        17:58:59   Log-Likelihood:             1.6768e+05\n",
      "No. Observations:               64008   AIC:                        -3.354e+05\n",
      "Df Residuals:                   64005   BIC:                        -3.353e+05\n",
      "Df Model:                           2                                         \n",
      "Covariance Type:            nonrobust                                         \n",
      "========================================================================================\n",
      "                           coef    std err          t      P>|t|      [0.025      0.975]\n",
      "----------------------------------------------------------------------------------------\n",
      "const                    0.0005   9.62e-05      4.765      0.000       0.000       0.001\n",
      "name_price_attention  1.395e-05   4.53e-06      3.082      0.002    5.08e-06    2.28e-05\n",
      "jan_dummy               -0.0005      0.000     -1.860      0.063      -0.001    2.46e-05\n",
      "==============================================================================\n",
      "Omnibus:                    14559.244   Durbin-Watson:                   2.113\n",
      "Prob(Omnibus):                  0.000   Jarque-Bera (JB):           735884.303\n",
      "Skew:                           0.141   Prob(JB):                         0.00\n",
      "Kurtosis:                      19.609   Cond. No.                         73.3\n",
      "==============================================================================\n",
      "\n",
      "Notes:\n",
      "[1] Standard Errors assume that the covariance matrix of the errors is correctly specified.\n"
     ]
    }
   ],
   "source": [
    "# including the anomaly Jan effect\n",
    "anomalies_df['jan_dummy'] = anomalies_df['jan_dummy'].fillna(0)\n",
    "\n",
    "\n",
    "# Assuming 'y' is your dependent variable\n",
    "X11 = anomalies_df[['name_price_attention', 'jan_dummy']]\n",
    "X11 = sm.add_constant(X11)\n",
    "\n",
    "# Fit the OLS model\n",
    "model11 = sm.OLS(y, X11)\n",
    "m11_result = model11.fit()  \n",
    "\n",
    "# Print the summary of the regression results\n",
    "print(m11_result.summary())"
   ]
  },
  {
   "cell_type": "code",
   "execution_count": null,
   "metadata": {},
   "outputs": [],
   "source": [
    "# Filter the original DataFrame to include only rows where 'earnings_per_share' is not NaN\n",
    "df_with_earnings = anomalies_df[anomalies_df['earnings_per_share'].notna()]\n",
    "\n",
    "# Adding a constant term to the model (intercept) including the anomaly earnings per share\n",
    "X10 = anomalies_df[['name_price_attention', 'mkt_cap', 'daily_volatility', 'earnings_per_share']]\n",
    "X10 = sm.add_constant(X10) \n",
    "\n",
    "# Fit the OLS model\n",
    "model10 = sm.OLS(y, X10)\n",
    "m10_result = model6.fit()\n",
    "\n",
    "# Print the summary of the regression results\n",
    "print(m10_result.summary())"
   ]
  },
  {
   "cell_type": "markdown",
   "metadata": {},
   "source": [
    "### Trying OLS"
   ]
  },
  {
   "cell_type": "code",
   "execution_count": 100,
   "metadata": {},
   "outputs": [
    {
     "name": "stdout",
     "output_type": "stream",
     "text": [
      "                            OLS Regression Results                            \n",
      "==============================================================================\n",
      "Dep. Variable:                 return   R-squared:                       0.000\n",
      "Model:                            OLS   Adj. R-squared:                  0.000\n",
      "Method:                 Least Squares   F-statistic:                     9.507\n",
      "Date:                Sat, 02 Mar 2024   Prob (F-statistic):            0.00205\n",
      "Time:                        15:26:57   Log-Likelihood:             1.6768e+05\n",
      "No. Observations:               64008   AIC:                        -3.354e+05\n",
      "Df Residuals:                   64006   BIC:                        -3.353e+05\n",
      "Df Model:                           1                                         \n",
      "Covariance Type:            nonrobust                                         \n",
      "========================================================================================\n",
      "                           coef    std err          t      P>|t|      [0.025      0.975]\n",
      "----------------------------------------------------------------------------------------\n",
      "const                    0.0004   9.37e-05      4.460      0.000       0.000       0.001\n",
      "name_price_attention  1.396e-05   4.53e-06      3.083      0.002    5.09e-06    2.28e-05\n",
      "==============================================================================\n",
      "Omnibus:                    14558.916   Durbin-Watson:                   2.112\n",
      "Prob(Omnibus):                  0.000   Jarque-Bera (JB):           735702.006\n",
      "Skew:                           0.141   Prob(JB):                         0.00\n",
      "Kurtosis:                      19.606   Cond. No.                         27.9\n",
      "==============================================================================\n",
      "\n",
      "Notes:\n",
      "[1] Standard Errors assume that the covariance matrix of the errors is correctly specified.\n"
     ]
    }
   ],
   "source": [
    "import statsmodels.api as sm\n",
    "df2 = anomalies_df.copy()\n",
    "# Assuming df, response_column, and training_columns are already defined\n",
    "# Create the design matrix X\n",
    "#df2['pct_return_2'] = df[df['pct_return']]\n",
    "X = anomalies_df['name_price_attention']\n",
    "X = sm.add_constant(X)  # Add a constant term to the model (intercept)\n",
    "\n",
    "# Create the target variable y\n",
    "y = anomalies_df['return']\n",
    "\n",
    "# Fit the OLS model\n",
    "model = sm.OLS(y, X)\n",
    "result = model.fit()\n",
    "\n",
    "# Print the summary of the regression results\n",
    "print(result.summary())\n",
    "\n",
    "\n"
   ]
  },
  {
   "cell_type": "markdown",
   "metadata": {},
   "source": [
    "We see that the p-value of name_price_attention in "
   ]
  },
  {
   "cell_type": "code",
   "execution_count": 101,
   "metadata": {},
   "outputs": [
    {
     "data": {
      "image/png": "[encoded data removed]",
      "text/plain": [
       "<Figure size 640x480 with 1 Axes>"
      ]
     },
     "metadata": {},
     "output_type": "display_data"
    },
    {
     "data": {
      "image/png": "[encoded data removed]",
      "text/plain": [
       "<Figure size 640x480 with 1 Axes>"
      ]
     },
     "metadata": {},
     "output_type": "display_data"
    },
    {
     "data": {
      "image/png": "[encoded data removed]",
      "text/plain": [
       "<Figure size 640x480 with 1 Axes>"
      ]
     },
     "metadata": {},
     "output_type": "display_data"
    },
    {
     "data": {
      "image/png": "[encoded data removed]",
      "text/plain": [
       "<Figure size 640x480 with 1 Axes>"
      ]
     },
     "metadata": {},
     "output_type": "display_data"
    }
   ],
   "source": [
    "import statsmodels.api as sm\n",
    "import matplotlib.pyplot as plt\n",
    "import numpy as np\n",
    "\n",
    "# Assuming `model_fitted` is your fitted OLS model from `model.fit()`\n",
    "model_fitted = result  # Replace 'model' with your OLS model variable if it's named differently\n",
    "residuals = model_fitted.resid\n",
    "\n",
    "# Normal Q-Q plot\n",
    "fig = sm.qqplot(residuals, line='s')\n",
    "plt.title('Normal Q-Q')\n",
    "plt.show()\n",
    "\n",
    "# Residual plot for homoscedasticity\n",
    "plt.scatter(model_fitted.fittedvalues, residuals)\n",
    "plt.title('Residuals vs Fitted')\n",
    "plt.xlabel('Fitted values')\n",
    "plt.ylabel('Residuals')\n",
    "plt.axhline(y=0, color='red', linestyle='dashed')\n",
    "plt.show()\n",
    "\n",
    "# Scale-Location plot for homoscedasticity\n",
    "plt.scatter(model_fitted.fittedvalues, np.sqrt(np.abs(residuals)))\n",
    "plt.title('Scale-Location')\n",
    "plt.xlabel('Fitted values')\n",
    "plt.ylabel('Sqrt(|Residuals|)')\n",
    "plt.show()\n",
    "\n",
    "# Cook's distance plot for influence\n",
    "influence = model_fitted.get_influence()\n",
    "(c, p) = influence.cooks_distance\n",
    "plt.stem(np.arange(len(c)), c, markerfmt=\",\")\n",
    "plt.title(\"Cook's distance\")\n",
    "plt.xlabel('Observation index')\n",
    "plt.ylabel('Cook\\'s distance')\n",
    "plt.show()\n"
   ]
  },
  {
   "cell_type": "code",
   "execution_count": 102,
   "metadata": {},
   "outputs": [
    {
     "name": "stdout",
     "output_type": "stream",
     "text": [
      "                    Robust linear Model Regression Results                    \n",
      "==============================================================================\n",
      "Dep. Variable:                 return   No. Observations:                64008\n",
      "Model:                            RLM   Df Residuals:                    64006\n",
      "Method:                          IRLS   Df Model:                            1\n",
      "Norm:                          HuberT                                         \n",
      "Scale Est.:                       mad                                         \n",
      "Cov Type:                          H1                                         \n",
      "Date:                Sat, 02 Mar 2024                                         \n",
      "Time:                        15:27:02                                         \n",
      "No. Iterations:                    24                                         \n",
      "========================================================================================\n",
      "                           coef    std err          z      P>|z|      [0.025      0.975]\n",
      "----------------------------------------------------------------------------------------\n",
      "const                    0.0004    6.7e-05      6.456      0.000       0.000       0.001\n",
      "name_price_attention  1.833e-05   3.24e-06      5.661      0.000     1.2e-05    2.47e-05\n",
      "========================================================================================\n",
      "\n",
      "If the model instance has been used for another fit with different fit parameters, then the fit options might not be the correct ones anymore .\n"
     ]
    }
   ],
   "source": [
    "import statsmodels.api as sm\n",
    "\n",
    "# Assuming 'X' is your matrix of independent variables (with a constant added)\n",
    "# and 'y' is your dependent variable.\n",
    "\n",
    "# Add a constant to X if you haven't already done so\n",
    "X = sm.add_constant(X)\n",
    "\n",
    "# Create a robust linear model using Huber's T norm\n",
    "rlm_model = sm.RLM(y, X, M=sm.robust.norms.HuberT())\n",
    "\n",
    "# Fit the model\n",
    "rlm_results = rlm_model.fit()\n",
    "\n",
    "# Print the summary of the regression results\n",
    "print(rlm_results.summary())\n"
   ]
  },
  {
   "cell_type": "code",
   "execution_count": 34,
   "metadata": {},
   "outputs": [],
   "source": [
    "from sklearn.linear_model import Ridge, Lasso\n",
    "\n",
    "ridge = Ridge(alpha=1.0)  # Adjust alpha parameter\n",
    "ridge.fit(X_train, y_train)\n",
    "\n",
    "from sklearn.preprocessing import StandardScaler\n",
    "\n",
    "scaler = StandardScaler().fit(X_train) \n",
    "\n",
    "X_train = scaler.transform(X_train)\n",
    "\n",
    "X_test = scaler.transform(X_test)\n"
   ]
  },
  {
   "cell_type": "code",
   "execution_count": 35,
   "metadata": {},
   "outputs": [
    {
     "data": {
      "text/html": [
       "<style>#sk-container-id-1 {color: black;}#sk-container-id-1 pre{padding: 0;}#sk-container-id-1 div.sk-toggleable {background-color: white;}#sk-container-id-1 label.sk-toggleable__label {cursor: pointer;display: block;width: 100%;margin-bottom: 0;padding: 0.3em;box-sizing: border-box;text-align: center;}#sk-container-id-1 label.sk-toggleable__label-arrow:before {content: \"▸\";float: left;margin-right: 0.25em;color: #696969;}#sk-container-id-1 label.sk-toggleable__label-arrow:hover:before {color: black;}#sk-container-id-1 div.sk-estimator:hover label.sk-toggleable__label-arrow:before {color: black;}#sk-container-id-1 div.sk-toggleable__content {max-height: 0;max-width: 0;overflow: hidden;text-align: left;background-color: #f0f8ff;}#sk-container-id-1 div.sk-toggleable__content pre {margin: 0.2em;color: black;border-radius: 0.25em;background-color: #f0f8ff;}#sk-container-id-1 input.sk-toggleable__control:checked~div.sk-toggleable__content {max-height: 200px;max-width: 100%;overflow: auto;}#sk-container-id-1 input.sk-toggleable__control:checked~label.sk-toggleable__label-arrow:before {content: \"▾\";}#sk-container-id-1 div.sk-estimator input.sk-toggleable__control:checked~label.sk-toggleable__label {background-color: #d4ebff;}#sk-container-id-1 div.sk-label input.sk-toggleable__control:checked~label.sk-toggleable__label {background-color: #d4ebff;}#sk-container-id-1 input.sk-hidden--visually {border: 0;clip: rect(1px 1px 1px 1px);clip: rect(1px, 1px, 1px, 1px);height: 1px;margin: -1px;overflow: hidden;padding: 0;position: absolute;width: 1px;}#sk-container-id-1 div.sk-estimator {font-family: monospace;background-color: #f0f8ff;border: 1px dotted black;border-radius: 0.25em;box-sizing: border-box;margin-bottom: 0.5em;}#sk-container-id-1 div.sk-estimator:hover {background-color: #d4ebff;}#sk-container-id-1 div.sk-parallel-item::after {content: \"\";width: 100%;border-bottom: 1px solid gray;flex-grow: 1;}#sk-container-id-1 div.sk-label:hover label.sk-toggleable__label {background-color: #d4ebff;}#sk-container-id-1 div.sk-serial::before {content: \"\";position: absolute;border-left: 1px solid gray;box-sizing: border-box;top: 0;bottom: 0;left: 50%;z-index: 0;}#sk-container-id-1 div.sk-serial {display: flex;flex-direction: column;align-items: center;background-color: white;padding-right: 0.2em;padding-left: 0.2em;position: relative;}#sk-container-id-1 div.sk-item {position: relative;z-index: 1;}#sk-container-id-1 div.sk-parallel {display: flex;align-items: stretch;justify-content: center;background-color: white;position: relative;}#sk-container-id-1 div.sk-item::before, #sk-container-id-1 div.sk-parallel-item::before {content: \"\";position: absolute;border-left: 1px solid gray;box-sizing: border-box;top: 0;bottom: 0;left: 50%;z-index: -1;}#sk-container-id-1 div.sk-parallel-item {display: flex;flex-direction: column;z-index: 1;position: relative;background-color: white;}#sk-container-id-1 div.sk-parallel-item:first-child::after {align-self: flex-end;width: 50%;}#sk-container-id-1 div.sk-parallel-item:last-child::after {align-self: flex-start;width: 50%;}#sk-container-id-1 div.sk-parallel-item:only-child::after {width: 0;}#sk-container-id-1 div.sk-dashed-wrapped {border: 1px dashed gray;margin: 0 0.4em 0.5em 0.4em;box-sizing: border-box;padding-bottom: 0.4em;background-color: white;}#sk-container-id-1 div.sk-label label {font-family: monospace;font-weight: bold;display: inline-block;line-height: 1.2em;}#sk-container-id-1 div.sk-label-container {text-align: center;}#sk-container-id-1 div.sk-container {/* jupyter's `normalize.less` sets `[hidden] { display: none; }` but bootstrap.min.css set `[hidden] { display: none !important; }` so we also need the `!important` here to be able to override the default hidden behavior on the sphinx rendered scikit-learn.org. See: https://github.com/scikit-learn/scikit-learn/issues/21755 */display: inline-block !important;position: relative;}#sk-container-id-1 div.sk-text-repr-fallback {display: none;}</style><div id=\"sk-container-id-1\" class=\"sk-top-container\"><div class=\"sk-text-repr-fallback\"><pre>Ridge()</pre><b>In a Jupyter environment, please rerun this cell to show the HTML representation or trust the notebook. <br />On GitHub, the HTML representation is unable to render, please try loading this page with nbviewer.org.</b></div><div class=\"sk-container\" hidden><div class=\"sk-item\"><div class=\"sk-estimator sk-toggleable\"><input class=\"sk-toggleable__control sk-hidden--visually\" id=\"sk-estimator-id-1\" type=\"checkbox\" checked><label for=\"sk-estimator-id-1\" class=\"sk-toggleable__label sk-toggleable__label-arrow\">Ridge</label><div class=\"sk-toggleable__content\"><pre>Ridge()</pre></div></div></div></div></div>"
      ],
      "text/plain": [
       "Ridge()"
      ]
     },
     "execution_count": 35,
     "metadata": {},
     "output_type": "execute_result"
    }
   ],
   "source": [
    "\n",
    "ridge = Ridge(alpha=1.0)  # Adjust alpha parameter\n",
    "ridge.fit(X_train, y_train)\n"
   ]
  },
  {
   "cell_type": "code",
   "execution_count": 36,
   "metadata": {},
   "outputs": [
    {
     "name": "stdout",
     "output_type": "stream",
     "text": [
      "R squared training set 0.04\n",
      "R squared test set -0.12\n"
     ]
    }
   ],
   "source": [
    "print('R squared training set', round(ridge.score(X_train, y_train)*100, 2))\n",
    "print('R squared test set', round(ridge.score(X_test, y_test)*100, 2))\n"
   ]
  },
  {
   "cell_type": "code",
   "execution_count": 37,
   "metadata": {},
   "outputs": [
    {
     "name": "stdout",
     "output_type": "stream",
     "text": [
      "MSE training set 0.0\n",
      "MSE test set 0.0\n"
     ]
    }
   ],
   "source": [
    "from sklearn.metrics import mean_squared_error\n",
    "\n",
    "# Training data\n",
    "pred_train = ridge.predict(X_train)\n",
    "mse_train = mean_squared_error(y_train, pred_train)\n",
    "print('MSE training set', round(mse_train, 2))\n",
    "\n",
    "# Test data\n",
    "pred = ridge.predict(X_test)\n",
    "mse_test =mean_squared_error(y_test, pred)\n",
    "print('MSE test set', round(mse_test, 2))\n"
   ]
  },
  {
   "cell_type": "markdown",
   "metadata": {},
   "source": [
    "### Gradient Boost Regressor"
   ]
  },
  {
   "cell_type": "code",
   "execution_count": 38,
   "metadata": {},
   "outputs": [],
   "source": [
    "#splitting the data\n",
    "from sklearn.model_selection import train_test_split\n",
    "\n",
    "fix_seed = 32\n",
    "#X = df['name_price_attention']  # Extracting the feature\n",
    "X = df[['name_price_attention']]\n",
    "y = df['pct_return']\n",
    "\n",
    "\n",
    "X_train, X_test, y_train, y_test = train_test_split(X, y, test_size=0.2, random_state=fix_seed)"
   ]
  },
  {
   "cell_type": "code",
   "execution_count": 39,
   "metadata": {},
   "outputs": [
    {
     "data": {
      "text/html": [
       "<style>#sk-container-id-2 {color: black;}#sk-container-id-2 pre{padding: 0;}#sk-container-id-2 div.sk-toggleable {background-color: white;}#sk-container-id-2 label.sk-toggleable__label {cursor: pointer;display: block;width: 100%;margin-bottom: 0;padding: 0.3em;box-sizing: border-box;text-align: center;}#sk-container-id-2 label.sk-toggleable__label-arrow:before {content: \"▸\";float: left;margin-right: 0.25em;color: #696969;}#sk-container-id-2 label.sk-toggleable__label-arrow:hover:before {color: black;}#sk-container-id-2 div.sk-estimator:hover label.sk-toggleable__label-arrow:before {color: black;}#sk-container-id-2 div.sk-toggleable__content {max-height: 0;max-width: 0;overflow: hidden;text-align: left;background-color: #f0f8ff;}#sk-container-id-2 div.sk-toggleable__content pre {margin: 0.2em;color: black;border-radius: 0.25em;background-color: #f0f8ff;}#sk-container-id-2 input.sk-toggleable__control:checked~div.sk-toggleable__content {max-height: 200px;max-width: 100%;overflow: auto;}#sk-container-id-2 input.sk-toggleable__control:checked~label.sk-toggleable__label-arrow:before {content: \"▾\";}#sk-container-id-2 div.sk-estimator input.sk-toggleable__control:checked~label.sk-toggleable__label {background-color: #d4ebff;}#sk-container-id-2 div.sk-label input.sk-toggleable__control:checked~label.sk-toggleable__label {background-color: #d4ebff;}#sk-container-id-2 input.sk-hidden--visually {border: 0;clip: rect(1px 1px 1px 1px);clip: rect(1px, 1px, 1px, 1px);height: 1px;margin: -1px;overflow: hidden;padding: 0;position: absolute;width: 1px;}#sk-container-id-2 div.sk-estimator {font-family: monospace;background-color: #f0f8ff;border: 1px dotted black;border-radius: 0.25em;box-sizing: border-box;margin-bottom: 0.5em;}#sk-container-id-2 div.sk-estimator:hover {background-color: #d4ebff;}#sk-container-id-2 div.sk-parallel-item::after {content: \"\";width: 100%;border-bottom: 1px solid gray;flex-grow: 1;}#sk-container-id-2 div.sk-label:hover label.sk-toggleable__label {background-color: #d4ebff;}#sk-container-id-2 div.sk-serial::before {content: \"\";position: absolute;border-left: 1px solid gray;box-sizing: border-box;top: 0;bottom: 0;left: 50%;z-index: 0;}#sk-container-id-2 div.sk-serial {display: flex;flex-direction: column;align-items: center;background-color: white;padding-right: 0.2em;padding-left: 0.2em;position: relative;}#sk-container-id-2 div.sk-item {position: relative;z-index: 1;}#sk-container-id-2 div.sk-parallel {display: flex;align-items: stretch;justify-content: center;background-color: white;position: relative;}#sk-container-id-2 div.sk-item::before, #sk-container-id-2 div.sk-parallel-item::before {content: \"\";position: absolute;border-left: 1px solid gray;box-sizing: border-box;top: 0;bottom: 0;left: 50%;z-index: -1;}#sk-container-id-2 div.sk-parallel-item {display: flex;flex-direction: column;z-index: 1;position: relative;background-color: white;}#sk-container-id-2 div.sk-parallel-item:first-child::after {align-self: flex-end;width: 50%;}#sk-container-id-2 div.sk-parallel-item:last-child::after {align-self: flex-start;width: 50%;}#sk-container-id-2 div.sk-parallel-item:only-child::after {width: 0;}#sk-container-id-2 div.sk-dashed-wrapped {border: 1px dashed gray;margin: 0 0.4em 0.5em 0.4em;box-sizing: border-box;padding-bottom: 0.4em;background-color: white;}#sk-container-id-2 div.sk-label label {font-family: monospace;font-weight: bold;display: inline-block;line-height: 1.2em;}#sk-container-id-2 div.sk-label-container {text-align: center;}#sk-container-id-2 div.sk-container {/* jupyter's `normalize.less` sets `[hidden] { display: none; }` but bootstrap.min.css set `[hidden] { display: none !important; }` so we also need the `!important` here to be able to override the default hidden behavior on the sphinx rendered scikit-learn.org. See: https://github.com/scikit-learn/scikit-learn/issues/21755 */display: inline-block !important;position: relative;}#sk-container-id-2 div.sk-text-repr-fallback {display: none;}</style><div id=\"sk-container-id-2\" class=\"sk-top-container\"><div class=\"sk-text-repr-fallback\"><pre>GradientBoostingRegressor(random_state=32)</pre><b>In a Jupyter environment, please rerun this cell to show the HTML representation or trust the notebook. <br />On GitHub, the HTML representation is unable to render, please try loading this page with nbviewer.org.</b></div><div class=\"sk-container\" hidden><div class=\"sk-item\"><div class=\"sk-estimator sk-toggleable\"><input class=\"sk-toggleable__control sk-hidden--visually\" id=\"sk-estimator-id-2\" type=\"checkbox\" checked><label for=\"sk-estimator-id-2\" class=\"sk-toggleable__label sk-toggleable__label-arrow\">GradientBoostingRegressor</label><div class=\"sk-toggleable__content\"><pre>GradientBoostingRegressor(random_state=32)</pre></div></div></div></div></div>"
      ],
      "text/plain": [
       "GradientBoostingRegressor(random_state=32)"
      ]
     },
     "execution_count": 39,
     "metadata": {},
     "output_type": "execute_result"
    }
   ],
   "source": [
    "from sklearn.ensemble import GradientBoostingRegressor\n",
    "\n",
    "gb_regressor = GradientBoostingRegressor(n_estimators=100, learning_rate=0.1, random_state=fix_seed)\n",
    "gb_regressor.fit(X_train, y_train)\n"
   ]
  },
  {
   "cell_type": "code",
   "execution_count": 40,
   "metadata": {},
   "outputs": [
    {
     "name": "stdout",
     "output_type": "stream",
     "text": [
      "Mean Squared Error: 2.893335084713147\n"
     ]
    }
   ],
   "source": [
    "from sklearn.model_selection import cross_val_score\n",
    "\n",
    "y_pred = gb_regressor.predict(X_test)\n",
    "\n",
    "# Evaluate the model\n",
    "mse = mean_squared_error(y_test, y_pred)\n",
    "print(\"Mean Squared Error:\", mse)"
   ]
  },
  {
   "cell_type": "code",
   "execution_count": 41,
   "metadata": {},
   "outputs": [
    {
     "data": {
      "image/png": "[encoded data removed]",
      "text/plain": [
       "<Figure size 800x600 with 1 Axes>"
      ]
     },
     "metadata": {},
     "output_type": "display_data"
    }
   ],
   "source": [
    "import matplotlib.pyplot as plt\n",
    "\n",
    "# Plot observed versus predicted values\n",
    "plt.figure(figsize=(8, 6))\n",
    "plt.scatter(result.fittedvalues, y, color='blue', alpha=0.5)\n",
    "plt.plot(y, y, color='red', linestyle='--')  # Plotting the identity line (y = x)\n",
    "plt.title('Observed versus Predicted')\n",
    "plt.xlabel('Predicted Values')\n",
    "plt.ylabel('Observed Values')\n",
    "plt.grid(True)\n",
    "plt.show()\n"
   ]
  },
  {
   "cell_type": "markdown",
   "metadata": {},
   "source": [
    "From visualization and summary we can see that OLS is not a good fit - mostly for linear data and ours is non-linear"
   ]
  },
  {
   "cell_type": "code",
   "execution_count": null,
   "metadata": {},
   "outputs": [],
   "source": []
  },
  {
   "cell_type": "markdown",
   "metadata": {},
   "source": [
    "### 1 Polynomial Regression"
   ]
  },
  {
   "cell_type": "code",
   "execution_count": 42,
   "metadata": {},
   "outputs": [
    {
     "ename": "KeyError",
     "evalue": "('name_price_attention', 'ticker_attention')",
     "output_type": "error",
     "traceback": [
      "\u001b[0;31m---------------------------------------------------------------------------\u001b[0m",
      "\u001b[0;31mKeyError\u001b[0m                                  Traceback (most recent call last)",
      "File \u001b[0;32m~/anaconda3/lib/python3.11/site-packages/pandas/core/indexes/base.py:3653\u001b[0m, in \u001b[0;36mIndex.get_loc\u001b[0;34m(self, key)\u001b[0m\n\u001b[1;32m   3652\u001b[0m \u001b[38;5;28;01mtry\u001b[39;00m:\n\u001b[0;32m-> 3653\u001b[0m     \u001b[38;5;28;01mreturn\u001b[39;00m \u001b[38;5;28mself\u001b[39m\u001b[38;5;241m.\u001b[39m_engine\u001b[38;5;241m.\u001b[39mget_loc(casted_key)\n\u001b[1;32m   3654\u001b[0m \u001b[38;5;28;01mexcept\u001b[39;00m \u001b[38;5;167;01mKeyError\u001b[39;00m \u001b[38;5;28;01mas\u001b[39;00m err:\n",
      "File \u001b[0;32m~/anaconda3/lib/python3.11/site-packages/pandas/_libs/index.pyx:147\u001b[0m, in \u001b[0;36mpandas._libs.index.IndexEngine.get_loc\u001b[0;34m()\u001b[0m\n",
      "File \u001b[0;32m~/anaconda3/lib/python3.11/site-packages/pandas/_libs/index.pyx:176\u001b[0m, in \u001b[0;36mpandas._libs.index.IndexEngine.get_loc\u001b[0;34m()\u001b[0m\n",
      "File \u001b[0;32mpandas/_libs/hashtable_class_helper.pxi:7080\u001b[0m, in \u001b[0;36mpandas._libs.hashtable.PyObjectHashTable.get_item\u001b[0;34m()\u001b[0m\n",
      "File \u001b[0;32mpandas/_libs/hashtable_class_helper.pxi:7088\u001b[0m, in \u001b[0;36mpandas._libs.hashtable.PyObjectHashTable.get_item\u001b[0;34m()\u001b[0m\n",
      "\u001b[0;31mKeyError\u001b[0m: ('name_price_attention', 'ticker_attention')",
      "\nThe above exception was the direct cause of the following exception:\n",
      "\u001b[0;31mKeyError\u001b[0m                                  Traceback (most recent call last)",
      "Cell \u001b[0;32mIn[42], line 6\u001b[0m\n\u001b[1;32m      4\u001b[0m \u001b[38;5;66;03m# Assuming df, response_column, and training_columns are already defined\u001b[39;00m\n\u001b[1;32m      5\u001b[0m df2 \u001b[38;5;241m=\u001b[39m df\u001b[38;5;241m.\u001b[39mcopy()\n\u001b[0;32m----> 6\u001b[0m X \u001b[38;5;241m=\u001b[39m df2[\u001b[38;5;124m'\u001b[39m\u001b[38;5;124mname_price_attention\u001b[39m\u001b[38;5;124m'\u001b[39m, \u001b[38;5;124m'\u001b[39m\u001b[38;5;124mticker_attention\u001b[39m\u001b[38;5;124m'\u001b[39m]  \u001b[38;5;66;03m# Extracting the feature\u001b[39;00m\n\u001b[1;32m      7\u001b[0m y \u001b[38;5;241m=\u001b[39m df2[\u001b[38;5;124m'\u001b[39m\u001b[38;5;124mreturn\u001b[39m\u001b[38;5;124m'\u001b[39m]\n\u001b[1;32m      9\u001b[0m X \u001b[38;5;241m=\u001b[39m sm\u001b[38;5;241m.\u001b[39madd_constant(X)\n",
      "File \u001b[0;32m~/anaconda3/lib/python3.11/site-packages/pandas/core/frame.py:3761\u001b[0m, in \u001b[0;36mDataFrame.__getitem__\u001b[0;34m(self, key)\u001b[0m\n\u001b[1;32m   3759\u001b[0m \u001b[38;5;28;01mif\u001b[39;00m \u001b[38;5;28mself\u001b[39m\u001b[38;5;241m.\u001b[39mcolumns\u001b[38;5;241m.\u001b[39mnlevels \u001b[38;5;241m>\u001b[39m \u001b[38;5;241m1\u001b[39m:\n\u001b[1;32m   3760\u001b[0m     \u001b[38;5;28;01mreturn\u001b[39;00m \u001b[38;5;28mself\u001b[39m\u001b[38;5;241m.\u001b[39m_getitem_multilevel(key)\n\u001b[0;32m-> 3761\u001b[0m indexer \u001b[38;5;241m=\u001b[39m \u001b[38;5;28mself\u001b[39m\u001b[38;5;241m.\u001b[39mcolumns\u001b[38;5;241m.\u001b[39mget_loc(key)\n\u001b[1;32m   3762\u001b[0m \u001b[38;5;28;01mif\u001b[39;00m is_integer(indexer):\n\u001b[1;32m   3763\u001b[0m     indexer \u001b[38;5;241m=\u001b[39m [indexer]\n",
      "File \u001b[0;32m~/anaconda3/lib/python3.11/site-packages/pandas/core/indexes/base.py:3655\u001b[0m, in \u001b[0;36mIndex.get_loc\u001b[0;34m(self, key)\u001b[0m\n\u001b[1;32m   3653\u001b[0m     \u001b[38;5;28;01mreturn\u001b[39;00m \u001b[38;5;28mself\u001b[39m\u001b[38;5;241m.\u001b[39m_engine\u001b[38;5;241m.\u001b[39mget_loc(casted_key)\n\u001b[1;32m   3654\u001b[0m \u001b[38;5;28;01mexcept\u001b[39;00m \u001b[38;5;167;01mKeyError\u001b[39;00m \u001b[38;5;28;01mas\u001b[39;00m err:\n\u001b[0;32m-> 3655\u001b[0m     \u001b[38;5;28;01mraise\u001b[39;00m \u001b[38;5;167;01mKeyError\u001b[39;00m(key) \u001b[38;5;28;01mfrom\u001b[39;00m \u001b[38;5;21;01merr\u001b[39;00m\n\u001b[1;32m   3656\u001b[0m \u001b[38;5;28;01mexcept\u001b[39;00m \u001b[38;5;167;01mTypeError\u001b[39;00m:\n\u001b[1;32m   3657\u001b[0m     \u001b[38;5;66;03m# If we have a listlike key, _check_indexing_error will raise\u001b[39;00m\n\u001b[1;32m   3658\u001b[0m     \u001b[38;5;66;03m#  InvalidIndexError. Otherwise we fall through and re-raise\u001b[39;00m\n\u001b[1;32m   3659\u001b[0m     \u001b[38;5;66;03m#  the TypeError.\u001b[39;00m\n\u001b[1;32m   3660\u001b[0m     \u001b[38;5;28mself\u001b[39m\u001b[38;5;241m.\u001b[39m_check_indexing_error(key)\n",
      "\u001b[0;31mKeyError\u001b[0m: ('name_price_attention', 'ticker_attention')"
     ]
    }
   ],
   "source": [
    "import statsmodels.api as sm\n",
    "import numpy as np\n",
    "\n",
    "# Assuming df, response_column, and training_columns are already defined\n",
    "df2 = df.copy()\n",
    "X = df2['name_price_attention', 'ticker_attention']  # Extracting the feature\n",
    "y = df2['return']\n",
    "\n",
    "X = sm.add_constant(X)\n",
    "X['attention_squared'] = X['name_price_attention'] ** 2\n",
    "model = sm.OLS(y,X)\n",
    "poly_model = model.fit()\n",
    "print(poly_model.summary())\n"
   ]
  },
  {
   "cell_type": "markdown",
   "metadata": {},
   "source": [
    "### 2. Generalized Additive Models (GAM):\n"
   ]
  },
  {
   "cell_type": "code",
   "execution_count": null,
   "metadata": {},
   "outputs": [
    {
     "name": "stdout",
     "output_type": "stream",
     "text": [
      "                 Generalized Linear Model Regression Results                  \n",
      "==============================================================================\n",
      "Dep. Variable:             pct_return   No. Observations:                64008\n",
      "Model:                            GLM   Df Residuals:                    64007\n",
      "Model Family:                Gaussian   Df Model:                            0\n",
      "Link Function:               Identity   Scale:                          3.1062\n",
      "Method:                          IRLS   Log-Likelihood:            -1.2710e+05\n",
      "Date:                Wed, 28 Feb 2024   Deviance:                   1.9882e+05\n",
      "Time:                        17:24:40   Pearson chi2:                 1.99e+05\n",
      "No. Iterations:                     3   Pseudo R-squ. (CS):         -0.0001622\n",
      "Covariance Type:            nonrobust                                         \n",
      "========================================================================================\n",
      "                           coef    std err          z      P>|z|      [0.025      0.975]\n",
      "----------------------------------------------------------------------------------------\n",
      "name_price_attention     0.0027      0.000      8.161      0.000       0.002       0.003\n",
      "========================================================================================\n"
     ]
    }
   ],
   "source": [
    "import statsmodels.api as sm\n",
    "\n",
    "# Assuming df, response_column, and training_columns are already defined\n",
    "\n",
    "# Fit GAM model\n",
    "gam_model = sm.GLM(y, X, family=sm.families.Gaussian()).fit()\n",
    "\n",
    "# Print summary\n",
    "print(gam_model.summary())\n"
   ]
  },
  {
   "cell_type": "markdown",
   "metadata": {},
   "source": [
    "### 3. Nonlinear Least Squares (NLS): (Using LOWESS as an example)\n"
   ]
  },
  {
   "cell_type": "code",
   "execution_count": null,
   "metadata": {},
   "outputs": [
    {
     "name": "stdout",
     "output_type": "stream",
     "text": [
      "Parameter estimates:\n",
      "a: -0.0680243333213499\n",
      "b: 0.05660142901558837\n",
      "c: 0.10150841046372718\n",
      "[[ 0.0010105   0.00143246 -0.00095267]\n",
      " [ 0.00143246  0.0036397  -0.00174575]\n",
      " [-0.00095267 -0.00174575  0.00104376]]\n"
     ]
    }
   ],
   "source": [
    "import numpy as np\n",
    "from scipy.optimize import curve_fit\n",
    "\n",
    "# Define the model function\n",
    "def model_func(x, a, b, c):\n",
    "    return a * np.exp(-b * x) + c\n",
    "\n",
    "# Fit the model to the data\n",
    "params, covariance = curve_fit(model_func, X, y)\n",
    "\n",
    "# Extract the parameter estimates\n",
    "a_fit, b_fit, c_fit = params\n",
    "\n",
    "# Print the parameter estimates\n",
    "print(\"Parameter estimates:\")\n",
    "print(\"a:\", a_fit)\n",
    "print(\"b:\", b_fit)\n",
    "print(\"c:\", c_fit)\n",
    "print(covariance)\n"
   ]
  },
  {
   "cell_type": "markdown",
   "metadata": {},
   "source": [
    "### 4. Generalized Linear Models (GLM):"
   ]
  },
  {
   "cell_type": "code",
   "execution_count": null,
   "metadata": {},
   "outputs": [],
   "source": [
    "import statsmodels.api as sm\n",
    "\n",
    "# Assuming df, response_column, and training_columns are already defined\n",
    "\n",
    "X = sm.add_constant(df[training_columns])  # Include constant term\n",
    "y = df[response_column]\n",
    "\n",
    "# Fit GLM model (e.g., with a gamma distribution and log link function)\n",
    "glm_model = sm.GLM(y, X, family=sm.families.Gamma()).fit()\n",
    "\n",
    "# Print summary\n",
    "print(glm_model.summary())\n"
   ]
  },
  {
   "cell_type": "markdown",
   "metadata": {},
   "source": [
    "### Medium trying to determine using shape "
   ]
  },
  {
   "cell_type": "code",
   "execution_count": null,
   "metadata": {},
   "outputs": [
    {
     "data": {
      "text/html": [
       "<div>\n",
       "<style scoped>\n",
       "    .dataframe tbody tr th:only-of-type {\n",
       "        vertical-align: middle;\n",
       "    }\n",
       "\n",
       "    .dataframe tbody tr th {\n",
       "        vertical-align: top;\n",
       "    }\n",
       "\n",
       "    .dataframe thead th {\n",
       "        text-align: right;\n",
       "    }\n",
       "</style>\n",
       "<table border=\"1\" class=\"dataframe\">\n",
       "  <thead>\n",
       "    <tr style=\"text-align: right;\">\n",
       "      <th></th>\n",
       "      <th>date</th>\n",
       "      <th>return</th>\n",
       "    </tr>\n",
       "  </thead>\n",
       "  <tbody>\n",
       "    <tr>\n",
       "      <th>0</th>\n",
       "      <td>2014-01-02</td>\n",
       "      <td>-0.006683</td>\n",
       "    </tr>\n",
       "    <tr>\n",
       "      <th>1</th>\n",
       "      <td>2014-01-03</td>\n",
       "      <td>-0.006728</td>\n",
       "    </tr>\n",
       "    <tr>\n",
       "      <th>2</th>\n",
       "      <td>2014-01-06</td>\n",
       "      <td>-0.021133</td>\n",
       "    </tr>\n",
       "    <tr>\n",
       "      <th>3</th>\n",
       "      <td>2014-01-07</td>\n",
       "      <td>0.007750</td>\n",
       "    </tr>\n",
       "    <tr>\n",
       "      <th>4</th>\n",
       "      <td>2014-01-08</td>\n",
       "      <td>-0.017852</td>\n",
       "    </tr>\n",
       "  </tbody>\n",
       "</table>\n",
       "</div>"
      ],
      "text/plain": [
       "         date    return\n",
       "0  2014-01-02 -0.006683\n",
       "1  2014-01-03 -0.006728\n",
       "2  2014-01-06 -0.021133\n",
       "3  2014-01-07  0.007750\n",
       "4  2014-01-08 -0.017852"
      ]
     },
     "execution_count": 16,
     "metadata": {},
     "output_type": "execute_result"
    }
   ],
   "source": [
    "import numpy as np\n",
    "import matplotlib.pyplot as plt\n",
    "import seaborn as sns\n",
    "%matplotlib inline\n",
    "medium_trial = df[['date', 'return']]\n",
    "\n",
    "medium_trial.head()"
   ]
  },
  {
   "cell_type": "code",
   "execution_count": null,
   "metadata": {},
   "outputs": [
    {
     "data": {
      "image/png": "[encoded data removed]",
      "text/plain": [
       "<Figure size 800x500 with 1 Axes>"
      ]
     },
     "metadata": {},
     "output_type": "display_data"
    }
   ],
   "source": [
    "plt.figure(figsize=(8,5))\n",
    "x_data, y_data = (medium_trial[\"date\"].values, medium_trial[\"return\"].values)\n",
    "plt.plot(x_data, y_data, 'ro')\n",
    "plt.ylabel('return')\n",
    "plt.xlabel('Year')\n",
    "plt.show()"
   ]
  },
  {
   "cell_type": "markdown",
   "metadata": {},
   "source": [
    "### RandomForest"
   ]
  },
  {
   "cell_type": "code",
   "execution_count": null,
   "metadata": {},
   "outputs": [
    {
     "data": {
      "text/plain": [
       "pandas.core.frame.DataFrame"
      ]
     },
     "execution_count": 102,
     "metadata": {},
     "output_type": "execute_result"
    }
   ],
   "source": [
    "#splitting the data\n",
    "from sklearn.model_selection import train_test_split\n",
    "\n",
    "fix_seed = 32\n",
    "#X = df['name_price_attention']  # Extracting the feature\n",
    "X = df[['name_price_attention']]\n",
    "y = df['return']\n",
    "\n",
    "\n",
    "X_train, X_test, y_train, y_test = train_test_split(X, y, test_size=0.2, random_state=fix_seed)\n",
    "type(X)"
   ]
  },
  {
   "cell_type": "code",
   "execution_count": null,
   "metadata": {},
   "outputs": [
    {
     "name": "stdout",
     "output_type": "stream",
     "text": [
      "       name_price_attention\n",
      "37310                 27.30\n",
      "38848                 24.08\n",
      "57949                 13.64\n",
      "24082                  8.64\n",
      "13844                  0.00\n",
      "...                     ...\n",
      "20414                 21.12\n",
      "60284                  5.00\n",
      "9526                   1.65\n",
      "42539                 26.65\n",
      "10967                 27.28\n",
      "\n",
      "[51206 rows x 1 columns]\n"
     ]
    }
   ],
   "source": [
    "print(X_train)"
   ]
  },
  {
   "cell_type": "code",
   "execution_count": null,
   "metadata": {},
   "outputs": [],
   "source": [
    "rf_regressor = RandomForestRegressor(random_state=fix_seed)\n"
   ]
  },
  {
   "cell_type": "code",
   "execution_count": null,
   "metadata": {},
   "outputs": [],
   "source": [
    "rf_regressor.fit(X_train, y_train)\n",
    "y_pred = rf_regressor.predict(X_test)\n"
   ]
  },
  {
   "cell_type": "code",
   "execution_count": null,
   "metadata": {},
   "outputs": [
    {
     "name": "stdout",
     "output_type": "stream",
     "text": [
      "0.00031257620437574084\n"
     ]
    }
   ],
   "source": [
    "#Statistical Testing\n",
    "\n",
    "#Mean Squared Error (MSE): It measures the average squared difference between the predicted values and the actual values. Lower values indicate better model performance.\n",
    "\n",
    "from sklearn.metrics import mean_squared_error\n",
    "mse = mean_squared_error(y_test, y_pred)\n",
    "print(mse)"
   ]
  },
  {
   "cell_type": "code",
   "execution_count": null,
   "metadata": {},
   "outputs": [
    {
     "name": "stdout",
     "output_type": "stream",
     "text": [
      "-0.08497269005853236\n"
     ]
    }
   ],
   "source": [
    "#R-squared (Coefficient of Determination): It represents the proportion of variance in the dependent variable that is predictable from the independent variables. It ranges from 0 to 1, where 1 indicates a perfect fit.\n",
    "\n",
    "from sklearn.metrics import r2_score\n",
    "r_squared = r2_score(y_test, y_pred)\n",
    "print(r_squared)"
   ]
  },
  {
   "cell_type": "code",
   "execution_count": null,
   "metadata": {},
   "outputs": [
    {
     "name": "stdout",
     "output_type": "stream",
     "text": [
      "[1.]\n"
     ]
    }
   ],
   "source": [
    "#Feature Importance: The RandomForestRegressor provides feature importances, which represent the relative importance of each feature in predicting the target variable.\n",
    "\n",
    "importances = rf_regressor.feature_importances_\n",
    "print(importances)"
   ]
  },
  {
   "cell_type": "code",
   "execution_count": null,
   "metadata": {},
   "outputs": [],
   "source": [
    "#Residual Analysis: Analyzing the residuals (the differences between predicted and actual values) can provide insights into model performance and uncover patterns or trends that the model may have missed.\n",
    "\n",
    "residuals = y_test - y_pred\n"
   ]
  },
  {
   "cell_type": "code",
   "execution_count": null,
   "metadata": {},
   "outputs": [
    {
     "name": "stdout",
     "output_type": "stream",
     "text": [
      "0.01166923092272298\n"
     ]
    }
   ],
   "source": [
    "#Mean Absolute Error (MAE): It measures the average absolute difference between the predicted values and the actual values.\n",
    "\n",
    "from sklearn.metrics import mean_absolute_error\n",
    "mae = mean_absolute_error(y_test, y_pred)\n",
    "print(mae)"
   ]
  },
  {
   "cell_type": "code",
   "execution_count": null,
   "metadata": {},
   "outputs": [
    {
     "data": {
      "image/png": "[encoded data removed]",
      "text/plain": [
       "<Figure size 640x480 with 1 Axes>"
      ]
     },
     "metadata": {},
     "output_type": "display_data"
    }
   ],
   "source": [
    "import matplotlib.pyplot as plt\n",
    "plt.scatter(y_test, y_pred)\n",
    "plt.xlabel(\"Actual Values\")\n",
    "plt.ylabel(\"Predicted Values\")\n",
    "plt.title(\"Actual vs. Predicted Values\")\n",
    "plt.show()\n"
   ]
  },
  {
   "cell_type": "code",
   "execution_count": null,
   "metadata": {},
   "outputs": [
    {
     "ename": "ValueError",
     "evalue": "Expected a 2-dimensional container but got <class 'pandas.core.series.Series'> instead. Pass a DataFrame containing a single row (i.e. single sample) or a single column (i.e. single feature) instead.",
     "output_type": "error",
     "traceback": [
      "\u001b[0;31m---------------------------------------------------------------------------\u001b[0m",
      "\u001b[0;31mValueError\u001b[0m                                Traceback (most recent call last)",
      "Cell \u001b[0;32mIn[54], line 6\u001b[0m\n\u001b[1;32m      3\u001b[0m \u001b[38;5;66;03m#X, y = make_regression(n_features=4, n_informative=2,\u001b[39;00m\n\u001b[1;32m      4\u001b[0m \u001b[38;5;66;03m#                       random_state=0, shuffle=False)\u001b[39;00m\n\u001b[1;32m      5\u001b[0m regr \u001b[38;5;241m=\u001b[39m RandomForestRegressor(random_state\u001b[38;5;241m=\u001b[39mfix_seed)\n\u001b[0;32m----> 6\u001b[0m \u001b[43mregr\u001b[49m\u001b[38;5;241;43m.\u001b[39;49m\u001b[43mfit\u001b[49m\u001b[43m(\u001b[49m\u001b[43mX\u001b[49m\u001b[43m,\u001b[49m\u001b[43m \u001b[49m\u001b[43my\u001b[49m\u001b[43m)\u001b[49m\n\u001b[1;32m      7\u001b[0m importances \u001b[38;5;241m=\u001b[39m regr\u001b[38;5;241m.\u001b[39mfeature_importances_\n\u001b[1;32m     10\u001b[0m \u001b[38;5;66;03m# Evaluate the model\u001b[39;00m\n\u001b[1;32m     11\u001b[0m \u001b[38;5;66;03m#mse = mean_squared_error(y_test, y_pred)\u001b[39;00m\n",
      "File \u001b[0;32m/usr/local/lib/python3.11/site-packages/sklearn/base.py:1351\u001b[0m, in \u001b[0;36m_fit_context.<locals>.decorator.<locals>.wrapper\u001b[0;34m(estimator, *args, **kwargs)\u001b[0m\n\u001b[1;32m   1344\u001b[0m     estimator\u001b[38;5;241m.\u001b[39m_validate_params()\n\u001b[1;32m   1346\u001b[0m \u001b[38;5;28;01mwith\u001b[39;00m config_context(\n\u001b[1;32m   1347\u001b[0m     skip_parameter_validation\u001b[38;5;241m=\u001b[39m(\n\u001b[1;32m   1348\u001b[0m         prefer_skip_nested_validation \u001b[38;5;129;01mor\u001b[39;00m global_skip_validation\n\u001b[1;32m   1349\u001b[0m     )\n\u001b[1;32m   1350\u001b[0m ):\n\u001b[0;32m-> 1351\u001b[0m     \u001b[38;5;28;01mreturn\u001b[39;00m \u001b[43mfit_method\u001b[49m\u001b[43m(\u001b[49m\u001b[43mestimator\u001b[49m\u001b[43m,\u001b[49m\u001b[43m \u001b[49m\u001b[38;5;241;43m*\u001b[39;49m\u001b[43margs\u001b[49m\u001b[43m,\u001b[49m\u001b[43m \u001b[49m\u001b[38;5;241;43m*\u001b[39;49m\u001b[38;5;241;43m*\u001b[39;49m\u001b[43mkwargs\u001b[49m\u001b[43m)\u001b[49m\n",
      "File \u001b[0;32m/usr/local/lib/python3.11/site-packages/sklearn/ensemble/_forest.py:363\u001b[0m, in \u001b[0;36mBaseForest.fit\u001b[0;34m(self, X, y, sample_weight)\u001b[0m\n\u001b[1;32m    360\u001b[0m \u001b[38;5;28;01mif\u001b[39;00m issparse(y):\n\u001b[1;32m    361\u001b[0m     \u001b[38;5;28;01mraise\u001b[39;00m \u001b[38;5;167;01mValueError\u001b[39;00m(\u001b[38;5;124m\"\u001b[39m\u001b[38;5;124msparse multilabel-indicator for y is not supported.\u001b[39m\u001b[38;5;124m\"\u001b[39m)\n\u001b[0;32m--> 363\u001b[0m X, y \u001b[38;5;241m=\u001b[39m \u001b[38;5;28;43mself\u001b[39;49m\u001b[38;5;241;43m.\u001b[39;49m\u001b[43m_validate_data\u001b[49m\u001b[43m(\u001b[49m\n\u001b[1;32m    364\u001b[0m \u001b[43m    \u001b[49m\u001b[43mX\u001b[49m\u001b[43m,\u001b[49m\n\u001b[1;32m    365\u001b[0m \u001b[43m    \u001b[49m\u001b[43my\u001b[49m\u001b[43m,\u001b[49m\n\u001b[1;32m    366\u001b[0m \u001b[43m    \u001b[49m\u001b[43mmulti_output\u001b[49m\u001b[38;5;241;43m=\u001b[39;49m\u001b[38;5;28;43;01mTrue\u001b[39;49;00m\u001b[43m,\u001b[49m\n\u001b[1;32m    367\u001b[0m \u001b[43m    \u001b[49m\u001b[43maccept_sparse\u001b[49m\u001b[38;5;241;43m=\u001b[39;49m\u001b[38;5;124;43m\"\u001b[39;49m\u001b[38;5;124;43mcsc\u001b[39;49m\u001b[38;5;124;43m\"\u001b[39;49m\u001b[43m,\u001b[49m\n\u001b[1;32m    368\u001b[0m \u001b[43m    \u001b[49m\u001b[43mdtype\u001b[49m\u001b[38;5;241;43m=\u001b[39;49m\u001b[43mDTYPE\u001b[49m\u001b[43m,\u001b[49m\n\u001b[1;32m    369\u001b[0m \u001b[43m    \u001b[49m\u001b[43mforce_all_finite\u001b[49m\u001b[38;5;241;43m=\u001b[39;49m\u001b[38;5;28;43;01mFalse\u001b[39;49;00m\u001b[43m,\u001b[49m\n\u001b[1;32m    370\u001b[0m \u001b[43m\u001b[49m\u001b[43m)\u001b[49m\n\u001b[1;32m    371\u001b[0m \u001b[38;5;66;03m# _compute_missing_values_in_feature_mask checks if X has missing values and\u001b[39;00m\n\u001b[1;32m    372\u001b[0m \u001b[38;5;66;03m# will raise an error if the underlying tree base estimator can't handle missing\u001b[39;00m\n\u001b[1;32m    373\u001b[0m \u001b[38;5;66;03m# values. Only the criterion is required to determine if the tree supports\u001b[39;00m\n\u001b[1;32m    374\u001b[0m \u001b[38;5;66;03m# missing values.\u001b[39;00m\n\u001b[1;32m    375\u001b[0m estimator \u001b[38;5;241m=\u001b[39m \u001b[38;5;28mtype\u001b[39m(\u001b[38;5;28mself\u001b[39m\u001b[38;5;241m.\u001b[39mestimator)(criterion\u001b[38;5;241m=\u001b[39m\u001b[38;5;28mself\u001b[39m\u001b[38;5;241m.\u001b[39mcriterion)\n",
      "File \u001b[0;32m/usr/local/lib/python3.11/site-packages/sklearn/base.py:650\u001b[0m, in \u001b[0;36mBaseEstimator._validate_data\u001b[0;34m(self, X, y, reset, validate_separately, cast_to_ndarray, **check_params)\u001b[0m\n\u001b[1;32m    648\u001b[0m         y \u001b[38;5;241m=\u001b[39m check_array(y, input_name\u001b[38;5;241m=\u001b[39m\u001b[38;5;124m\"\u001b[39m\u001b[38;5;124my\u001b[39m\u001b[38;5;124m\"\u001b[39m, \u001b[38;5;241m*\u001b[39m\u001b[38;5;241m*\u001b[39mcheck_y_params)\n\u001b[1;32m    649\u001b[0m     \u001b[38;5;28;01melse\u001b[39;00m:\n\u001b[0;32m--> 650\u001b[0m         X, y \u001b[38;5;241m=\u001b[39m \u001b[43mcheck_X_y\u001b[49m\u001b[43m(\u001b[49m\u001b[43mX\u001b[49m\u001b[43m,\u001b[49m\u001b[43m \u001b[49m\u001b[43my\u001b[49m\u001b[43m,\u001b[49m\u001b[43m \u001b[49m\u001b[38;5;241;43m*\u001b[39;49m\u001b[38;5;241;43m*\u001b[39;49m\u001b[43mcheck_params\u001b[49m\u001b[43m)\u001b[49m\n\u001b[1;32m    651\u001b[0m     out \u001b[38;5;241m=\u001b[39m X, y\n\u001b[1;32m    653\u001b[0m \u001b[38;5;28;01mif\u001b[39;00m \u001b[38;5;129;01mnot\u001b[39;00m no_val_X \u001b[38;5;129;01mand\u001b[39;00m check_params\u001b[38;5;241m.\u001b[39mget(\u001b[38;5;124m\"\u001b[39m\u001b[38;5;124mensure_2d\u001b[39m\u001b[38;5;124m\"\u001b[39m, \u001b[38;5;28;01mTrue\u001b[39;00m):\n",
      "File \u001b[0;32m/usr/local/lib/python3.11/site-packages/sklearn/utils/validation.py:1192\u001b[0m, in \u001b[0;36mcheck_X_y\u001b[0;34m(X, y, accept_sparse, accept_large_sparse, dtype, order, copy, force_all_finite, ensure_2d, allow_nd, multi_output, ensure_min_samples, ensure_min_features, y_numeric, estimator)\u001b[0m\n\u001b[1;32m   1187\u001b[0m         estimator_name \u001b[38;5;241m=\u001b[39m _check_estimator_name(estimator)\n\u001b[1;32m   1188\u001b[0m     \u001b[38;5;28;01mraise\u001b[39;00m \u001b[38;5;167;01mValueError\u001b[39;00m(\n\u001b[1;32m   1189\u001b[0m         \u001b[38;5;124mf\u001b[39m\u001b[38;5;124m\"\u001b[39m\u001b[38;5;132;01m{\u001b[39;00mestimator_name\u001b[38;5;132;01m}\u001b[39;00m\u001b[38;5;124m requires y to be passed, but the target y is None\u001b[39m\u001b[38;5;124m\"\u001b[39m\n\u001b[1;32m   1190\u001b[0m     )\n\u001b[0;32m-> 1192\u001b[0m X \u001b[38;5;241m=\u001b[39m \u001b[43mcheck_array\u001b[49m\u001b[43m(\u001b[49m\n\u001b[1;32m   1193\u001b[0m \u001b[43m    \u001b[49m\u001b[43mX\u001b[49m\u001b[43m,\u001b[49m\n\u001b[1;32m   1194\u001b[0m \u001b[43m    \u001b[49m\u001b[43maccept_sparse\u001b[49m\u001b[38;5;241;43m=\u001b[39;49m\u001b[43maccept_sparse\u001b[49m\u001b[43m,\u001b[49m\n\u001b[1;32m   1195\u001b[0m \u001b[43m    \u001b[49m\u001b[43maccept_large_sparse\u001b[49m\u001b[38;5;241;43m=\u001b[39;49m\u001b[43maccept_large_sparse\u001b[49m\u001b[43m,\u001b[49m\n\u001b[1;32m   1196\u001b[0m \u001b[43m    \u001b[49m\u001b[43mdtype\u001b[49m\u001b[38;5;241;43m=\u001b[39;49m\u001b[43mdtype\u001b[49m\u001b[43m,\u001b[49m\n\u001b[1;32m   1197\u001b[0m \u001b[43m    \u001b[49m\u001b[43morder\u001b[49m\u001b[38;5;241;43m=\u001b[39;49m\u001b[43morder\u001b[49m\u001b[43m,\u001b[49m\n\u001b[1;32m   1198\u001b[0m \u001b[43m    \u001b[49m\u001b[43mcopy\u001b[49m\u001b[38;5;241;43m=\u001b[39;49m\u001b[43mcopy\u001b[49m\u001b[43m,\u001b[49m\n\u001b[1;32m   1199\u001b[0m \u001b[43m    \u001b[49m\u001b[43mforce_all_finite\u001b[49m\u001b[38;5;241;43m=\u001b[39;49m\u001b[43mforce_all_finite\u001b[49m\u001b[43m,\u001b[49m\n\u001b[1;32m   1200\u001b[0m \u001b[43m    \u001b[49m\u001b[43mensure_2d\u001b[49m\u001b[38;5;241;43m=\u001b[39;49m\u001b[43mensure_2d\u001b[49m\u001b[43m,\u001b[49m\n\u001b[1;32m   1201\u001b[0m \u001b[43m    \u001b[49m\u001b[43mallow_nd\u001b[49m\u001b[38;5;241;43m=\u001b[39;49m\u001b[43mallow_nd\u001b[49m\u001b[43m,\u001b[49m\n\u001b[1;32m   1202\u001b[0m \u001b[43m    \u001b[49m\u001b[43mensure_min_samples\u001b[49m\u001b[38;5;241;43m=\u001b[39;49m\u001b[43mensure_min_samples\u001b[49m\u001b[43m,\u001b[49m\n\u001b[1;32m   1203\u001b[0m \u001b[43m    \u001b[49m\u001b[43mensure_min_features\u001b[49m\u001b[38;5;241;43m=\u001b[39;49m\u001b[43mensure_min_features\u001b[49m\u001b[43m,\u001b[49m\n\u001b[1;32m   1204\u001b[0m \u001b[43m    \u001b[49m\u001b[43mestimator\u001b[49m\u001b[38;5;241;43m=\u001b[39;49m\u001b[43mestimator\u001b[49m\u001b[43m,\u001b[49m\n\u001b[1;32m   1205\u001b[0m \u001b[43m    \u001b[49m\u001b[43minput_name\u001b[49m\u001b[38;5;241;43m=\u001b[39;49m\u001b[38;5;124;43m\"\u001b[39;49m\u001b[38;5;124;43mX\u001b[39;49m\u001b[38;5;124;43m\"\u001b[39;49m\u001b[43m,\u001b[49m\n\u001b[1;32m   1206\u001b[0m \u001b[43m\u001b[49m\u001b[43m)\u001b[49m\n\u001b[1;32m   1208\u001b[0m y \u001b[38;5;241m=\u001b[39m _check_y(y, multi_output\u001b[38;5;241m=\u001b[39mmulti_output, y_numeric\u001b[38;5;241m=\u001b[39my_numeric, estimator\u001b[38;5;241m=\u001b[39mestimator)\n\u001b[1;32m   1210\u001b[0m check_consistent_length(X, y)\n",
      "File \u001b[0;32m/usr/local/lib/python3.11/site-packages/sklearn/utils/validation.py:989\u001b[0m, in \u001b[0;36mcheck_array\u001b[0;34m(array, accept_sparse, accept_large_sparse, dtype, order, copy, force_all_finite, ensure_2d, allow_nd, ensure_min_samples, ensure_min_features, estimator, input_name)\u001b[0m\n\u001b[1;32m    982\u001b[0m         \u001b[38;5;28;01melse\u001b[39;00m:\n\u001b[1;32m    983\u001b[0m             msg \u001b[38;5;241m=\u001b[39m (\n\u001b[1;32m    984\u001b[0m                 \u001b[38;5;124mf\u001b[39m\u001b[38;5;124m\"\u001b[39m\u001b[38;5;124mExpected 2D array, got 1D array instead:\u001b[39m\u001b[38;5;130;01m\\n\u001b[39;00m\u001b[38;5;124marray=\u001b[39m\u001b[38;5;132;01m{\u001b[39;00marray\u001b[38;5;132;01m}\u001b[39;00m\u001b[38;5;124m.\u001b[39m\u001b[38;5;130;01m\\n\u001b[39;00m\u001b[38;5;124m\"\u001b[39m\n\u001b[1;32m    985\u001b[0m                 \u001b[38;5;124m\"\u001b[39m\u001b[38;5;124mReshape your data either using array.reshape(-1, 1) if \u001b[39m\u001b[38;5;124m\"\u001b[39m\n\u001b[1;32m    986\u001b[0m                 \u001b[38;5;124m\"\u001b[39m\u001b[38;5;124myour data has a single feature or array.reshape(1, -1) \u001b[39m\u001b[38;5;124m\"\u001b[39m\n\u001b[1;32m    987\u001b[0m                 \u001b[38;5;124m\"\u001b[39m\u001b[38;5;124mif it contains a single sample.\u001b[39m\u001b[38;5;124m\"\u001b[39m\n\u001b[1;32m    988\u001b[0m             )\n\u001b[0;32m--> 989\u001b[0m         \u001b[38;5;28;01mraise\u001b[39;00m \u001b[38;5;167;01mValueError\u001b[39;00m(msg)\n\u001b[1;32m    991\u001b[0m \u001b[38;5;28;01mif\u001b[39;00m dtype_numeric \u001b[38;5;129;01mand\u001b[39;00m \u001b[38;5;28mhasattr\u001b[39m(array\u001b[38;5;241m.\u001b[39mdtype, \u001b[38;5;124m\"\u001b[39m\u001b[38;5;124mkind\u001b[39m\u001b[38;5;124m\"\u001b[39m) \u001b[38;5;129;01mand\u001b[39;00m array\u001b[38;5;241m.\u001b[39mdtype\u001b[38;5;241m.\u001b[39mkind \u001b[38;5;129;01min\u001b[39;00m \u001b[38;5;124m\"\u001b[39m\u001b[38;5;124mUSV\u001b[39m\u001b[38;5;124m\"\u001b[39m:\n\u001b[1;32m    992\u001b[0m     \u001b[38;5;28;01mraise\u001b[39;00m \u001b[38;5;167;01mValueError\u001b[39;00m(\n\u001b[1;32m    993\u001b[0m         \u001b[38;5;124m\"\u001b[39m\u001b[38;5;124mdtype=\u001b[39m\u001b[38;5;124m'\u001b[39m\u001b[38;5;124mnumeric\u001b[39m\u001b[38;5;124m'\u001b[39m\u001b[38;5;124m is not compatible with arrays of bytes/strings.\u001b[39m\u001b[38;5;124m\"\u001b[39m\n\u001b[1;32m    994\u001b[0m         \u001b[38;5;124m\"\u001b[39m\u001b[38;5;124mConvert your data to numeric values explicitly instead.\u001b[39m\u001b[38;5;124m\"\u001b[39m\n\u001b[1;32m    995\u001b[0m     )\n",
      "\u001b[0;31mValueError\u001b[0m: Expected a 2-dimensional container but got <class 'pandas.core.series.Series'> instead. Pass a DataFrame containing a single row (i.e. single sample) or a single column (i.e. single feature) instead."
     ]
    }
   ],
   "source": [
    "from sklearn.ensemble import RandomForestRegressor\n",
    "from sklearn.datasets import make_regression\n",
    "#X, y = make_regression(n_features=4, n_informative=2,\n",
    "#                       random_state=0, shuffle=False)\n",
    "regr = RandomForestRegressor(random_state=fix_seed)\n",
    "regr.fit(X, y)\n",
    "importances = regr.feature_importances_\n",
    "\n",
    "\n",
    "# Evaluate the model\n",
    "#mse = mean_squared_error(y_test, y_pred)\n",
    "print(importances)"
   ]
  },
  {
   "cell_type": "code",
   "execution_count": null,
   "metadata": {},
   "outputs": [
    {
     "name": "stdout",
     "output_type": "stream",
     "text": [
      "[0.8910246  0.25864298 0.01687774 0.18063635 0.89257689 0.0142995\n",
      " 0.92453382 0.12997104 0.09790944 0.02675424 0.91439547 0.26271135\n",
      " 0.66617775 0.2082975  0.47286732 0.97613954 0.35028607 0.4283591\n",
      " 0.98135169 0.01023588 0.27448729 0.24651913 0.66772163 0.12836319\n",
      " 0.58793143 0.49858526 0.67060485 0.54406628 0.31925952 0.41392651\n",
      " 0.49794919 0.27806216 0.09680165 0.8296418  0.86689879 0.0678669\n",
      " 0.96792054 0.88339904 0.54370763 0.18516991 0.20832503 0.18470462\n",
      " 0.7886272  0.96344831 0.34366138 0.08029241 0.54299538 0.08693732\n",
      " 0.75101906 0.26404452 0.57499702 0.91491578 0.19866056 0.76187102\n",
      " 0.05722313 0.96062719 0.5524682  0.44341824 0.13526514 0.71169031\n",
      " 0.68060146 0.19453928 0.73960802 0.35595374 0.22188837 0.59052506\n",
      " 0.56163231 0.72712806 0.2457124  0.7731483  0.89396356 0.79711506\n",
      " 0.28527114 0.3216594  0.75164088 0.76867857 0.61369376 0.99417274\n",
      " 0.82430007 0.94257479 0.22387647 0.11228766 0.43557614 0.24429197\n",
      " 0.21906194 0.83483052 0.55808545 0.61181026 0.99908904 0.4896372\n",
      " 0.25009726 0.9177629  0.0579503  0.40447465 0.04870923 0.30832932\n",
      " 0.42483127 0.8349839  0.62437337 0.08563222]\n"
     ]
    }
   ],
   "source": []
  },
  {
   "cell_type": "code",
   "execution_count": null,
   "metadata": {},
   "outputs": [
    {
     "data": {
      "text/html": [
       "<div>\n",
       "<style scoped>\n",
       "    .dataframe tbody tr th:only-of-type {\n",
       "        vertical-align: middle;\n",
       "    }\n",
       "\n",
       "    .dataframe tbody tr th {\n",
       "        vertical-align: top;\n",
       "    }\n",
       "\n",
       "    .dataframe thead th {\n",
       "        text-align: right;\n",
       "    }\n",
       "</style>\n",
       "<table border=\"1\" class=\"dataframe\">\n",
       "  <thead>\n",
       "    <tr style=\"text-align: right;\">\n",
       "      <th></th>\n",
       "      <th>date</th>\n",
       "      <th>permno</th>\n",
       "      <th>ticker</th>\n",
       "      <th>price</th>\n",
       "      <th>volume</th>\n",
       "      <th>return</th>\n",
       "      <th>high</th>\n",
       "      <th>low</th>\n",
       "      <th>open</th>\n",
       "      <th>avg_price</th>\n",
       "      <th>mkt_cap</th>\n",
       "      <th>pct_return</th>\n",
       "      <th>ticker_attention</th>\n",
       "      <th>name_price_attention</th>\n",
       "    </tr>\n",
       "  </thead>\n",
       "  <tbody>\n",
       "    <tr>\n",
       "      <th>0</th>\n",
       "      <td>2014-01-02</td>\n",
       "      <td>10107</td>\n",
       "      <td>MSFT</td>\n",
       "      <td>37.16</td>\n",
       "      <td>30423757.0</td>\n",
       "      <td>-0.006683</td>\n",
       "      <td>37.40</td>\n",
       "      <td>37.10</td>\n",
       "      <td>37.350</td>\n",
       "      <td>37.25</td>\n",
       "      <td>308428000.0</td>\n",
       "      <td>-0.6683</td>\n",
       "      <td>3.25</td>\n",
       "      <td>3.15</td>\n",
       "    </tr>\n",
       "    <tr>\n",
       "      <th>1</th>\n",
       "      <td>2014-01-03</td>\n",
       "      <td>10107</td>\n",
       "      <td>MSFT</td>\n",
       "      <td>36.91</td>\n",
       "      <td>30944370.0</td>\n",
       "      <td>-0.006728</td>\n",
       "      <td>37.22</td>\n",
       "      <td>36.60</td>\n",
       "      <td>37.200</td>\n",
       "      <td>36.91</td>\n",
       "      <td>306353000.0</td>\n",
       "      <td>-0.6728</td>\n",
       "      <td>3.38</td>\n",
       "      <td>1.54</td>\n",
       "    </tr>\n",
       "    <tr>\n",
       "      <th>2</th>\n",
       "      <td>2014-01-06</td>\n",
       "      <td>10107</td>\n",
       "      <td>MSFT</td>\n",
       "      <td>36.13</td>\n",
       "      <td>43111355.0</td>\n",
       "      <td>-0.021133</td>\n",
       "      <td>36.89</td>\n",
       "      <td>36.11</td>\n",
       "      <td>36.850</td>\n",
       "      <td>36.50</td>\n",
       "      <td>299879000.0</td>\n",
       "      <td>-2.1133</td>\n",
       "      <td>4.03</td>\n",
       "      <td>2.24</td>\n",
       "    </tr>\n",
       "    <tr>\n",
       "      <th>3</th>\n",
       "      <td>2014-01-07</td>\n",
       "      <td>10107</td>\n",
       "      <td>MSFT</td>\n",
       "      <td>36.41</td>\n",
       "      <td>35478667.0</td>\n",
       "      <td>0.007750</td>\n",
       "      <td>36.49</td>\n",
       "      <td>36.21</td>\n",
       "      <td>36.325</td>\n",
       "      <td>36.35</td>\n",
       "      <td>302203000.0</td>\n",
       "      <td>0.7750</td>\n",
       "      <td>4.94</td>\n",
       "      <td>1.19</td>\n",
       "    </tr>\n",
       "    <tr>\n",
       "      <th>4</th>\n",
       "      <td>2014-01-08</td>\n",
       "      <td>10107</td>\n",
       "      <td>MSFT</td>\n",
       "      <td>35.76</td>\n",
       "      <td>59452427.0</td>\n",
       "      <td>-0.017852</td>\n",
       "      <td>36.14</td>\n",
       "      <td>35.58</td>\n",
       "      <td>36.000</td>\n",
       "      <td>35.86</td>\n",
       "      <td>296808000.0</td>\n",
       "      <td>-1.7852</td>\n",
       "      <td>5.33</td>\n",
       "      <td>1.68</td>\n",
       "    </tr>\n",
       "  </tbody>\n",
       "</table>\n",
       "</div>"
      ],
      "text/plain": [
       "         date  permno ticker  price      volume    return   high    low  \\\n",
       "0  2014-01-02   10107   MSFT  37.16  30423757.0 -0.006683  37.40  37.10   \n",
       "1  2014-01-03   10107   MSFT  36.91  30944370.0 -0.006728  37.22  36.60   \n",
       "2  2014-01-06   10107   MSFT  36.13  43111355.0 -0.021133  36.89  36.11   \n",
       "3  2014-01-07   10107   MSFT  36.41  35478667.0  0.007750  36.49  36.21   \n",
       "4  2014-01-08   10107   MSFT  35.76  59452427.0 -0.017852  36.14  35.58   \n",
       "\n",
       "     open  avg_price      mkt_cap  pct_return  ticker_attention  \\\n",
       "0  37.350      37.25  308428000.0     -0.6683              3.25   \n",
       "1  37.200      36.91  306353000.0     -0.6728              3.38   \n",
       "2  36.850      36.50  299879000.0     -2.1133              4.03   \n",
       "3  36.325      36.35  302203000.0      0.7750              4.94   \n",
       "4  36.000      35.86  296808000.0     -1.7852              5.33   \n",
       "\n",
       "   name_price_attention  \n",
       "0                  3.15  \n",
       "1                  1.54  \n",
       "2                  2.24  \n",
       "3                  1.19  \n",
       "4                  1.68  "
      ]
     },
     "execution_count": 80,
     "metadata": {},
     "output_type": "execute_result"
    }
   ],
   "source": [
    "df.head()"
   ]
  },
  {
   "cell_type": "markdown",
   "metadata": {},
   "source": [
    "alex tesxz"
   ]
  },
  {
   "cell_type": "code",
   "execution_count": null,
   "metadata": {},
   "outputs": [],
   "source": []
  }
 ],
 "metadata": {
  "kernelspec": {
   "display_name": "Python 3",
   "language": "python",
   "name": "python3"
  },
  "language_info": {
   "codemirror_mode": {
    "name": "ipython",
    "version": 3
   },
   "file_extension": ".py",
   "mimetype": "text/x-python",
   "name": "python",
   "nbconvert_exporter": "python",
   "pygments_lexer": "ipython3",
   "version": "3.11.4"
  }
 },
 "nbformat": 4,
 "nbformat_minor": 2
}
