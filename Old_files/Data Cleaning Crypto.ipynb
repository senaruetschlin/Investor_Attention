{
 "cells": [
  {
   "cell_type": "markdown",
   "metadata": {},
   "source": [
    "## Statistical Testing\n",
    "\n",
    "In order to test our hypothesis, we need to conduct statistical tests to determine whether our independent variable which is investor attention (name_price_attentino) has a statistically significant relationship with the target variable of returns (pct_return)"
   ]
  },
  {
   "cell_type": "markdown",
   "metadata": {},
   "source": [
    "### Data Prepping \n",
    "\n",
    "Adding the dataframe we will be working with - which is the combined dataframe which includes financial information as well as the attention proxies\n"
   ]
  },
  {
   "cell_type": "code",
   "execution_count": 2,
   "metadata": {},
   "outputs": [],
   "source": [
    "import pandas as pd\n",
    "import numpy as np\n",
    "import statsmodels.api as sm\n",
    "import matplotlib.pyplot as plt\n"
   ]
  },
  {
   "cell_type": "code",
   "execution_count": 1,
   "metadata": {},
   "outputs": [
    {
     "ename": "NameError",
     "evalue": "name 'pd' is not defined",
     "output_type": "error",
     "traceback": [
      "\u001b[0;31m---------------------------------------------------------------------------\u001b[0m",
      "\u001b[0;31mNameError\u001b[0m                                 Traceback (most recent call last)",
      "Cell \u001b[0;32mIn[1], line 1\u001b[0m\n\u001b[0;32m----> 1\u001b[0m df \u001b[38;5;241m=\u001b[39m \u001b[43mpd\u001b[49m\u001b[38;5;241m.\u001b[39mread_csv(\u001b[38;5;124m\"\u001b[39m\u001b[38;5;124mcomplete_crypto_data2.csv\u001b[39m\u001b[38;5;124m\"\u001b[39m, index_col\u001b[38;5;241m=\u001b[39m\u001b[38;5;241m0\u001b[39m)\n\u001b[1;32m      2\u001b[0m df[\u001b[38;5;124m'\u001b[39m\u001b[38;5;124mreturn\u001b[39m\u001b[38;5;124m'\u001b[39m] \u001b[38;5;241m=\u001b[39m \u001b[38;5;28mround\u001b[39m(df\u001b[38;5;241m.\u001b[39mgroupby(\u001b[38;5;124m'\u001b[39m\u001b[38;5;124mcrypto_name\u001b[39m\u001b[38;5;124m'\u001b[39m)[\u001b[38;5;124m'\u001b[39m\u001b[38;5;124mPrice\u001b[39m\u001b[38;5;124m'\u001b[39m]\u001b[38;5;241m.\u001b[39mpct_change() \u001b[38;5;241m*\u001b[39m \u001b[38;5;241m100\u001b[39m,\u001b[38;5;241m3\u001b[39m)\n\u001b[1;32m      3\u001b[0m df[\u001b[38;5;124m'\u001b[39m\u001b[38;5;124mreturn\u001b[39m\u001b[38;5;124m'\u001b[39m] \u001b[38;5;241m=\u001b[39m df[\u001b[38;5;124m'\u001b[39m\u001b[38;5;124mreturn\u001b[39m\u001b[38;5;124m'\u001b[39m]\u001b[38;5;241m.\u001b[39mfillna(\u001b[38;5;241m0\u001b[39m)\n",
      "\u001b[0;31mNameError\u001b[0m: name 'pd' is not defined"
     ]
    }
   ],
   "source": [
    "# Cleaning Crypto Data\n",
    "df = pd.read_csv(\"complete_crypto_data2.csv\", index_col=0)\n",
    "df['return'] = round(df.groupby('crypto_name')['Price'].pct_change() * 100,3)\n",
    "df['return'] = df['return'].fillna(0)\n",
    "df = df[df['return'] < 600]\n",
    "\n",
    "# Creating Dummy for fixed effects\n",
    "df['crypto_dummy'] = df['crypto_name'].astype('category').cat.codes\n",
    "df.shape  \n",
    "\n",
    "# Add log attention \n",
    "df['log_attention'] = np.log(df['name_price_attention'])\n",
    "df['log_attention'] = df['log_attention'].fillna(0)\n",
    "\n",
    "# Add log returns\n",
    "df['log_return'] = np.log(df['return'])\n",
    "df['log_return'] = df['log_return'].fillna(0)\n",
    "\n",
    "# Insert 0 for inf\n",
    "df = df.replace([np.inf, -np.inf], 0)"
   ]
  },
  {
   "cell_type": "code",
   "execution_count": null,
   "metadata": {},
   "outputs": [],
   "source": [
    "from sklearn.preprocessing import StandardScaler\n",
    "\n",
    "# Select columns to scale\n",
    "columns_to_scale = ['Price', 'Volume', 'Market_cap', 'name_price_attention', 'return']\n",
    "\n",
    "# Check for missing values\n",
    "print(df[columns_to_scale].isnull().sum())\n",
    "\n",
    "# Handle missing values if necessary\n",
    "# df = df.dropna(subset=columns_to_scale)\n",
    "\n",
    "# Initialize the scaler\n",
    "scaler = StandardScaler()\n",
    "\n",
    "# Create a copy of df\n",
    "df_scaled = df.copy()\n",
    "\n",
    "# Fit and transform the data\n",
    "df_scaled[columns_to_scale] = scaler.fit_transform(df[columns_to_scale])\n",
    "\n",
    "# Add log attention \n",
    "df_scaled['log_attention'] = np.log(df['name_price_attention'])\n",
    "df_scaled['log_attention'] = df_scaled['log_attention'].fillna(0)\n",
    "\n",
    "# Add log returns\n",
    "df_scaled['log_return'] = np.log(df['return'])\n",
    "df_scaled['log_return'] = df_scaled['log_return'].fillna(0)\n",
    "\n",
    "# Insert 0 for inf\n",
    "df_scaled = df_scaled.replace([np.inf, -np.inf], 0)\n",
    "\n",
    "df_scaled.head()"
   ]
  }
 ],
 "metadata": {
  "kernelspec": {
   "display_name": "Python 3",
   "language": "python",
   "name": "python3"
  },
  "language_info": {
   "codemirror_mode": {
    "name": "ipython",
    "version": 3
   },
   "file_extension": ".py",
   "mimetype": "text/x-python",
   "name": "python",
   "nbconvert_exporter": "python",
   "pygments_lexer": "ipython3",
   "version": "3.9.6"
  }
 },
 "nbformat": 4,
 "nbformat_minor": 2
}
