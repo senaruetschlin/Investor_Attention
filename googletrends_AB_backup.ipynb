{
 "cells": [
  {
   "cell_type": "markdown",
   "metadata": {},
   "source": [
    "### Google Trends"
   ]
  },
  {
   "cell_type": "code",
   "execution_count": 1,
   "metadata": {},
   "outputs": [],
   "source": [
    "from pytrends.request import TrendReq\n",
    "from pytrends import dailydata\n",
    "import pandas as pd\n",
    "import time"
   ]
  },
  {
   "cell_type": "code",
   "execution_count": 9,
   "metadata": {},
   "outputs": [],
   "source": [
    "# List of keywords will be here - can create a loop for this as well\n",
    "#SOURCE: https://stockanalysis.com/list/dow-jones-stocks/\n",
    "djia_tickers = [\n",
    "\n",
    " 'HD', #redo\n",
    " 'MRK',#redo\n",
    " 'CVX',#redo\n",
    " 'CRM',#redo\n",
    " 'KO',#redo\n",
    " 'MCD', #redo\n",
    " 'CSCO', #redo\n",
    " 'INTC',#redo\n",
    " 'DIS',#redo\n",
    " 'VZ',#redo\n",
    " 'AMGN', #redo \n",
    " 'IBM',#redo\n",
    " 'CAT',#redo\n",
    " 'NKE',#redo\n",
    " 'AXP', #redo\n",
    " 'HON',#redo\n",
    " 'BA',#redo\n",
    " 'GS',#redo\n",
    " 'MMM', #redo\n",
    " 'TRV',#redo\n",
    " 'DOW',#redo\n",
    " 'WBA'] #redo\n"
   ]
  },
  {
   "cell_type": "code",
   "execution_count": 18,
   "metadata": {},
   "outputs": [],
   "source": [
    "def google_trends(inputlist):\n",
    "\n",
    "    for string in inputlist:\n",
    "            # Define the file name with .csv extension\n",
    "        file_name = f\"{string}.csv\"\n",
    "        try:\n",
    "            # Make the request to Google Trends API\n",
    "            data = dailydata.get_daily_data(string, 2013, 1, 2023, 12, geo='US').reset_index()\n",
    "            cols = ['date', f'{string}']\n",
    "            data[cols].to_csv(file_name, index=False) #we only need the two columns \n",
    "                \n",
    "            #print(f\"CSV file '{file_name}' has been created.\")\n",
    "            df = pd.read_csv(file_name, index_col='date')\n",
    "                \n",
    "            break  # Exit the retry loop if successful\n",
    "        except Exception as e:\n",
    "            if \"429\" in str(e):\n",
    "                # Backoff strategy\n",
    "                wait_time = 2**retries\n",
    "                print(f\"Too many requests. Retrying in {wait_time} seconds...\")\n",
    "                time.sleep(wait_time)\n",
    "                retries += 1\n",
    "            else:\n",
    "                print(f\"An error occurred: {e}\")\n",
    "                if not data.empty:\n",
    "                    data.to_csv(file_name, index=False)\n",
    "                break  # Exit the retry loop if it's not a 429 error\n",
    "\n",
    "    return f\"function is complete.\"\n"
   ]
  },
  {
   "cell_type": "code",
   "execution_count": 19,
   "metadata": {},
   "outputs": [],
   "source": [
    "def google_trends_2(inputlist):\n",
    "    for string in inputlist:\n",
    "            # Define the file name with .csv extension\n",
    "        file_name = f\"{string}.csv\"\n",
    "        try:\n",
    "            # Make the request to Google Trends API\n",
    "            data = dailydata.get_daily_data(string, 2013, 1, 2023, 12, geo='US').reset_index()\n",
    "            cols = ['date', f'{string}']\n",
    "            data[cols].to_csv(file_name, index=False) #we only need the two columns \n",
    "                \n",
    "            print(f\"CSV file '{file_name}' has been created.\")\n",
    "            break  # Exit the retry loop if successful\n",
    "        except Exception as e:\n",
    "            if \"429\" in str(e):\n",
    "                # Backoff strategy\n",
    "                wait_time = 2**retries\n",
    "                print(f\"Too many requests. Retrying in {wait_time} seconds...\")\n",
    "                time.sleep(wait_time)\n",
    "            else:\n",
    "                print(f\"An error occurred: {e}\")\n",
    "                break  # Exit the retry loop if it's not a 429 error\n",
    "        else:\n",
    "            print(\"Max retries reached. Unable to fetch data.\")\n",
    "\n",
    "\n",
    "    #file_name = inputlist.csv\n",
    "    combined_file_name = f\"{list_name}.csv\"\n",
    "    combined_df.to_csv(combined_file_name, index=True)\n",
    "    #print(f\"Combined CSV file '{combined_file_name}' has been created.\")\n",
    "\n",
    "    return f\"Combined CSV file '{combined_file_name}' has been created.\"\n"
   ]
  },
  {
   "cell_type": "code",
   "execution_count": 22,
   "metadata": {},
   "outputs": [
    {
     "name": "stdout",
     "output_type": "stream",
     "text": [
      "The request failed: Google returned a response with code 429\n",
      "Trying again in 60 seconds.\n"
     ]
    },
    {
     "ename": "KeyboardInterrupt",
     "evalue": "",
     "output_type": "error",
     "traceback": [
      "\u001b[0;31m---------------------------------------------------------------------------\u001b[0m",
      "\u001b[0;31mTooManyRequestsError\u001b[0m                      Traceback (most recent call last)",
      "File \u001b[0;32m/usr/local/lib/python3.11/site-packages/pytrends/dailydata.py:34\u001b[0m, in \u001b[0;36m_fetch_data\u001b[0;34m(pytrends, build_payload, timeframe)\u001b[0m\n\u001b[1;32m     33\u001b[0m \u001b[38;5;28;01mtry\u001b[39;00m:\n\u001b[0;32m---> 34\u001b[0m     \u001b[43mbuild_payload\u001b[49m\u001b[43m(\u001b[49m\u001b[43mtimeframe\u001b[49m\u001b[38;5;241;43m=\u001b[39;49m\u001b[43mtimeframe\u001b[49m\u001b[43m)\u001b[49m\n\u001b[1;32m     35\u001b[0m \u001b[38;5;28;01mexcept\u001b[39;00m ResponseError \u001b[38;5;28;01mas\u001b[39;00m err:\n",
      "File \u001b[0;32m/usr/local/lib/python3.11/site-packages/pytrends/request.py:189\u001b[0m, in \u001b[0;36mTrendReq.build_payload\u001b[0;34m(self, kw_list, cat, timeframe, geo, gprop)\u001b[0m\n\u001b[1;32m    188\u001b[0m \u001b[38;5;66;03m# get tokens\u001b[39;00m\n\u001b[0;32m--> 189\u001b[0m \u001b[38;5;28;43mself\u001b[39;49m\u001b[38;5;241;43m.\u001b[39;49m\u001b[43m_tokens\u001b[49m\u001b[43m(\u001b[49m\u001b[43m)\u001b[49m\n\u001b[1;32m    190\u001b[0m \u001b[38;5;28;01mreturn\u001b[39;00m\n",
      "File \u001b[0;32m/usr/local/lib/python3.11/site-packages/pytrends/request.py:195\u001b[0m, in \u001b[0;36mTrendReq._tokens\u001b[0;34m(self)\u001b[0m\n\u001b[1;32m    194\u001b[0m \u001b[38;5;66;03m# make the request and parse the returned json\u001b[39;00m\n\u001b[0;32m--> 195\u001b[0m widget_dicts \u001b[38;5;241m=\u001b[39m \u001b[38;5;28;43mself\u001b[39;49m\u001b[38;5;241;43m.\u001b[39;49m\u001b[43m_get_data\u001b[49m\u001b[43m(\u001b[49m\n\u001b[1;32m    196\u001b[0m \u001b[43m    \u001b[49m\u001b[43murl\u001b[49m\u001b[38;5;241;43m=\u001b[39;49m\u001b[43mTrendReq\u001b[49m\u001b[38;5;241;43m.\u001b[39;49m\u001b[43mGENERAL_URL\u001b[49m\u001b[43m,\u001b[49m\n\u001b[1;32m    197\u001b[0m \u001b[43m    \u001b[49m\u001b[43mmethod\u001b[49m\u001b[38;5;241;43m=\u001b[39;49m\u001b[43mTrendReq\u001b[49m\u001b[38;5;241;43m.\u001b[39;49m\u001b[43mPOST_METHOD\u001b[49m\u001b[43m,\u001b[49m\n\u001b[1;32m    198\u001b[0m \u001b[43m    \u001b[49m\u001b[43mparams\u001b[49m\u001b[38;5;241;43m=\u001b[39;49m\u001b[38;5;28;43mself\u001b[39;49m\u001b[38;5;241;43m.\u001b[39;49m\u001b[43mtoken_payload\u001b[49m\u001b[43m,\u001b[49m\n\u001b[1;32m    199\u001b[0m \u001b[43m    \u001b[49m\u001b[43mtrim_chars\u001b[49m\u001b[38;5;241;43m=\u001b[39;49m\u001b[38;5;241;43m4\u001b[39;49m\u001b[43m,\u001b[49m\n\u001b[1;32m    200\u001b[0m \u001b[43m\u001b[49m\u001b[43m)\u001b[49m[\u001b[38;5;124m'\u001b[39m\u001b[38;5;124mwidgets\u001b[39m\u001b[38;5;124m'\u001b[39m]\n\u001b[1;32m    201\u001b[0m \u001b[38;5;66;03m# order of the json matters...\u001b[39;00m\n",
      "File \u001b[0;32m/usr/local/lib/python3.11/site-packages/pytrends/request.py:159\u001b[0m, in \u001b[0;36mTrendReq._get_data\u001b[0;34m(self, url, method, trim_chars, **kwargs)\u001b[0m\n\u001b[1;32m    158\u001b[0m \u001b[38;5;28;01mif\u001b[39;00m response\u001b[38;5;241m.\u001b[39mstatus_code \u001b[38;5;241m==\u001b[39m status_codes\u001b[38;5;241m.\u001b[39mcodes\u001b[38;5;241m.\u001b[39mtoo_many_requests:\n\u001b[0;32m--> 159\u001b[0m     \u001b[38;5;28;01mraise\u001b[39;00m exceptions\u001b[38;5;241m.\u001b[39mTooManyRequestsError\u001b[38;5;241m.\u001b[39mfrom_response(response)\n\u001b[1;32m    160\u001b[0m \u001b[38;5;28;01mraise\u001b[39;00m exceptions\u001b[38;5;241m.\u001b[39mResponseError\u001b[38;5;241m.\u001b[39mfrom_response(response)\n",
      "\u001b[0;31mTooManyRequestsError\u001b[0m: The request failed: Google returned a response with code 429",
      "\nDuring handling of the above exception, another exception occurred:\n",
      "\u001b[0;31mKeyboardInterrupt\u001b[0m                         Traceback (most recent call last)",
      "Cell \u001b[0;32mIn[22], line 1\u001b[0m\n\u001b[0;32m----> 1\u001b[0m \u001b[43mgoogle_trends\u001b[49m\u001b[43m(\u001b[49m\u001b[43mdjia_tickers\u001b[49m\u001b[43m)\u001b[49m\n",
      "Cell \u001b[0;32mIn[18], line 8\u001b[0m, in \u001b[0;36mgoogle_trends\u001b[0;34m(inputlist)\u001b[0m\n\u001b[1;32m      5\u001b[0m file_name \u001b[38;5;241m=\u001b[39m \u001b[38;5;124mf\u001b[39m\u001b[38;5;124m\"\u001b[39m\u001b[38;5;132;01m{\u001b[39;00mstring\u001b[38;5;132;01m}\u001b[39;00m\u001b[38;5;124m.csv\u001b[39m\u001b[38;5;124m\"\u001b[39m\n\u001b[1;32m      6\u001b[0m \u001b[38;5;28;01mtry\u001b[39;00m:\n\u001b[1;32m      7\u001b[0m     \u001b[38;5;66;03m# Make the request to Google Trends API\u001b[39;00m\n\u001b[0;32m----> 8\u001b[0m     data \u001b[38;5;241m=\u001b[39m \u001b[43mdailydata\u001b[49m\u001b[38;5;241;43m.\u001b[39;49m\u001b[43mget_daily_data\u001b[49m\u001b[43m(\u001b[49m\u001b[43mstring\u001b[49m\u001b[43m,\u001b[49m\u001b[43m \u001b[49m\u001b[38;5;241;43m2013\u001b[39;49m\u001b[43m,\u001b[49m\u001b[43m \u001b[49m\u001b[38;5;241;43m1\u001b[39;49m\u001b[43m,\u001b[49m\u001b[43m \u001b[49m\u001b[38;5;241;43m2023\u001b[39;49m\u001b[43m,\u001b[49m\u001b[43m \u001b[49m\u001b[38;5;241;43m12\u001b[39;49m\u001b[43m,\u001b[49m\u001b[43m \u001b[49m\u001b[43mgeo\u001b[49m\u001b[38;5;241;43m=\u001b[39;49m\u001b[38;5;124;43m'\u001b[39;49m\u001b[38;5;124;43mUS\u001b[39;49m\u001b[38;5;124;43m'\u001b[39;49m\u001b[43m)\u001b[49m\u001b[38;5;241m.\u001b[39mreset_index()\n\u001b[1;32m      9\u001b[0m     cols \u001b[38;5;241m=\u001b[39m [\u001b[38;5;124m'\u001b[39m\u001b[38;5;124mdate\u001b[39m\u001b[38;5;124m'\u001b[39m, \u001b[38;5;124mf\u001b[39m\u001b[38;5;124m'\u001b[39m\u001b[38;5;132;01m{\u001b[39;00mstring\u001b[38;5;132;01m}\u001b[39;00m\u001b[38;5;124m'\u001b[39m]\n\u001b[1;32m     10\u001b[0m     data[cols]\u001b[38;5;241m.\u001b[39mto_csv(file_name, index\u001b[38;5;241m=\u001b[39m\u001b[38;5;28;01mFalse\u001b[39;00m) \u001b[38;5;66;03m#we only need the two columns \u001b[39;00m\n",
      "File \u001b[0;32m/usr/local/lib/python3.11/site-packages/pytrends/dailydata.py:103\u001b[0m, in \u001b[0;36mget_daily_data\u001b[0;34m(word, start_year, start_mon, stop_year, stop_mon, geo, verbose, wait_time)\u001b[0m\n\u001b[1;32m     99\u001b[0m build_payload \u001b[38;5;241m=\u001b[39m partial(pytrends\u001b[38;5;241m.\u001b[39mbuild_payload,\n\u001b[1;32m    100\u001b[0m                         kw_list\u001b[38;5;241m=\u001b[39m[word], cat\u001b[38;5;241m=\u001b[39m\u001b[38;5;241m0\u001b[39m, geo\u001b[38;5;241m=\u001b[39mgeo, gprop\u001b[38;5;241m=\u001b[39m\u001b[38;5;124m'\u001b[39m\u001b[38;5;124m'\u001b[39m)\n\u001b[1;32m    102\u001b[0m \u001b[38;5;66;03m# Obtain monthly data for all months in years [start_year, stop_year]\u001b[39;00m\n\u001b[0;32m--> 103\u001b[0m monthly \u001b[38;5;241m=\u001b[39m \u001b[43m_fetch_data\u001b[49m\u001b[43m(\u001b[49m\u001b[43mpytrends\u001b[49m\u001b[43m,\u001b[49m\u001b[43m \u001b[49m\u001b[43mbuild_payload\u001b[49m\u001b[43m,\u001b[49m\n\u001b[1;32m    104\u001b[0m \u001b[43m                     \u001b[49m\u001b[43mconvert_dates_to_timeframe\u001b[49m\u001b[43m(\u001b[49m\u001b[43mstart_date\u001b[49m\u001b[43m,\u001b[49m\u001b[43m \u001b[49m\u001b[43mstop_date\u001b[49m\u001b[43m)\u001b[49m\u001b[43m)\u001b[49m\n\u001b[1;32m    106\u001b[0m \u001b[38;5;66;03m# Get daily data, month by month\u001b[39;00m\n\u001b[1;32m    107\u001b[0m results \u001b[38;5;241m=\u001b[39m {}\n",
      "File \u001b[0;32m/usr/local/lib/python3.11/site-packages/pytrends/dailydata.py:38\u001b[0m, in \u001b[0;36m_fetch_data\u001b[0;34m(pytrends, build_payload, timeframe)\u001b[0m\n\u001b[1;32m     36\u001b[0m \u001b[38;5;28mprint\u001b[39m(err)\n\u001b[1;32m     37\u001b[0m \u001b[38;5;28mprint\u001b[39m(\u001b[38;5;124mf\u001b[39m\u001b[38;5;124m'\u001b[39m\u001b[38;5;124mTrying again in \u001b[39m\u001b[38;5;132;01m{\u001b[39;00m\u001b[38;5;241m60\u001b[39m\u001b[38;5;250m \u001b[39m\u001b[38;5;241m+\u001b[39m\u001b[38;5;250m \u001b[39m\u001b[38;5;241m5\u001b[39m\u001b[38;5;250m \u001b[39m\u001b[38;5;241m*\u001b[39m\u001b[38;5;250m \u001b[39mattempts\u001b[38;5;132;01m}\u001b[39;00m\u001b[38;5;124m seconds.\u001b[39m\u001b[38;5;124m'\u001b[39m)\n\u001b[0;32m---> 38\u001b[0m sleep(\u001b[38;5;241m60\u001b[39m \u001b[38;5;241m+\u001b[39m \u001b[38;5;241m5\u001b[39m \u001b[38;5;241m*\u001b[39m attempts)\n\u001b[1;32m     39\u001b[0m attempts \u001b[38;5;241m+\u001b[39m\u001b[38;5;241m=\u001b[39m \u001b[38;5;241m1\u001b[39m\n\u001b[1;32m     40\u001b[0m \u001b[38;5;28;01mif\u001b[39;00m attempts \u001b[38;5;241m>\u001b[39m \u001b[38;5;241m3\u001b[39m:\n",
      "\u001b[0;31mKeyboardInterrupt\u001b[0m: "
     ]
    }
   ],
   "source": [
    "google_trends(djia_tickers)"
   ]
  }
 ],
 "metadata": {
  "kernelspec": {
   "display_name": "Python 3",
   "language": "python",
   "name": "python3"
  },
  "language_info": {
   "codemirror_mode": {
    "name": "ipython",
    "version": 3
   },
   "file_extension": ".py",
   "mimetype": "text/x-python",
   "name": "python",
   "nbconvert_exporter": "python",
   "pygments_lexer": "ipython3",
   "version": "3.11.7"
  }
 },
 "nbformat": 4,
 "nbformat_minor": 2
}
