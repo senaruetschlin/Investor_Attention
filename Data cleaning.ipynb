{
 "cells": [
  {
   "cell_type": "code",
   "execution_count": 1,
   "metadata": {},
   "outputs": [],
   "source": [
    "# install pandas\n",
    "#!pip install pandas"
   ]
  },
  {
   "cell_type": "code",
   "execution_count": 4,
   "metadata": {},
   "outputs": [],
   "source": [
    "# count the number of csv files in the financial data folder\n",
    "import os\n",
    "import csv\n",
    "import pandas as pd\n",
    "\n",
    "# set the path to the PG_financial.xlsx\n",
    "path = '/Users/senamiruetschlin/Documents/Studies /2. Semester/Guided Studies in Financial Management/Group Project/Investor_Attention/financial_data/stocks/PG_financial.xlsx'"
   ]
  },
  {
   "cell_type": "code",
   "execution_count": 5,
   "metadata": {},
   "outputs": [],
   "source": [
    "# convert PG_financial.xlsx to a csv file\n",
    "data_xls = pd.read_excel(path, index_col=None)\n",
    "\n",
    "# save the data as a csv file\n",
    "data_xls.to_csv('/Users/senamiruetschlin/Documents/Studies /2. Semester/Guided Studies in Financial Management/Group Project/Investor_Attention/financial_data/stocks/PG_financial.csv', encoding='utf-8')\n"
   ]
  },
  {
   "cell_type": "code",
   "execution_count": 7,
   "metadata": {},
   "outputs": [],
   "source": [
    "folder_name = 'google_trends'\n",
    "file_names = []\n",
    "for name in file_names:\n",
    "    file_path = os.path.join(folder_name, f\"{name}.csv\")\n",
    "    if not os.path.exists(file_path):\n",
    "        print(f\"Error: File '{file_path}' does not exist.\")\n",
    "        continue"
   ]
  },
  {
   "cell_type": "code",
   "execution_count": null,
   "metadata": {},
   "outputs": [],
   "source": [
    "updated_list = [   #   'Polkadot price', \n",
    "  #  'Polygon price',\n",
    "   # 'Terra price',\n",
    "    #    'Stellar price',\n",
    "\n",
    "    'Tia Token price'\n",
    "    ]"
   ]
  },
  {
   "cell_type": "code",
   "execution_count": null,
   "metadata": {},
   "outputs": [],
   "source": [
    "google_trends(updated_list)"
   ]
  }
 ],
 "metadata": {
  "kernelspec": {
   "display_name": "base",
   "language": "python",
   "name": "python3"
  },
  "language_info": {
   "codemirror_mode": {
    "name": "ipython",
    "version": 3
   },
   "file_extension": ".py",
   "mimetype": "text/x-python",
   "name": "python",
   "nbconvert_exporter": "python",
   "pygments_lexer": "ipython3",
   "version": "3.11.5"
  }
 },
 "nbformat": 4,
 "nbformat_minor": 2
}
