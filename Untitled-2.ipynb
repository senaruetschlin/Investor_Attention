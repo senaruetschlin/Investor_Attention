{
 "cells": [
  {
   "cell_type": "code",
   "execution_count": 1,
   "metadata": {},
   "outputs": [
    {
     "name": "stderr",
     "output_type": "stream",
     "text": [
      "/Users/alex/anaconda3/lib/python3.11/site-packages/pandas/core/arrays/masked.py:60: UserWarning: Pandas requires version '1.3.6' or newer of 'bottleneck' (version '1.3.5' currently installed).\n",
      "  from pandas.core import (\n"
     ]
    }
   ],
   "source": [
    "import pandas as pd\n",
    "import glob\n",
    "\n",
    "# specify your path\n",
    "path = r'/Users/alex/Documents/Data Science Master/Second Semester/Guided Studies in Financial Management/Group Project'\n",
    "\n",
    "all_files = glob.glob(path + \"/*.csv\")\n",
    "\n",
    "li = []\n",
    "\n",
    "for filename in all_files:\n",
    "    df = pd.read_csv(filename, index_col=None, header=0)\n",
    "    li.append(df)\n",
    "\n",
    "frame = pd.concat(li, axis=0, ignore_index=True)"
   ]
  },
  {
   "cell_type": "code",
   "execution_count": 3,
   "metadata": {},
   "outputs": [
    {
     "name": "stdout",
     "output_type": "stream",
     "text": [
      "     gvkey    datadate  fyear   tic         conm  net_income   revenue  \\\n",
      "0     1690  2013-09-30   2013  AAPL    APPLE INC     37037.0  170910.0   \n",
      "1     1690  2014-09-30   2014  AAPL    APPLE INC     39510.0  182795.0   \n",
      "2     1690  2015-09-30   2015  AAPL    APPLE INC     53394.0  233715.0   \n",
      "3     1690  2016-09-30   2016  AAPL    APPLE INC     45687.0  215091.0   \n",
      "4     1690  2017-09-30   2017  AAPL    APPLE INC     48351.0  229234.0   \n",
      "..     ...         ...    ...   ...          ...         ...       ...   \n",
      "645  11259  2020-01-31   2019   WMT  WALMART INC         NaN       NaN   \n",
      "646  11259  2021-01-31   2020   WMT  WALMART INC         NaN       NaN   \n",
      "647  11259  2022-01-31   2021   WMT  WALMART INC         NaN       NaN   \n",
      "648  11259  2023-01-31   2022   WMT  WALMART INC         NaN       NaN   \n",
      "649  11259  2024-01-31   2023   WMT  WALMART INC         NaN       NaN   \n",
      "\n",
      "     total_assets  shareholders_equity  total_liabilities  ...  \\\n",
      "0        207000.0             123549.0            83451.0  ...   \n",
      "1        231839.0             111547.0           120292.0  ...   \n",
      "2        290479.0             119355.0           171124.0  ...   \n",
      "3        321686.0             128249.0           193437.0  ...   \n",
      "4        375319.0             134047.0           241272.0  ...   \n",
      "..            ...                  ...                ...  ...   \n",
      "645           NaN                  NaN                NaN  ...   \n",
      "646           NaN                  NaN                NaN  ...   \n",
      "647           NaN                  NaN                NaN  ...   \n",
      "648           NaN                  NaN                NaN  ...   \n",
      "649           NaN                  NaN                NaN  ...   \n",
      "\n",
      "     interest_expense  market_value  price_close_annual  \\\n",
      "0               136.0   428699.7978              476.75   \n",
      "1               384.0   591015.7208              100.75   \n",
      "2               733.0   615336.4559              110.30   \n",
      "3              1456.0   603253.5663              113.05   \n",
      "4              2323.0   790050.0981              154.12   \n",
      "..                ...           ...                 ...   \n",
      "645               NaN           NaN                 NaN   \n",
      "646               NaN           NaN                 NaN   \n",
      "647               NaN           NaN                 NaN   \n",
      "648               NaN           NaN                 NaN   \n",
      "649               NaN           NaN                 NaN   \n",
      "\n",
      "     common_shares_outstanding  earnings_per_share  dividends_per_share  \\\n",
      "0                      899.213               40.03              11.4000   \n",
      "1                     5866.161                6.49               1.8114   \n",
      "2                     5578.753                9.28               1.9800   \n",
      "3                     5336.166                8.35               2.1800   \n",
      "4                     5126.201                9.27               2.4000   \n",
      "..                         ...                 ...                  ...   \n",
      "645                        NaN                 NaN                  NaN   \n",
      "646                        NaN                 NaN                  NaN   \n",
      "647                        NaN                 NaN                  NaN   \n",
      "648                        NaN                 NaN                  NaN   \n",
      "649                        NaN                 NaN                  NaN   \n",
      "\n",
      "          ni      revt        at  prcc_f  \n",
      "0        NaN       NaN       NaN     NaN  \n",
      "1        NaN       NaN       NaN     NaN  \n",
      "2        NaN       NaN       NaN     NaN  \n",
      "3        NaN       NaN       NaN     NaN  \n",
      "4        NaN       NaN       NaN     NaN  \n",
      "..       ...       ...       ...     ...  \n",
      "645  14881.0  521426.0  236495.0  114.49  \n",
      "646  13510.0  556933.0  252496.0  140.49  \n",
      "647  13673.0  569962.0  244860.0  139.81  \n",
      "648  11680.0  608481.0  243197.0  143.87  \n",
      "649  15511.0  648125.0  252399.0  165.25  \n",
      "\n",
      "[650 rows x 24 columns]\n"
     ]
    }
   ],
   "source": [
    "print (frame)\n"
   ]
  },
  {
   "cell_type": "code",
   "execution_count": null,
   "metadata": {},
   "outputs": [],
   "source": []
  }
 ],
 "metadata": {
  "kernelspec": {
   "display_name": "base",
   "language": "python",
   "name": "python3"
  },
  "language_info": {
   "codemirror_mode": {
    "name": "ipython",
    "version": 3
   },
   "file_extension": ".py",
   "mimetype": "text/x-python",
   "name": "python",
   "nbconvert_exporter": "python",
   "pygments_lexer": "ipython3",
   "version": "3.11.4"
  }
 },
 "nbformat": 4,
 "nbformat_minor": 2
}
