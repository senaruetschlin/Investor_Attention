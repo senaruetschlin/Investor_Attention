{
 "cells": [
  {
   "cell_type": "code",
   "execution_count": 4,
   "metadata": {},
   "outputs": [],
   "source": [
    "import pandas as pd"
   ]
  },
  {
   "cell_type": "code",
   "execution_count": 6,
   "metadata": {},
   "outputs": [],
   "source": [
    "def calculate_correlations_from_csv(stock_files, trends_files):\n",
    "    correlations = {}\n",
    "    \n",
    "    for stock_file, trends_file in zip(stock_files, trends_files):\n",
    "        # Read stock data\n",
    "        stock_data = pd.read_csv(stock_file)\n",
    "        stock_data['Date'] = pd.to_datetime(stock_data['Date'])  # Convert 'Date' column to datetime\n",
    "        \n",
    "        # Read Google Trends data\n",
    "        trends_data = pd.read_csv(trends_file)\n",
    "        trends_data['date'] = pd.to_datetime(trends_data['date'])  # Convert 'date' column to datetime\n",
    "        \n",
    "        # Ensure both datasets have the same length\n",
    "        min_length = min(len(stock_data), len(trends_data))\n",
    "        stock_data = stock_data.iloc[:min_length]\n",
    "        trends_data = trends_data.iloc[:min_length]\n",
    "        \n",
    "        # Calculate correlation\n",
    "        correlation = stock_data['Close'].corr(trends_data['Apple'])  # Adjust 'Apple' to match the column name in trends_data\n",
    "        \n",
    "        # Extract stock ticker from filename\n",
    "        stock_ticker = stock_file.split('.')[0]  # Assuming filenames are like 'AAPL.csv', 'GOOGL.csv', etc.\n",
    "        \n",
    "        correlations[stock_ticker] = correlation\n",
    "    \n",
    "    return correlations\n"
   ]
  },
  {
   "cell_type": "code",
   "execution_count": null,
   "metadata": {},
   "outputs": [],
   "source": []
  }
 ],
 "metadata": {
  "kernelspec": {
   "display_name": "Python 3",
   "language": "python",
   "name": "python3"
  },
  "language_info": {
   "codemirror_mode": {
    "name": "ipython",
    "version": 3
   },
   "file_extension": ".py",
   "mimetype": "text/x-python",
   "name": "python",
   "nbconvert_exporter": "python",
   "pygments_lexer": "ipython3",
   "version": "3.11.7"
  }
 },
 "nbformat": 4,
 "nbformat_minor": 2
}
