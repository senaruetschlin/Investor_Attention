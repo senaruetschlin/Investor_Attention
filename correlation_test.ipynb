{
 "cells": [
  {
   "cell_type": "code",
   "execution_count": 4,
   "metadata": {},
   "outputs": [],
   "source": [
    "import pandas as pd"
   ]
  },
  {
   "cell_type": "code",
   "execution_count": 6,
   "metadata": {},
   "outputs": [],
   "source": [
    "def calculate_correlations_from_csv(stock_files, trends_files):\n",
    "    correlations = {}\n",
    "    \n",
    "    for stock_file, trends_file in zip(stock_files, trends_files):\n",
    "        # Read stock data\n",
    "        stock_data = pd.read_csv(stock_file)\n",
    "        stock_data['Date'] = pd.to_datetime(stock_data['Date'])  # Convert 'Date' column to datetime\n",
    "        \n",
    "        # Read Google Trends data\n",
    "        trends_data = pd.read_csv(trends_file)\n",
    "        trends_data['date'] = pd.to_datetime(trends_data['date'])  # Convert 'date' column to datetime\n",
    "        \n",
    "        # Ensure both datasets have the same length\n",
    "        min_length = min(len(stock_data), len(trends_data))\n",
    "        stock_data = stock_data.iloc[:min_length]\n",
    "        trends_data = trends_data.iloc[:min_length]\n",
    "        \n",
    "        # Calculate correlation\n",
    "        correlation = stock_data['Close'].corr(trends_data['Apple'])  # Adjust 'Apple' to match the column name in trends_data\n",
    "        \n",
    "        # Extract stock ticker from filename\n",
    "        stock_ticker = stock_file.split('.')[0]  # Assuming filenames are like 'AAPL.csv', 'GOOGL.csv', etc.\n",
    "        \n",
    "        correlations[stock_ticker] = correlation\n",
    "    \n",
    "    return correlations\n"
   ]
  },
  {
   "cell_type": "code",
   "execution_count": null,
   "metadata": {},
   "outputs": [],
   "source": [
    "\n",
    "\n",
    "def calculate_correlations(yfinance_file, google_trends_file, tickers):\n",
    "    correlations = {}\n",
    "\n",
    "    # Read yfinance combined data file\n",
    "    yfinance_data = pd.read_csv(yfinance_file)\n",
    "    yfinance_data['Date'] = pd.to_datetime(yfinance_data['Date'])\n",
    "\n",
    "    # Read Google Trends combined data file\n",
    "    google_trends_data = pd.read_csv(google_trends_file)\n",
    "    google_trends_data['date'] = pd.to_datetime(google_trends_data['date'])\n",
    "\n",
    "    for ticker in tickers:\n",
    "        # Extract data for the current ticker from yfinance data\n",
    "        ticker_yfinance_data = yfinance_data[yfinance_data['Ticker'] == ticker]\n",
    "\n",
    "        # Extract data for the current ticker from Google Trends data\n",
    "        ticker_google_trends_data = google_trends_data[google_trends_data['ticker'] == ticker]\n",
    "\n",
    "        # Ensure both datasets have the same length\n",
    "        min_length = min(len(ticker_yfinance_data), len(ticker_google_trends_data))\n",
    "        ticker_yfinance_data = ticker_yfinance_data.iloc[:min_length]\n",
    "        ticker_google_trends_data = ticker_google_trends_data.iloc[:min_length]\n",
    "\n",
    "        # Calculate correlation\n",
    "        correlation = ticker_yfinance_data['Close'].corr(ticker_google_trends_data['value'])\n",
    "\n",
    "        correlations[ticker] = correlation\n",
    "\n",
    "    return correlations\n",
    "\n",
    "# Example usage\n",
    "yfinance_file = 'yfinance_data.csv'  # Example file path of yfinance data CSV file\n",
    "google_trends_file = 'google_trends_data.csv'  # Example file path of Google Trends data CSV file\n",
    "tickers = ['AAPL', 'GOOGL', 'MSFT']  # Example list of tickers\n",
    "\n",
    "correlations = calculate_correlations_yfinance_google_trends(yfinance_file, google_trends_file, tickers)\n",
    "print(\"Correlation between yfinance close price and Google Trends data for each ticker:\")\n",
    "for ticker, correlation in correlations.items():\n",
    "    print(f\"{ticker}: {correlation}\")\n"
   ]
  }
 ],
 "metadata": {
  "kernelspec": {
   "display_name": "Python 3",
   "language": "python",
   "name": "python3"
  },
  "language_info": {
   "codemirror_mode": {
    "name": "ipython",
    "version": 3
   },
   "file_extension": ".py",
   "mimetype": "text/x-python",
   "name": "python",
   "nbconvert_exporter": "python",
   "pygments_lexer": "ipython3",
   "version": "3.11.7"
  }
 },
 "nbformat": 4,
 "nbformat_minor": 2
}
