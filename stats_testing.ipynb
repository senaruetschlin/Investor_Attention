{
 "cells": [
  {
   "cell_type": "markdown",
   "metadata": {},
   "source": [
    "### Multiple Linear Regression\n",
    "\n",
    "To conduct statistical testing to see the impact of attention on adjusted close price with controls of volume and volatility, you can use regression analysis, such as multiple linear regression. Here's how you can do it using Python's statsmodels library to fit three models:\n",
    "\n",
    "Model with only 'attention' as the independent variable.\n",
    "Model with 'attention', 'volume', and 'volatility' as independent variables.\n",
    "Model with 'volume' and 'volatility' as independent variables.\n",
    "First, you need to ensure that your data is properly preprocessed, including handling missing values, converting categorical variables (if any), and splitting the data into independent and dependent variables.\n",
    "\n",
    "Here's an example code to conduct the regression analysis:\n"
   ]
  },
  {
   "cell_type": "code",
   "execution_count": null,
   "metadata": {},
   "outputs": [],
   "source": [
    "import pandas as pd\n",
    "import statsmodels.api as sm\n",
    "\n",
    "# Assuming df is your DataFrame containing the data\n",
    "\n",
    "# Drop rows with missing values\n",
    "df_cleaned = df.dropna(subset=['attention', 'Adj Close', 'Volume', 'Volatility'])\n",
    "\n",
    "# Model 1: Only 'attention' as independent variable\n",
    "model1 = sm.OLS(df_cleaned['Adj Close'], sm.add_constant(df_cleaned['attention']))\n",
    "result1 = model1.fit()\n",
    "print(result1.summary())\n",
    "\n",
    "# Model 2: 'attention', 'Volume', and 'Volatility' as independent variables\n",
    "model2 = sm.OLS(df_cleaned['Adj Close'], sm.add_constant(df_cleaned[['attention', 'Volume', 'Volatility']]))\n",
    "result2 = model2.fit()\n",
    "print(result2.summary())\n",
    "\n",
    "# Model 3: 'Volume' and 'Volatility' as independent variables\n",
    "model3 = sm.OLS(df_cleaned['Adj Close'], sm.add_constant(df_cleaned[['Volume', 'Volatility']]))\n",
    "result3 = model3.fit()\n",
    "print(result3.summary())\n"
   ]
  },
  {
   "cell_type": "markdown",
   "metadata": {},
   "source": [
    "In these models:\n",
    "\n",
    "* Model 1 tests the impact of 'attention' on 'Adj Close'.\n",
    "* Model 2 tests the impact of 'attention', 'Volume', and 'Volatility' on 'Adj Close'.\n",
    "* Model 3 tests the impact of 'Volume' and 'Volatility' on 'Adj Close'.\n",
    "\n",
    "The summary() function provides detailed statistics about the regression model, including coefficients, standard errors, t-values, p-values, and R-squared values, which you can use to interpret the results of the regression analysis. Adjust the column names and DataFrame name according to your actual data."
   ]
  },
  {
   "cell_type": "markdown",
   "metadata": {},
   "source": []
  }
 ],
 "metadata": {
  "language_info": {
   "name": "python"
  }
 },
 "nbformat": 4,
 "nbformat_minor": 2
}
