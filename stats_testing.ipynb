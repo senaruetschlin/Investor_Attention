{
 "cells": [
  {
   "cell_type": "markdown",
   "metadata": {},
   "source": [
    "### Regression\n",
    "\n",
    "Based on the Pearson Correlation and some prior visualizations, we can determine that the data is non-linear therefore Linear Regression is not an option for our data. Therefore we use XXX regression that is found inbuilt in the statsmodels library in Python\n",
    "\n",
    "About the regression model: XXX"
   ]
  },
  {
   "cell_type": "code",
   "execution_count": 5,
   "metadata": {},
   "outputs": [],
   "source": [
    "import pandas as pd\n",
    "import statsmodels.api as sm\n",
    "import numpy as np"
   ]
  },
  {
   "cell_type": "code",
   "execution_count": 3,
   "metadata": {},
   "outputs": [
    {
     "data": {
      "text/html": [
       "<div>\n",
       "<style scoped>\n",
       "    .dataframe tbody tr th:only-of-type {\n",
       "        vertical-align: middle;\n",
       "    }\n",
       "\n",
       "    .dataframe tbody tr th {\n",
       "        vertical-align: top;\n",
       "    }\n",
       "\n",
       "    .dataframe thead th {\n",
       "        text-align: right;\n",
       "    }\n",
       "</style>\n",
       "<table border=\"1\" class=\"dataframe\">\n",
       "  <thead>\n",
       "    <tr style=\"text-align: right;\">\n",
       "      <th></th>\n",
       "      <th>date</th>\n",
       "      <th>permno</th>\n",
       "      <th>ticker</th>\n",
       "      <th>price</th>\n",
       "      <th>volume</th>\n",
       "      <th>return</th>\n",
       "      <th>high</th>\n",
       "      <th>low</th>\n",
       "      <th>open</th>\n",
       "      <th>ticker_attention</th>\n",
       "      <th>name_price_attention</th>\n",
       "    </tr>\n",
       "  </thead>\n",
       "  <tbody>\n",
       "    <tr>\n",
       "      <th>0</th>\n",
       "      <td>2014-01-02</td>\n",
       "      <td>10107</td>\n",
       "      <td>MSFT</td>\n",
       "      <td>37.16</td>\n",
       "      <td>30423757.0</td>\n",
       "      <td>-0.006683</td>\n",
       "      <td>37.40</td>\n",
       "      <td>37.10</td>\n",
       "      <td>37.350</td>\n",
       "      <td>3.25</td>\n",
       "      <td>3.15</td>\n",
       "    </tr>\n",
       "    <tr>\n",
       "      <th>1</th>\n",
       "      <td>2014-01-03</td>\n",
       "      <td>10107</td>\n",
       "      <td>MSFT</td>\n",
       "      <td>36.91</td>\n",
       "      <td>30944370.0</td>\n",
       "      <td>-0.006728</td>\n",
       "      <td>37.22</td>\n",
       "      <td>36.60</td>\n",
       "      <td>37.200</td>\n",
       "      <td>3.38</td>\n",
       "      <td>1.54</td>\n",
       "    </tr>\n",
       "    <tr>\n",
       "      <th>2</th>\n",
       "      <td>2014-01-06</td>\n",
       "      <td>10107</td>\n",
       "      <td>MSFT</td>\n",
       "      <td>36.13</td>\n",
       "      <td>43111355.0</td>\n",
       "      <td>-0.021133</td>\n",
       "      <td>36.89</td>\n",
       "      <td>36.11</td>\n",
       "      <td>36.850</td>\n",
       "      <td>4.03</td>\n",
       "      <td>2.24</td>\n",
       "    </tr>\n",
       "    <tr>\n",
       "      <th>3</th>\n",
       "      <td>2014-01-07</td>\n",
       "      <td>10107</td>\n",
       "      <td>MSFT</td>\n",
       "      <td>36.41</td>\n",
       "      <td>35478667.0</td>\n",
       "      <td>0.007750</td>\n",
       "      <td>36.49</td>\n",
       "      <td>36.21</td>\n",
       "      <td>36.325</td>\n",
       "      <td>4.94</td>\n",
       "      <td>1.19</td>\n",
       "    </tr>\n",
       "    <tr>\n",
       "      <th>4</th>\n",
       "      <td>2014-01-08</td>\n",
       "      <td>10107</td>\n",
       "      <td>MSFT</td>\n",
       "      <td>35.76</td>\n",
       "      <td>59452427.0</td>\n",
       "      <td>-0.017852</td>\n",
       "      <td>36.14</td>\n",
       "      <td>35.58</td>\n",
       "      <td>36.000</td>\n",
       "      <td>5.33</td>\n",
       "      <td>1.68</td>\n",
       "    </tr>\n",
       "  </tbody>\n",
       "</table>\n",
       "</div>"
      ],
      "text/plain": [
       "         date  permno ticker  price      volume    return   high    low  \\\n",
       "0  2014-01-02   10107   MSFT  37.16  30423757.0 -0.006683  37.40  37.10   \n",
       "1  2014-01-03   10107   MSFT  36.91  30944370.0 -0.006728  37.22  36.60   \n",
       "2  2014-01-06   10107   MSFT  36.13  43111355.0 -0.021133  36.89  36.11   \n",
       "3  2014-01-07   10107   MSFT  36.41  35478667.0  0.007750  36.49  36.21   \n",
       "4  2014-01-08   10107   MSFT  35.76  59452427.0 -0.017852  36.14  35.58   \n",
       "\n",
       "     open  ticker_attention  name_price_attention  \n",
       "0  37.350              3.25                  3.15  \n",
       "1  37.200              3.38                  1.54  \n",
       "2  36.850              4.03                  2.24  \n",
       "3  36.325              4.94                  1.19  \n",
       "4  36.000              5.33                  1.68  "
      ]
     },
     "execution_count": 3,
     "metadata": {},
     "output_type": "execute_result"
    }
   ],
   "source": [
    "#importing our df\n",
    "df = pd.read_csv(\"combined_financial_data.csv\", index_col=0)\n",
    "df.head()"
   ]
  },
  {
   "cell_type": "code",
   "execution_count": null,
   "metadata": {},
   "outputs": [],
   "source": [
    "import pandas as pd\n",
    "import statsmodels.api as sm\n",
    "\n",
    "# Assuming df is your DataFrame containing the data\n",
    "\n",
    "# Drop rows with missing values\n",
    "df_cleaned = df.dropna(subset=['attention', 'Adj Close', 'Volume', 'Volatility'])\n",
    "\n",
    "# Model 1: Only 'attention' as independent variable\n",
    "model1 = sm.OLS(df_cleaned['Adj Close'], sm.add_constant(df_cleaned['attention']))\n",
    "result1 = model1.fit()\n",
    "print(result1.summary())\n",
    "\n",
    "# Model 2: 'attention', 'Volume', and 'Volatility' as independent variables\n",
    "model2 = sm.OLS(df_cleaned['Adj Close'], sm.add_constant(df_cleaned[['attention', 'Volume', 'Volatility']]))\n",
    "result2 = model2.fit()\n",
    "print(result2.summary())\n",
    "\n",
    "# Model 3: 'Volume' and 'Volatility' as independent variables\n",
    "model3 = sm.OLS(df_cleaned['Adj Close'], sm.add_constant(df_cleaned[['Volume', 'Volatility']]))\n",
    "result3 = model3.fit()\n",
    "print(result3.summary())\n"
   ]
  },
  {
   "cell_type": "markdown",
   "metadata": {},
   "source": [
    "In these models:\n",
    "\n",
    "* Model 1 tests the impact of 'attention' on 'Adj Close'.\n",
    "* Model 2 tests the impact of 'attention', 'Volume', and 'Volatility' on 'Adj Close'.\n",
    "* Model 3 tests the impact of 'Volume' and 'Volatility' on 'Adj Close'.\n",
    "\n",
    "The summary() function provides detailed statistics about the regression model, including coefficients, standard errors, t-values, p-values, and R-squared values, which you can use to interpret the results of the regression analysis. Adjust the column names and DataFrame name according to your actual data."
   ]
  },
  {
   "cell_type": "markdown",
   "metadata": {},
   "source": []
  },
  {
   "cell_type": "markdown",
   "metadata": {},
   "source": [
    "### 1 Polynomial Regression"
   ]
  },
  {
   "cell_type": "code",
   "execution_count": 9,
   "metadata": {},
   "outputs": [
    {
     "ename": "TypeError",
     "evalue": "'method' object is not subscriptable",
     "output_type": "error",
     "traceback": [
      "\u001b[0;31m---------------------------------------------------------------------------\u001b[0m",
      "\u001b[0;31mTypeError\u001b[0m                                 Traceback (most recent call last)",
      "Cell \u001b[0;32mIn[9], line 5\u001b[0m\n\u001b[1;32m      3\u001b[0m \u001b[38;5;66;03m# Assuming df, response_column, and training_columns are already defined\u001b[39;00m\n\u001b[1;32m      4\u001b[0m df2 \u001b[38;5;241m=\u001b[39m df\u001b[38;5;241m.\u001b[39mcopy\n\u001b[0;32m----> 5\u001b[0m X \u001b[38;5;241m=\u001b[39m sm\u001b[38;5;241m.\u001b[39madd_constant(\u001b[43mdf2\u001b[49m\u001b[43m[\u001b[49m\u001b[38;5;124;43m'\u001b[39;49m\u001b[38;5;124;43mname_price_attention\u001b[39;49m\u001b[38;5;124;43m'\u001b[39;49m\u001b[43m]\u001b[49m)  \u001b[38;5;66;03m# Include constant term\u001b[39;00m\n\u001b[1;32m      6\u001b[0m y \u001b[38;5;241m=\u001b[39m df2[\u001b[38;5;124m'\u001b[39m\u001b[38;5;124mreturn\u001b[39m\u001b[38;5;124m'\u001b[39m]\n\u001b[1;32m      8\u001b[0m \u001b[38;5;66;03m# Fit polynomial regression model (e.g., quadratic)\u001b[39;00m\n",
      "\u001b[0;31mTypeError\u001b[0m: 'method' object is not subscriptable"
     ]
    }
   ],
   "source": [
    "import statsmodels.api as sm\n",
    "\n",
    "# Assuming df, response_column, and training_columns are already defined\n",
    "df2 = df.copy\n",
    "X = sm.add_constant(df2['name_price_attention'])  # Include constant term\n",
    "y = df2['return']\n",
    "\n",
    "# Fit polynomial regression model (e.g., quadratic)\n",
    "poly_degree = 2  # Quadratic\n",
    "poly_features = sm.add_polynomial_features(X['name_price_attention'], degree=poly_degree, include_bias=False)\n",
    "poly_model = sm.OLS(y, poly_features).fit()\n",
    "\n",
    "# Print summary\n",
    "print(poly_model.summary())\n"
   ]
  },
  {
   "cell_type": "markdown",
   "metadata": {},
   "source": [
    "### 2. Generalized Additive Models (GAM):\n"
   ]
  },
  {
   "cell_type": "code",
   "execution_count": 12,
   "metadata": {},
   "outputs": [
    {
     "ename": "NameError",
     "evalue": "name 'training_columns' is not defined",
     "output_type": "error",
     "traceback": [
      "\u001b[0;31m---------------------------------------------------------------------------\u001b[0m",
      "\u001b[0;31mNameError\u001b[0m                                 Traceback (most recent call last)",
      "Cell \u001b[0;32mIn[12], line 5\u001b[0m\n\u001b[1;32m      1\u001b[0m \u001b[38;5;28;01mimport\u001b[39;00m \u001b[38;5;21;01mstatsmodels\u001b[39;00m\u001b[38;5;21;01m.\u001b[39;00m\u001b[38;5;21;01mapi\u001b[39;00m \u001b[38;5;28;01mas\u001b[39;00m \u001b[38;5;21;01msm\u001b[39;00m\n\u001b[1;32m      3\u001b[0m \u001b[38;5;66;03m# Assuming df, response_column, and training_columns are already defined\u001b[39;00m\n\u001b[0;32m----> 5\u001b[0m X \u001b[38;5;241m=\u001b[39m sm\u001b[38;5;241m.\u001b[39madd_constant(df[\u001b[43mtraining_columns\u001b[49m])  \u001b[38;5;66;03m# Include constant term\u001b[39;00m\n\u001b[1;32m      6\u001b[0m y \u001b[38;5;241m=\u001b[39m df[response_column]\n\u001b[1;32m      8\u001b[0m \u001b[38;5;66;03m# Fit GAM model\u001b[39;00m\n",
      "\u001b[0;31mNameError\u001b[0m: name 'training_columns' is not defined"
     ]
    }
   ],
   "source": [
    "import statsmodels.api as sm\n",
    "\n",
    "# Assuming df, response_column, and training_columns are already defined\n",
    "\n",
    "X = sm.add_constant(df[training_columns])  # Include constant term\n",
    "y = df[response_column]\n",
    "\n",
    "# Fit GAM model\n",
    "gam_model = sm.GLM(y, X, family=sm.families.Gaussian()).fit()\n",
    "\n",
    "# Print summary\n",
    "print(gam_model.summary())\n"
   ]
  },
  {
   "cell_type": "markdown",
   "metadata": {},
   "source": [
    "### 3. Nonlinear Least Squares (NLS): (Using LOWESS as an example)\n"
   ]
  },
  {
   "cell_type": "code",
   "execution_count": null,
   "metadata": {},
   "outputs": [],
   "source": [
    "import statsmodels.api as sm\n",
    "\n",
    "# Assuming df, response_column, and training_columns are already defined\n",
    "\n",
    "X = df[training_columns]\n",
    "y = df[response_column]\n",
    "\n",
    "# Fit LOWESS model\n",
    "lowess_model = sm.nonparametric.smoothers_lowess.lowess(y, X)\n",
    "\n",
    "# Print summary or visualize the results as needed\n"
   ]
  },
  {
   "cell_type": "markdown",
   "metadata": {},
   "source": [
    "### 4. Generalized Linear Models (GLM):"
   ]
  },
  {
   "cell_type": "code",
   "execution_count": null,
   "metadata": {},
   "outputs": [],
   "source": [
    "import statsmodels.api as sm\n",
    "\n",
    "# Assuming df, response_column, and training_columns are already defined\n",
    "\n",
    "X = sm.add_constant(df[training_columns])  # Include constant term\n",
    "y = df[response_column]\n",
    "\n",
    "# Fit GLM model (e.g., with a gamma distribution and log link function)\n",
    "glm_model = sm.GLM(y, X, family=sm.families.Gamma()).fit()\n",
    "\n",
    "# Print summary\n",
    "print(glm_model.summary())\n"
   ]
  },
  {
   "cell_type": "markdown",
   "metadata": {},
   "source": [
    "### Medium trying to determine using shape "
   ]
  },
  {
   "cell_type": "code",
   "execution_count": 16,
   "metadata": {},
   "outputs": [
    {
     "data": {
      "text/html": [
       "<div>\n",
       "<style scoped>\n",
       "    .dataframe tbody tr th:only-of-type {\n",
       "        vertical-align: middle;\n",
       "    }\n",
       "\n",
       "    .dataframe tbody tr th {\n",
       "        vertical-align: top;\n",
       "    }\n",
       "\n",
       "    .dataframe thead th {\n",
       "        text-align: right;\n",
       "    }\n",
       "</style>\n",
       "<table border=\"1\" class=\"dataframe\">\n",
       "  <thead>\n",
       "    <tr style=\"text-align: right;\">\n",
       "      <th></th>\n",
       "      <th>date</th>\n",
       "      <th>return</th>\n",
       "    </tr>\n",
       "  </thead>\n",
       "  <tbody>\n",
       "    <tr>\n",
       "      <th>0</th>\n",
       "      <td>2014-01-02</td>\n",
       "      <td>-0.006683</td>\n",
       "    </tr>\n",
       "    <tr>\n",
       "      <th>1</th>\n",
       "      <td>2014-01-03</td>\n",
       "      <td>-0.006728</td>\n",
       "    </tr>\n",
       "    <tr>\n",
       "      <th>2</th>\n",
       "      <td>2014-01-06</td>\n",
       "      <td>-0.021133</td>\n",
       "    </tr>\n",
       "    <tr>\n",
       "      <th>3</th>\n",
       "      <td>2014-01-07</td>\n",
       "      <td>0.007750</td>\n",
       "    </tr>\n",
       "    <tr>\n",
       "      <th>4</th>\n",
       "      <td>2014-01-08</td>\n",
       "      <td>-0.017852</td>\n",
       "    </tr>\n",
       "  </tbody>\n",
       "</table>\n",
       "</div>"
      ],
      "text/plain": [
       "         date    return\n",
       "0  2014-01-02 -0.006683\n",
       "1  2014-01-03 -0.006728\n",
       "2  2014-01-06 -0.021133\n",
       "3  2014-01-07  0.007750\n",
       "4  2014-01-08 -0.017852"
      ]
     },
     "execution_count": 16,
     "metadata": {},
     "output_type": "execute_result"
    }
   ],
   "source": [
    "import numpy as np\n",
    "import matplotlib.pyplot as plt\n",
    "import seaborn as sns\n",
    "%matplotlib inline\n",
    "medium_trial = df[['date', 'return']]\n",
    "\n",
    "medium_trial.head()"
   ]
  },
  {
   "cell_type": "code",
   "execution_count": 17,
   "metadata": {},
   "outputs": [
    {
     "data": {
      "image/png": "[encoded data removed]",
      "text/plain": [
       "<Figure size 800x500 with 1 Axes>"
      ]
     },
     "metadata": {},
     "output_type": "display_data"
    }
   ],
   "source": [
    "plt.figure(figsize=(8,5))\n",
    "x_data, y_data = (medium_trial[\"date\"].values, medium_trial[\"return\"].values)\n",
    "plt.plot(x_data, y_data, 'ro')\n",
    "plt.ylabel('return')\n",
    "plt.xlabel('Year')\n",
    "plt.show()"
   ]
  },
  {
   "cell_type": "markdown",
   "metadata": {},
   "source": [
    "alex tesxz"
   ]
  },
  {
   "cell_type": "code",
   "execution_count": null,
   "metadata": {},
   "outputs": [],
   "source": []
  }
 ],
 "metadata": {
  "kernelspec": {
   "display_name": "Python 3",
   "language": "python",
   "name": "python3"
  },
  "language_info": {
   "codemirror_mode": {
    "name": "ipython",
    "version": 3
   },
   "file_extension": ".py",
   "mimetype": "text/x-python",
   "name": "python",
   "nbconvert_exporter": "python",
   "pygments_lexer": "ipython3",
   "version": "3.11.7"
  }
 },
 "nbformat": 4,
 "nbformat_minor": 2
}
