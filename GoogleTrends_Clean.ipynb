{
 "cells": [
  {
   "cell_type": "markdown",
   "id": "b820ba77-1e29-4b5b-bdb2-c32e80cc2953",
   "metadata": {},
   "source": [
    "## Google Trends"
   ]
  },
  {
   "cell_type": "code",
   "execution_count": 2,
   "id": "e8637077-a078-4773-8c2f-5fdcc0cc248e",
   "metadata": {},
   "outputs": [],
   "source": [
    "from pytrends.request import TrendReq\n",
    "from pytrends import dailydata\n",
    "import pandas as pd\n",
    "import time"
   ]
  },
  {
   "cell_type": "markdown",
   "id": "4b916ae7-763c-43cb-a027-ac3db975e494",
   "metadata": {},
   "source": [
    "### Creating the list of keywords"
   ]
  },
  {
   "cell_type": "code",
   "execution_count": 68,
   "id": "0b657659-9780-4c17-bb7b-a7cd97e3ec10",
   "metadata": {},
   "outputs": [],
   "source": [
    "# List of keywords will be here - can create a loop for this as well\n",
    "#SOURCE: https://stockanalysis.com/list/dow-jones-stocks/\n",
    "djia_tickers = [\n",
    " 'MSFT',\n",
    " 'AAPL', \n",
    " 'Visa', #Visa ticker is just V - google trends might not reflect that correctly so using Visa instead\n",
    " 'JPM',\n",
    " 'UNH',\n",
    " 'WMT',\n",
    " 'JNJ',\n",
    " 'PG',\n",
    " 'HD',\n",
    " 'MRK',\n",
    " 'CVX',\n",
    " 'CRM',\n",
    " 'KO',\n",
    " 'MCD', \n",
    " 'CSCO', \n",
    " 'INTC',\n",
    " 'DIS',\n",
    " 'VZ',\n",
    " 'AMGN',\n",
    " 'IBM',\n",
    " 'CAT',\n",
    " 'NKE',\n",
    " 'AXP',\n",
    " 'HON',\n",
    " 'BA',\n",
    " 'GS',\n",
    " 'MMM', \n",
    " 'TRV',\n",
    " 'DOW',\n",
    " 'WBA'] \n"
   ]
  },
  {
   "cell_type": "code",
   "execution_count": 69,
   "id": "7aadc81e-17a0-42ed-82ad-c8df1d775977",
   "metadata": {},
   "outputs": [],
   "source": [
    "djia_names = [\n",
    "    \"Microsoft Corporation\",\n",
    "    \"Apple Inc.\",\n",
    "    \"Visa Inc.\",\n",
    "    \"JPMorgan Chase & Co.\",\n",
    "    \"UnitedHealth Group Incorporated\",\n",
    "    \"Walmart Inc.\",\n",
    "    \"Johnson & Johnson\",\n",
    "    \"The Procter & Gamble Company\",\n",
    "    \"The Home Depot, Inc.\",\n",
    "    \"Merck & Co., Inc.\",\n",
    "    \"Chevron Corporation\",\n",
    "    \"Salesforce, Inc.\",\n",
    "    \"The Coca-Cola Company\",\n",
    "    \"McDonald's Corporation\",\n",
    "    \"Cisco Systems, Inc.\",\n",
    "    \"The Walt Disney Company\",\n",
    "    \"Intel Corporation\",\n",
    "    \"International Business Machines Corporation\",\n",
    "    \"Verizon Communications Inc.\",\n",
    "    \"Caterpillar Inc.\",\n",
    "    \"NIKE, Inc.\",\n",
    "    \"Amgen Inc.\",\n",
    "    \"American Express Company\",\n",
    "    \"Honeywell International Inc.\",\n",
    "    \"The Boeing Company\",\n",
    "    \"The Goldman Sachs Group, Inc.\",\n",
    "    \"3M Company\",\n",
    "    \"The Travelers Companies, Inc.\",\n",
    "    \"Dow Inc.\",\n",
    "    \"Walgreens Boots Alliance, Inc.\"\n",
    "]"
   ]
  },
  {
   "cell_type": "code",
   "execution_count": 70,
   "id": "900c16f3-6f59-4fa0-9207-b104e1333ef6",
   "metadata": {
    "scrolled": true
   },
   "outputs": [
    {
     "data": {
      "text/plain": [
       "30"
      ]
     },
     "execution_count": 70,
     "metadata": {},
     "output_type": "execute_result"
    }
   ],
   "source": [
    "len(djia_names)"
   ]
  },
  {
   "cell_type": "markdown",
   "id": "dd6fc4a4-9365-4420-b3a6-1df315629c6f",
   "metadata": {},
   "source": [
    "### Creating a function to call Google Trends for list of keywords"
   ]
  },
  {
   "cell_type": "code",
   "execution_count": 106,
   "id": "19b390e6-1c5b-4a70-92de-c80a9c01a06a",
   "metadata": {},
   "outputs": [],
   "source": [
    "def google_trends(inputlist, start_year):\n",
    "    combined_df = pd.DataFrame()  # Empty DataFrame to store combined data\n",
    "    list_name = [name for name, value in globals().items() if value is inputlist][0]\n",
    "\n",
    "    for string in inputlist:\n",
    "            # Define the file name with .csv extension\n",
    "        file_name = f\"{string}.csv\"\n",
    "        \n",
    "        retries = 0\n",
    "        max_retries = 5\n",
    "        while retries < max_retries:\n",
    "            try:\n",
    "                # Make the request to Google Trends API\n",
    "                data = dailydata.get_daily_data(string, start_year, 1, 2023, 12, geo='US').reset_index()\n",
    "\n",
    "                data[['date', f'{string}']].to_csv(file_name, index=False) #we only need the two columns \n",
    "                \n",
    "                #print(f\"CSV file '{file_name}' has been created.\")\n",
    "                df = pd.read_csv(file_name, index_col='date')\n",
    "                \n",
    "                # Append the DataFrame to the combined DataFrame\n",
    "                combined_df = pd.concat([combined_df, df])\n",
    "\n",
    "                break  # Exit the retry loop if successful\n",
    "            except Exception as e:\n",
    "                if \"429\" in str(e):\n",
    "                    # Backoff strategy\n",
    "                    wait_time = 2**retries\n",
    "                    print(f\"Too many requests. Retrying in {wait_time} seconds...\")\n",
    "                    time.sleep(wait_time)\n",
    "                    retries += 1\n",
    "                else:\n",
    "                    print(f\"An error occurred: {e}\")\n",
    "                    break  # Exit the retry loop if it's not a 429 error\n",
    "        else:\n",
    "            print(\"Max retries reached. Unable to fetch data.\")\n",
    "\n",
    "\n",
    "    #file_name = inputlist.csv\n",
    "    combined_file_name = f\"{list_name}.csv\"\n",
    "    combined_df.to_csv(combined_file_name, index=True)\n",
    "    #print(f\"Combined CSV file '{combined_file_name}' has been created.\")\n",
    "\n",
    "    return f\"Combined CSV file '{combined_file_name}' has been created.\"\n"
   ]
  },
  {
   "cell_type": "code",
   "execution_count": 102,
   "id": "c4325006-3320-41c0-afeb-3ba7a6713bf5",
   "metadata": {},
   "outputs": [
    {
     "name": "stdout",
     "output_type": "stream",
     "text": [
      "hello:2023-01-01 2023-01-31\n",
      "CSV file 'hello.csv' has been created.\n",
      "Combined CSV file 'test.csv' has been created.\n"
     ]
    },
    {
     "name": "stderr",
     "output_type": "stream",
     "text": [
      "/usr/local/lib/python3.11/site-packages/pytrends/dailydata.py:123: FutureWarning: A value is trying to be set on a copy of a DataFrame or Series through chained assignment using an inplace method.\n",
      "The behavior will change in pandas 3.0. This inplace method will never work because the intermediate object on which we are setting values always behaves as a copy.\n",
      "\n",
      "For example, when doing 'df[col].method(value, inplace=True)', try using 'df.method({col: value}, inplace=True)' or df[col] = df[col].method(value) instead, to perform the operation inplace on the original object.\n",
      "\n",
      "\n",
      "  complete[f'{word}_monthly'].ffill(inplace=True)  # fill NaN values\n"
     ]
    },
    {
     "data": {
      "text/plain": [
       "'List completed'"
      ]
     },
     "execution_count": 102,
     "metadata": {},
     "output_type": "execute_result"
    }
   ],
   "source": [
    "test = ['hello']\n",
    "google_trends(test, 2023)"
   ]
  },
  {
   "cell_type": "code",
   "execution_count": 103,
   "id": "052ce9e8-e722-4263-a8b8-e09bc6f25b7e",
   "metadata": {},
   "outputs": [
    {
     "data": {
      "text/html": [
       "<div>\n",
       "<style scoped>\n",
       "    .dataframe tbody tr th:only-of-type {\n",
       "        vertical-align: middle;\n",
       "    }\n",
       "\n",
       "    .dataframe tbody tr th {\n",
       "        vertical-align: top;\n",
       "    }\n",
       "\n",
       "    .dataframe thead th {\n",
       "        text-align: right;\n",
       "    }\n",
       "</style>\n",
       "<table border=\"1\" class=\"dataframe\">\n",
       "  <thead>\n",
       "    <tr style=\"text-align: right;\">\n",
       "      <th></th>\n",
       "      <th>date</th>\n",
       "      <th>hello</th>\n",
       "    </tr>\n",
       "  </thead>\n",
       "  <tbody>\n",
       "    <tr>\n",
       "      <th>0</th>\n",
       "      <td>2023-01-01</td>\n",
       "      <td>73.96</td>\n",
       "    </tr>\n",
       "    <tr>\n",
       "      <th>1</th>\n",
       "      <td>2023-01-02</td>\n",
       "      <td>94.09</td>\n",
       "    </tr>\n",
       "    <tr>\n",
       "      <th>2</th>\n",
       "      <td>2023-01-03</td>\n",
       "      <td>73.96</td>\n",
       "    </tr>\n",
       "    <tr>\n",
       "      <th>3</th>\n",
       "      <td>2023-01-04</td>\n",
       "      <td>90.25</td>\n",
       "    </tr>\n",
       "    <tr>\n",
       "      <th>4</th>\n",
       "      <td>2023-01-05</td>\n",
       "      <td>88.36</td>\n",
       "    </tr>\n",
       "  </tbody>\n",
       "</table>\n",
       "</div>"
      ],
      "text/plain": [
       "         date  hello\n",
       "0  2023-01-01  73.96\n",
       "1  2023-01-02  94.09\n",
       "2  2023-01-03  73.96\n",
       "3  2023-01-04  90.25\n",
       "4  2023-01-05  88.36"
      ]
     },
     "execution_count": 103,
     "metadata": {},
     "output_type": "execute_result"
    }
   ],
   "source": [
    "test = pd.read_csv(\"test.csv\")\n",
    "test.head()"
   ]
  },
  {
   "cell_type": "markdown",
   "id": "4438ee50-d9ad-4271-a902-c93f1b83f397",
   "metadata": {},
   "source": [
    "### Checking the CSV files from the function as pandas dataframes"
   ]
  },
  {
   "cell_type": "code",
   "execution_count": 110,
   "id": "44e31d1d-41d0-4c20-a213-577d9d73064f",
   "metadata": {},
   "outputs": [
    {
     "data": {
      "text/html": [
       "<div>\n",
       "<style scoped>\n",
       "    .dataframe tbody tr th:only-of-type {\n",
       "        vertical-align: middle;\n",
       "    }\n",
       "\n",
       "    .dataframe tbody tr th {\n",
       "        vertical-align: top;\n",
       "    }\n",
       "\n",
       "    .dataframe thead th {\n",
       "        text-align: right;\n",
       "    }\n",
       "</style>\n",
       "<table border=\"1\" class=\"dataframe\">\n",
       "  <thead>\n",
       "    <tr style=\"text-align: right;\">\n",
       "      <th></th>\n",
       "      <th>AAPL_unscaled</th>\n",
       "      <th>AAPL_monthly</th>\n",
       "      <th>isPartial</th>\n",
       "      <th>scale</th>\n",
       "      <th>AAPL</th>\n",
       "    </tr>\n",
       "    <tr>\n",
       "      <th>date</th>\n",
       "      <th></th>\n",
       "      <th></th>\n",
       "      <th></th>\n",
       "      <th></th>\n",
       "      <th></th>\n",
       "    </tr>\n",
       "  </thead>\n",
       "  <tbody>\n",
       "    <tr>\n",
       "      <th>2018-01-01</th>\n",
       "      <td>12</td>\n",
       "      <td>31.0</td>\n",
       "      <td>False</td>\n",
       "      <td>0.31</td>\n",
       "      <td>3.72</td>\n",
       "    </tr>\n",
       "    <tr>\n",
       "      <th>2018-01-02</th>\n",
       "      <td>56</td>\n",
       "      <td>31.0</td>\n",
       "      <td>NaN</td>\n",
       "      <td>0.31</td>\n",
       "      <td>17.36</td>\n",
       "    </tr>\n",
       "    <tr>\n",
       "      <th>2018-01-03</th>\n",
       "      <td>62</td>\n",
       "      <td>31.0</td>\n",
       "      <td>NaN</td>\n",
       "      <td>0.31</td>\n",
       "      <td>19.22</td>\n",
       "    </tr>\n",
       "    <tr>\n",
       "      <th>2018-01-04</th>\n",
       "      <td>56</td>\n",
       "      <td>31.0</td>\n",
       "      <td>NaN</td>\n",
       "      <td>0.31</td>\n",
       "      <td>17.36</td>\n",
       "    </tr>\n",
       "    <tr>\n",
       "      <th>2018-01-05</th>\n",
       "      <td>61</td>\n",
       "      <td>31.0</td>\n",
       "      <td>NaN</td>\n",
       "      <td>0.31</td>\n",
       "      <td>18.91</td>\n",
       "    </tr>\n",
       "    <tr>\n",
       "      <th>...</th>\n",
       "      <td>...</td>\n",
       "      <td>...</td>\n",
       "      <td>...</td>\n",
       "      <td>...</td>\n",
       "      <td>...</td>\n",
       "    </tr>\n",
       "    <tr>\n",
       "      <th>2023-12-27</th>\n",
       "      <td>79</td>\n",
       "      <td>22.0</td>\n",
       "      <td>NaN</td>\n",
       "      <td>0.22</td>\n",
       "      <td>17.38</td>\n",
       "    </tr>\n",
       "    <tr>\n",
       "      <th>2023-12-28</th>\n",
       "      <td>72</td>\n",
       "      <td>22.0</td>\n",
       "      <td>NaN</td>\n",
       "      <td>0.22</td>\n",
       "      <td>15.84</td>\n",
       "    </tr>\n",
       "    <tr>\n",
       "      <th>2023-12-29</th>\n",
       "      <td>59</td>\n",
       "      <td>22.0</td>\n",
       "      <td>NaN</td>\n",
       "      <td>0.22</td>\n",
       "      <td>12.98</td>\n",
       "    </tr>\n",
       "    <tr>\n",
       "      <th>2023-12-30</th>\n",
       "      <td>17</td>\n",
       "      <td>22.0</td>\n",
       "      <td>NaN</td>\n",
       "      <td>0.22</td>\n",
       "      <td>3.74</td>\n",
       "    </tr>\n",
       "    <tr>\n",
       "      <th>2023-12-31</th>\n",
       "      <td>13</td>\n",
       "      <td>22.0</td>\n",
       "      <td>NaN</td>\n",
       "      <td>0.22</td>\n",
       "      <td>2.86</td>\n",
       "    </tr>\n",
       "  </tbody>\n",
       "</table>\n",
       "<p>2191 rows × 5 columns</p>\n",
       "</div>"
      ],
      "text/plain": [
       "            AAPL_unscaled  AAPL_monthly isPartial  scale   AAPL\n",
       "date                                                           \n",
       "2018-01-01             12          31.0     False   0.31   3.72\n",
       "2018-01-02             56          31.0       NaN   0.31  17.36\n",
       "2018-01-03             62          31.0       NaN   0.31  19.22\n",
       "2018-01-04             56          31.0       NaN   0.31  17.36\n",
       "2018-01-05             61          31.0       NaN   0.31  18.91\n",
       "...                   ...           ...       ...    ...    ...\n",
       "2023-12-27             79          22.0       NaN   0.22  17.38\n",
       "2023-12-28             72          22.0       NaN   0.22  15.84\n",
       "2023-12-29             59          22.0       NaN   0.22  12.98\n",
       "2023-12-30             17          22.0       NaN   0.22   3.74\n",
       "2023-12-31             13          22.0       NaN   0.22   2.86\n",
       "\n",
       "[2191 rows x 5 columns]"
      ]
     },
     "execution_count": 110,
     "metadata": {},
     "output_type": "execute_result"
    }
   ],
   "source": [
    "#CHECKING IF CSV FILES DOWNLOADED PROPERLY \n",
    "\n",
    "df_AAPL = pd.read_csv(\"AAPL.csv\", index_col=0)\n",
    "df_AAPL"
   ]
  },
  {
   "cell_type": "markdown",
   "id": "111c543d-f4b8-4a24-9db8-55fa5504c43e",
   "metadata": {},
   "source": [
    "Columns explained: \n",
    "\n",
    "1. AAPL_unscaled:\n",
    "2. AAPL_Monthly\n",
    "3. isPartial: This column indicates whether the data for the corresponding date is complete or partial. If the value is \"True\", it means the data for that date is incomplete and subject to revision. If the value is \"False\", it means the data is complete for that date.\n",
    "4. scale\n",
    "5. AAPL\n",
    "\n",
    "The column named after the word argument contains the daily search volume already scaled and comparable through time. The column f'{word}_unscaled' is the original daily data fetched month by month, and it is not comparable across different months (but is comparable within a month).The column f'{word}_monthly' contains the original monthly datafetched at once. The values in this column have been backfilled so that there are no NaN present.The column 'scale' contains the scale used to obtain the scaleddaily data."
   ]
  },
  {
   "cell_type": "markdown",
   "id": "0fc61f48-dd26-4de8-a53e-915415b80d81",
   "metadata": {},
   "source": [
    "## Documentation:"
   ]
  },
  {
   "cell_type": "markdown",
   "id": "6d173260-027f-450b-9494-41b90670d80a",
   "metadata": {},
   "source": [
    "### How is Google Trends data normalized?\n",
    "\n",
    "Google Trends normalizes search data to make comparisons between terms easier. Search results are normalized to the time and location of a query by the following process:\n",
    "\n",
    "Each data point is divided by the total searches of the geography and time range it represents to compare relative popularity. Otherwise, places with the most search volume would always be ranked highest.\n",
    "\n",
    "The resulting numbers are then scaled on a range of 0 to 100 based on a topic’s proportion to all searches on all topics.\n",
    "\n",
    "Different regions that show the same search interest for a term don't always have the same total search volumes."
   ]
  }
 ],
 "metadata": {
  "kernelspec": {
   "display_name": "Python 3 (ipykernel)",
   "language": "python",
   "name": "python3"
  },
  "language_info": {
   "codemirror_mode": {
    "name": "ipython",
    "version": 3
   },
   "file_extension": ".py",
   "mimetype": "text/x-python",
   "name": "python",
   "nbconvert_exporter": "python",
   "pygments_lexer": "ipython3",
   "version": "3.11.7"
  }
 },
 "nbformat": 4,
 "nbformat_minor": 5
}
