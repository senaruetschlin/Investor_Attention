{
 "cells": [
  {
   "cell_type": "markdown",
   "id": "b820ba77-1e29-4b5b-bdb2-c32e80cc2953",
   "metadata": {},
   "source": [
    "## Google Trends"
   ]
  },
  {
   "cell_type": "code",
   "execution_count": 5,
   "id": "e8637077-a078-4773-8c2f-5fdcc0cc248e",
   "metadata": {},
   "outputs": [],
   "source": [
    "from pytrends.request import TrendReq\n",
    "from pytrends import dailydata\n",
    "import pandas as pd\n",
    "import time"
   ]
  },
  {
   "cell_type": "markdown",
   "id": "4b916ae7-763c-43cb-a027-ac3db975e494",
   "metadata": {},
   "source": [
    "### Creating the list of keywords"
   ]
  },
  {
   "cell_type": "code",
   "execution_count": 6,
   "id": "0b657659-9780-4c17-bb7b-a7cd97e3ec10",
   "metadata": {},
   "outputs": [],
   "source": [
    "# List of keywords will be here - can create a loop for this as well\n",
    "#SOURCE: https://stockanalysis.com/list/dow-jones-stocks/\n",
    "djia_tickers = [\n",
    "\n",
    " 'CRM',\n",
    " 'KO',\n",
    " 'MCD', \n",
    " 'CSCO', \n",
    " 'WBA'] \n"
   ]
  },
  {
   "cell_type": "code",
   "execution_count": 7,
   "id": "7aadc81e-17a0-42ed-82ad-c8df1d775977",
   "metadata": {},
   "outputs": [],
   "source": [
    "djia_names = [\n",
    "    \"Microsoft\",\n",
    "    \"Apple\",\n",
    "    #\"Visa Inc.\",\n",
    "    \"JPMorgan Chase & Co.\",\n",
    "    \"UnitedHealth Group Incorporated\",\n",
    "    \"Walmart Inc.\",\n",
    "    \"Johnson & Johnson\",\n",
    "    \"The Procter & Gamble Company\",\n",
    "    \"The Home Depot, Inc.\",\n",
    "    \"Merck & Co., Inc.\",\n",
    "    \"Chevron Corporation\",\n",
    "    \"Salesforce, Inc.\",\n",
    "    \"The Coca-Cola Company\",\n",
    "    \"McDonald's Corporation\",\n",
    "    \"Cisco Systems, Inc.\",\n",
    "    \"The Walt Disney Company\",\n",
    "    \"Intel Corporation\",\n",
    "    \"International Business Machines Corporation\",\n",
    "    \"Verizon Communications Inc.\",\n",
    "    \"Caterpillar Inc.\",\n",
    "    \"NIKE, Inc.\",\n",
    "    \"Amgen Inc.\",\n",
    "    \"American Express Company\",\n",
    "    \"Honeywell International Inc.\",\n",
    "    \"The Boeing Company\",\n",
    "    \"The Goldman Sachs Group, Inc.\",\n",
    "    \"3M Company\",\n",
    "    \"The Travelers Companies, Inc.\",\n",
    "    \"Dow Inc.\",\n",
    "    \"Walgreens Boots Alliance, Inc.\"\n",
    "]"
   ]
  },
  {
   "cell_type": "code",
   "execution_count": 8,
   "id": "900c16f3-6f59-4fa0-9207-b104e1333ef6",
   "metadata": {
    "scrolled": true
   },
   "outputs": [
    {
     "data": {
      "text/plain": [
       "29"
      ]
     },
     "execution_count": 8,
     "metadata": {},
     "output_type": "execute_result"
    }
   ],
   "source": [
    "len(djia_names)"
   ]
  },
  {
   "cell_type": "markdown",
   "id": "dd6fc4a4-9365-4420-b3a6-1df315629c6f",
   "metadata": {},
   "source": [
    "### Creating a function to call Google Trends for list of keywords"
   ]
  },
  {
   "cell_type": "code",
   "execution_count": 9,
   "id": "19b390e6-1c5b-4a70-92de-c80a9c01a06a",
   "metadata": {},
   "outputs": [],
   "source": [
    "def google_trends(inputlist, start_year):\n",
    "    combined_df = pd.DataFrame()  # Empty DataFrame to store combined data\n",
    "    list_name = [name for name, value in globals().items() if value is inputlist][0]\n",
    "\n",
    "    for string in inputlist:\n",
    "            # Define the file name with .csv extension\n",
    "        file_name = f\"{string}.csv\"\n",
    "        \n",
    "        retries = 0\n",
    "        max_retries = 5\n",
    "        while retries < max_retries:\n",
    "            try:\n",
    "                # Make the request to Google Trends API\n",
    "                data = dailydata.get_daily_data(string, start_year, 1, 2023, 1, geo='US').reset_index()\n",
    "                cols = ['date', f'{string}']\n",
    "                data[cols].to_csv(file_name, index=False) #we only need the two columns \n",
    "                \n",
    "                #print(f\"CSV file '{file_name}' has been created.\")\n",
    "                #df = pd.read_csv(file_name, index_col='date')\n",
    "                \n",
    "                # Append the DataFrame to the combined DataFrame\n",
    "                #combined_df = pd.concat([combined_df, df], axis=1)\n",
    "                #combined_df = pd.merge(combined_df, df, left_index=True, right_index=True)\n",
    "\n",
    "                break  # Exit the retry loop if successful\n",
    "            except Exception as e:\n",
    "                if \"429\" in str(e):\n",
    "                    # Backoff strategy\n",
    "                    wait_time = 2**retries\n",
    "                    print(f\"Too many requests. Retrying in {wait_time} seconds...\")\n",
    "                    time.sleep(wait_time)\n",
    "                    retries += 1\n",
    "                else:\n",
    "                    print(f\"An error occurred: {e}\")\n",
    "                    break  # Exit the retry loop if it's not a 429 error\n",
    "        else:\n",
    "            print(\"Max retries reached. Unable to fetch data.\")\n",
    "\n",
    "\n",
    "    #file_name = inputlist.csv\n",
    "    combined_file_name = f\"{list_name}.csv\"\n",
    "    combined_df.to_csv(combined_file_name, index=True)\n",
    "    #print(f\"Combined CSV file '{combined_file_name}' has been created.\")\n",
    "\n",
    "    return f\"Combined CSV file '{combined_file_name}' has been created.\"\n"
   ]
  },
  {
   "cell_type": "code",
   "execution_count": 10,
   "id": "d5fb7288",
   "metadata": {},
   "outputs": [],
   "source": [
    "def google_trends_2(inputlist, start_year):\n",
    "    combined_df = pd.DataFrame()  # Empty DataFrame to store combined data\n",
    "    list_name = [name for name, value in globals().items() if value is inputlist][0]\n",
    "\n",
    "    for string in inputlist:\n",
    "            # Define the file name with .csv extension\n",
    "        file_name = f\"{string}.csv\"\n",
    "        \n",
    "        retries = 0\n",
    "        max_retries = 5\n",
    "        while retries < max_retries:\n",
    "            try:\n",
    "                # Make the request to Google Trends API\n",
    "                data = dailydata.get_daily_data(string, start_year, 1, 2023, 1, geo='US').reset_index()\n",
    "                cols = ['date', f'{string}']\n",
    "                data[cols].to_csv(file_name, index=False) #we only need the two columns \n",
    "                \n",
    "                print(f\"CSV file '{file_name}' has been created.\")\n",
    "                #df = pd.read_csv(file_name, index_col='date')\n",
    "                \n",
    "                # Append the DataFrame to the combined DataFrame\n",
    "                #combined_df = pd.concat([combined_df, df], axis=1)\n",
    "                #combined_df = pd.merge(combined_df, df, left_index=True, right_index=True)\n",
    "\n",
    "                break  # Exit the retry loop if successful\n",
    "            except Exception as e:\n",
    "                if \"429\" in str(e):\n",
    "                    # Backoff strategy\n",
    "                    wait_time = 2**retries\n",
    "                    print(f\"Too many requests. Retrying in {wait_time} seconds...\")\n",
    "                    time.sleep(wait_time)\n",
    "                    retries += 1\n",
    "                else:\n",
    "                    print(f\"An error occurred: {e}\")\n",
    "                    break  # Exit the retry loop if it's not a 429 error\n",
    "        else:\n",
    "            print(\"Max retries reached. Unable to fetch data.\")\n",
    "\n",
    "\n",
    "    #file_name = inputlist.csv\n",
    "    combined_file_name = f\"{list_name}.csv\"\n",
    "    combined_df.to_csv(combined_file_name, index=True)\n",
    "    #print(f\"Combined CSV file '{combined_file_name}' has been created.\")\n",
    "\n",
    "    return f\"Combined CSV file '{combined_file_name}' has been created.\"\n"
   ]
  },
  {
   "cell_type": "code",
   "execution_count": 11,
   "id": "c4325006-3320-41c0-afeb-3ba7a6713bf5",
   "metadata": {},
   "outputs": [
    {
     "name": "stdout",
     "output_type": "stream",
     "text": [
      "world:2023-01-01 2023-01-31\n",
      "The request failed: Google returned a response with code 429\n",
      "Trying again in 60 seconds.\n"
     ]
    },
    {
     "ename": "KeyboardInterrupt",
     "evalue": "",
     "output_type": "error",
     "traceback": [
      "\u001b[0;31m---------------------------------------------------------------------------\u001b[0m",
      "\u001b[0;31mTooManyRequestsError\u001b[0m                      Traceback (most recent call last)",
      "File \u001b[0;32m/usr/local/lib/python3.11/site-packages/pytrends/dailydata.py:34\u001b[0m, in \u001b[0;36m_fetch_data\u001b[0;34m(pytrends, build_payload, timeframe)\u001b[0m\n\u001b[1;32m     33\u001b[0m \u001b[38;5;28;01mtry\u001b[39;00m:\n\u001b[0;32m---> 34\u001b[0m     \u001b[43mbuild_payload\u001b[49m\u001b[43m(\u001b[49m\u001b[43mtimeframe\u001b[49m\u001b[38;5;241;43m=\u001b[39;49m\u001b[43mtimeframe\u001b[49m\u001b[43m)\u001b[49m\n\u001b[1;32m     35\u001b[0m \u001b[38;5;28;01mexcept\u001b[39;00m ResponseError \u001b[38;5;28;01mas\u001b[39;00m err:\n",
      "File \u001b[0;32m/usr/local/lib/python3.11/site-packages/pytrends/request.py:189\u001b[0m, in \u001b[0;36mTrendReq.build_payload\u001b[0;34m(self, kw_list, cat, timeframe, geo, gprop)\u001b[0m\n\u001b[1;32m    188\u001b[0m \u001b[38;5;66;03m# get tokens\u001b[39;00m\n\u001b[0;32m--> 189\u001b[0m \u001b[38;5;28;43mself\u001b[39;49m\u001b[38;5;241;43m.\u001b[39;49m\u001b[43m_tokens\u001b[49m\u001b[43m(\u001b[49m\u001b[43m)\u001b[49m\n\u001b[1;32m    190\u001b[0m \u001b[38;5;28;01mreturn\u001b[39;00m\n",
      "File \u001b[0;32m/usr/local/lib/python3.11/site-packages/pytrends/request.py:195\u001b[0m, in \u001b[0;36mTrendReq._tokens\u001b[0;34m(self)\u001b[0m\n\u001b[1;32m    194\u001b[0m \u001b[38;5;66;03m# make the request and parse the returned json\u001b[39;00m\n\u001b[0;32m--> 195\u001b[0m widget_dicts \u001b[38;5;241m=\u001b[39m \u001b[38;5;28;43mself\u001b[39;49m\u001b[38;5;241;43m.\u001b[39;49m\u001b[43m_get_data\u001b[49m\u001b[43m(\u001b[49m\n\u001b[1;32m    196\u001b[0m \u001b[43m    \u001b[49m\u001b[43murl\u001b[49m\u001b[38;5;241;43m=\u001b[39;49m\u001b[43mTrendReq\u001b[49m\u001b[38;5;241;43m.\u001b[39;49m\u001b[43mGENERAL_URL\u001b[49m\u001b[43m,\u001b[49m\n\u001b[1;32m    197\u001b[0m \u001b[43m    \u001b[49m\u001b[43mmethod\u001b[49m\u001b[38;5;241;43m=\u001b[39;49m\u001b[43mTrendReq\u001b[49m\u001b[38;5;241;43m.\u001b[39;49m\u001b[43mPOST_METHOD\u001b[49m\u001b[43m,\u001b[49m\n\u001b[1;32m    198\u001b[0m \u001b[43m    \u001b[49m\u001b[43mparams\u001b[49m\u001b[38;5;241;43m=\u001b[39;49m\u001b[38;5;28;43mself\u001b[39;49m\u001b[38;5;241;43m.\u001b[39;49m\u001b[43mtoken_payload\u001b[49m\u001b[43m,\u001b[49m\n\u001b[1;32m    199\u001b[0m \u001b[43m    \u001b[49m\u001b[43mtrim_chars\u001b[49m\u001b[38;5;241;43m=\u001b[39;49m\u001b[38;5;241;43m4\u001b[39;49m\u001b[43m,\u001b[49m\n\u001b[1;32m    200\u001b[0m \u001b[43m\u001b[49m\u001b[43m)\u001b[49m[\u001b[38;5;124m'\u001b[39m\u001b[38;5;124mwidgets\u001b[39m\u001b[38;5;124m'\u001b[39m]\n\u001b[1;32m    201\u001b[0m \u001b[38;5;66;03m# order of the json matters...\u001b[39;00m\n",
      "File \u001b[0;32m/usr/local/lib/python3.11/site-packages/pytrends/request.py:159\u001b[0m, in \u001b[0;36mTrendReq._get_data\u001b[0;34m(self, url, method, trim_chars, **kwargs)\u001b[0m\n\u001b[1;32m    158\u001b[0m \u001b[38;5;28;01mif\u001b[39;00m response\u001b[38;5;241m.\u001b[39mstatus_code \u001b[38;5;241m==\u001b[39m status_codes\u001b[38;5;241m.\u001b[39mcodes\u001b[38;5;241m.\u001b[39mtoo_many_requests:\n\u001b[0;32m--> 159\u001b[0m     \u001b[38;5;28;01mraise\u001b[39;00m exceptions\u001b[38;5;241m.\u001b[39mTooManyRequestsError\u001b[38;5;241m.\u001b[39mfrom_response(response)\n\u001b[1;32m    160\u001b[0m \u001b[38;5;28;01mraise\u001b[39;00m exceptions\u001b[38;5;241m.\u001b[39mResponseError\u001b[38;5;241m.\u001b[39mfrom_response(response)\n",
      "\u001b[0;31mTooManyRequestsError\u001b[0m: The request failed: Google returned a response with code 429",
      "\nDuring handling of the above exception, another exception occurred:\n",
      "\u001b[0;31mKeyboardInterrupt\u001b[0m                         Traceback (most recent call last)",
      "Cell \u001b[0;32mIn[11], line 2\u001b[0m\n\u001b[1;32m      1\u001b[0m test \u001b[38;5;241m=\u001b[39m [\u001b[38;5;124m'\u001b[39m\u001b[38;5;124mworld\u001b[39m\u001b[38;5;124m'\u001b[39m,\u001b[38;5;124m'\u001b[39m\u001b[38;5;124mtest\u001b[39m\u001b[38;5;124m'\u001b[39m]\n\u001b[0;32m----> 2\u001b[0m \u001b[43mgoogle_trends\u001b[49m\u001b[43m(\u001b[49m\u001b[43mtest\u001b[49m\u001b[43m,\u001b[49m\u001b[43m \u001b[49m\u001b[38;5;241;43m2023\u001b[39;49m\u001b[43m)\u001b[49m\n",
      "Cell \u001b[0;32mIn[9], line 14\u001b[0m, in \u001b[0;36mgoogle_trends\u001b[0;34m(inputlist, start_year)\u001b[0m\n\u001b[1;32m     11\u001b[0m \u001b[38;5;28;01mwhile\u001b[39;00m retries \u001b[38;5;241m<\u001b[39m max_retries:\n\u001b[1;32m     12\u001b[0m     \u001b[38;5;28;01mtry\u001b[39;00m:\n\u001b[1;32m     13\u001b[0m         \u001b[38;5;66;03m# Make the request to Google Trends API\u001b[39;00m\n\u001b[0;32m---> 14\u001b[0m         data \u001b[38;5;241m=\u001b[39m \u001b[43mdailydata\u001b[49m\u001b[38;5;241;43m.\u001b[39;49m\u001b[43mget_daily_data\u001b[49m\u001b[43m(\u001b[49m\u001b[43mstring\u001b[49m\u001b[43m,\u001b[49m\u001b[43m \u001b[49m\u001b[43mstart_year\u001b[49m\u001b[43m,\u001b[49m\u001b[43m \u001b[49m\u001b[38;5;241;43m1\u001b[39;49m\u001b[43m,\u001b[49m\u001b[43m \u001b[49m\u001b[38;5;241;43m2023\u001b[39;49m\u001b[43m,\u001b[49m\u001b[43m \u001b[49m\u001b[38;5;241;43m1\u001b[39;49m\u001b[43m,\u001b[49m\u001b[43m \u001b[49m\u001b[43mgeo\u001b[49m\u001b[38;5;241;43m=\u001b[39;49m\u001b[38;5;124;43m'\u001b[39;49m\u001b[38;5;124;43mUS\u001b[39;49m\u001b[38;5;124;43m'\u001b[39;49m\u001b[43m)\u001b[49m\u001b[38;5;241m.\u001b[39mreset_index()\n\u001b[1;32m     15\u001b[0m         cols \u001b[38;5;241m=\u001b[39m [\u001b[38;5;124m'\u001b[39m\u001b[38;5;124mdate\u001b[39m\u001b[38;5;124m'\u001b[39m, \u001b[38;5;124mf\u001b[39m\u001b[38;5;124m'\u001b[39m\u001b[38;5;132;01m{\u001b[39;00mstring\u001b[38;5;132;01m}\u001b[39;00m\u001b[38;5;124m'\u001b[39m]\n\u001b[1;32m     16\u001b[0m         data[cols]\u001b[38;5;241m.\u001b[39mto_csv(file_name, index\u001b[38;5;241m=\u001b[39m\u001b[38;5;28;01mFalse\u001b[39;00m) \u001b[38;5;66;03m#we only need the two columns \u001b[39;00m\n",
      "File \u001b[0;32m/usr/local/lib/python3.11/site-packages/pytrends/dailydata.py:115\u001b[0m, in \u001b[0;36mget_daily_data\u001b[0;34m(word, start_year, start_mon, stop_year, stop_mon, geo, verbose, wait_time)\u001b[0m\n\u001b[1;32m    113\u001b[0m \u001b[38;5;28;01mif\u001b[39;00m verbose:\n\u001b[1;32m    114\u001b[0m     \u001b[38;5;28mprint\u001b[39m(\u001b[38;5;124mf\u001b[39m\u001b[38;5;124m'\u001b[39m\u001b[38;5;132;01m{\u001b[39;00mword\u001b[38;5;132;01m}\u001b[39;00m\u001b[38;5;124m:\u001b[39m\u001b[38;5;132;01m{\u001b[39;00mtimeframe\u001b[38;5;132;01m}\u001b[39;00m\u001b[38;5;124m'\u001b[39m)\n\u001b[0;32m--> 115\u001b[0m results[current] \u001b[38;5;241m=\u001b[39m \u001b[43m_fetch_data\u001b[49m\u001b[43m(\u001b[49m\u001b[43mpytrends\u001b[49m\u001b[43m,\u001b[49m\u001b[43m \u001b[49m\u001b[43mbuild_payload\u001b[49m\u001b[43m,\u001b[49m\u001b[43m \u001b[49m\u001b[43mtimeframe\u001b[49m\u001b[43m)\u001b[49m\n\u001b[1;32m    116\u001b[0m current \u001b[38;5;241m=\u001b[39m last_date_of_month \u001b[38;5;241m+\u001b[39m timedelta(days\u001b[38;5;241m=\u001b[39m\u001b[38;5;241m1\u001b[39m)\n\u001b[1;32m    117\u001b[0m sleep(wait_time)  \u001b[38;5;66;03m# don't go too fast or Google will send 429s\u001b[39;00m\n",
      "File \u001b[0;32m/usr/local/lib/python3.11/site-packages/pytrends/dailydata.py:38\u001b[0m, in \u001b[0;36m_fetch_data\u001b[0;34m(pytrends, build_payload, timeframe)\u001b[0m\n\u001b[1;32m     36\u001b[0m \u001b[38;5;28mprint\u001b[39m(err)\n\u001b[1;32m     37\u001b[0m \u001b[38;5;28mprint\u001b[39m(\u001b[38;5;124mf\u001b[39m\u001b[38;5;124m'\u001b[39m\u001b[38;5;124mTrying again in \u001b[39m\u001b[38;5;132;01m{\u001b[39;00m\u001b[38;5;241m60\u001b[39m\u001b[38;5;250m \u001b[39m\u001b[38;5;241m+\u001b[39m\u001b[38;5;250m \u001b[39m\u001b[38;5;241m5\u001b[39m\u001b[38;5;250m \u001b[39m\u001b[38;5;241m*\u001b[39m\u001b[38;5;250m \u001b[39mattempts\u001b[38;5;132;01m}\u001b[39;00m\u001b[38;5;124m seconds.\u001b[39m\u001b[38;5;124m'\u001b[39m)\n\u001b[0;32m---> 38\u001b[0m \u001b[43msleep\u001b[49m\u001b[43m(\u001b[49m\u001b[38;5;241;43m60\u001b[39;49m\u001b[43m \u001b[49m\u001b[38;5;241;43m+\u001b[39;49m\u001b[43m \u001b[49m\u001b[38;5;241;43m5\u001b[39;49m\u001b[43m \u001b[49m\u001b[38;5;241;43m*\u001b[39;49m\u001b[43m \u001b[49m\u001b[43mattempts\u001b[49m\u001b[43m)\u001b[49m\n\u001b[1;32m     39\u001b[0m attempts \u001b[38;5;241m+\u001b[39m\u001b[38;5;241m=\u001b[39m \u001b[38;5;241m1\u001b[39m\n\u001b[1;32m     40\u001b[0m \u001b[38;5;28;01mif\u001b[39;00m attempts \u001b[38;5;241m>\u001b[39m \u001b[38;5;241m3\u001b[39m:\n",
      "\u001b[0;31mKeyboardInterrupt\u001b[0m: "
     ]
    }
   ],
   "source": [
    "test = ['world','test']\n",
    "google_trends(test, 2023)"
   ]
  },
  {
   "cell_type": "code",
   "execution_count": null,
   "id": "052ce9e8-e722-4263-a8b8-e09bc6f25b7e",
   "metadata": {},
   "outputs": [
    {
     "data": {
      "text/html": [
       "<div>\n",
       "<style scoped>\n",
       "    .dataframe tbody tr th:only-of-type {\n",
       "        vertical-align: middle;\n",
       "    }\n",
       "\n",
       "    .dataframe tbody tr th {\n",
       "        vertical-align: top;\n",
       "    }\n",
       "\n",
       "    .dataframe thead th {\n",
       "        text-align: right;\n",
       "    }\n",
       "</style>\n",
       "<table border=\"1\" class=\"dataframe\">\n",
       "  <thead>\n",
       "    <tr style=\"text-align: right;\">\n",
       "      <th></th>\n",
       "      <th>Unnamed: 0</th>\n",
       "    </tr>\n",
       "  </thead>\n",
       "  <tbody>\n",
       "  </tbody>\n",
       "</table>\n",
       "</div>"
      ],
      "text/plain": [
       "Empty DataFrame\n",
       "Columns: [Unnamed: 0]\n",
       "Index: []"
      ]
     },
     "execution_count": 41,
     "metadata": {},
     "output_type": "execute_result"
    }
   ],
   "source": [
    "test = pd.read_csv(\"test.csv\")\n",
    "test.head()"
   ]
  },
  {
   "cell_type": "code",
   "execution_count": 12,
   "id": "0792f0ea",
   "metadata": {},
   "outputs": [
    {
     "name": "stdout",
     "output_type": "stream",
     "text": [
      "The request failed: Google returned a response with code 429\n",
      "Trying again in 60 seconds.\n"
     ]
    },
    {
     "ename": "KeyboardInterrupt",
     "evalue": "",
     "output_type": "error",
     "traceback": [
      "\u001b[0;31m---------------------------------------------------------------------------\u001b[0m",
      "\u001b[0;31mTooManyRequestsError\u001b[0m                      Traceback (most recent call last)",
      "File \u001b[0;32m/usr/local/lib/python3.11/site-packages/pytrends/dailydata.py:34\u001b[0m, in \u001b[0;36m_fetch_data\u001b[0;34m(pytrends, build_payload, timeframe)\u001b[0m\n\u001b[1;32m     33\u001b[0m \u001b[38;5;28;01mtry\u001b[39;00m:\n\u001b[0;32m---> 34\u001b[0m     \u001b[43mbuild_payload\u001b[49m\u001b[43m(\u001b[49m\u001b[43mtimeframe\u001b[49m\u001b[38;5;241;43m=\u001b[39;49m\u001b[43mtimeframe\u001b[49m\u001b[43m)\u001b[49m\n\u001b[1;32m     35\u001b[0m \u001b[38;5;28;01mexcept\u001b[39;00m ResponseError \u001b[38;5;28;01mas\u001b[39;00m err:\n",
      "File \u001b[0;32m/usr/local/lib/python3.11/site-packages/pytrends/request.py:189\u001b[0m, in \u001b[0;36mTrendReq.build_payload\u001b[0;34m(self, kw_list, cat, timeframe, geo, gprop)\u001b[0m\n\u001b[1;32m    188\u001b[0m \u001b[38;5;66;03m# get tokens\u001b[39;00m\n\u001b[0;32m--> 189\u001b[0m \u001b[38;5;28;43mself\u001b[39;49m\u001b[38;5;241;43m.\u001b[39;49m\u001b[43m_tokens\u001b[49m\u001b[43m(\u001b[49m\u001b[43m)\u001b[49m\n\u001b[1;32m    190\u001b[0m \u001b[38;5;28;01mreturn\u001b[39;00m\n",
      "File \u001b[0;32m/usr/local/lib/python3.11/site-packages/pytrends/request.py:195\u001b[0m, in \u001b[0;36mTrendReq._tokens\u001b[0;34m(self)\u001b[0m\n\u001b[1;32m    194\u001b[0m \u001b[38;5;66;03m# make the request and parse the returned json\u001b[39;00m\n\u001b[0;32m--> 195\u001b[0m widget_dicts \u001b[38;5;241m=\u001b[39m \u001b[38;5;28;43mself\u001b[39;49m\u001b[38;5;241;43m.\u001b[39;49m\u001b[43m_get_data\u001b[49m\u001b[43m(\u001b[49m\n\u001b[1;32m    196\u001b[0m \u001b[43m    \u001b[49m\u001b[43murl\u001b[49m\u001b[38;5;241;43m=\u001b[39;49m\u001b[43mTrendReq\u001b[49m\u001b[38;5;241;43m.\u001b[39;49m\u001b[43mGENERAL_URL\u001b[49m\u001b[43m,\u001b[49m\n\u001b[1;32m    197\u001b[0m \u001b[43m    \u001b[49m\u001b[43mmethod\u001b[49m\u001b[38;5;241;43m=\u001b[39;49m\u001b[43mTrendReq\u001b[49m\u001b[38;5;241;43m.\u001b[39;49m\u001b[43mPOST_METHOD\u001b[49m\u001b[43m,\u001b[49m\n\u001b[1;32m    198\u001b[0m \u001b[43m    \u001b[49m\u001b[43mparams\u001b[49m\u001b[38;5;241;43m=\u001b[39;49m\u001b[38;5;28;43mself\u001b[39;49m\u001b[38;5;241;43m.\u001b[39;49m\u001b[43mtoken_payload\u001b[49m\u001b[43m,\u001b[49m\n\u001b[1;32m    199\u001b[0m \u001b[43m    \u001b[49m\u001b[43mtrim_chars\u001b[49m\u001b[38;5;241;43m=\u001b[39;49m\u001b[38;5;241;43m4\u001b[39;49m\u001b[43m,\u001b[49m\n\u001b[1;32m    200\u001b[0m \u001b[43m\u001b[49m\u001b[43m)\u001b[49m[\u001b[38;5;124m'\u001b[39m\u001b[38;5;124mwidgets\u001b[39m\u001b[38;5;124m'\u001b[39m]\n\u001b[1;32m    201\u001b[0m \u001b[38;5;66;03m# order of the json matters...\u001b[39;00m\n",
      "File \u001b[0;32m/usr/local/lib/python3.11/site-packages/pytrends/request.py:159\u001b[0m, in \u001b[0;36mTrendReq._get_data\u001b[0;34m(self, url, method, trim_chars, **kwargs)\u001b[0m\n\u001b[1;32m    158\u001b[0m \u001b[38;5;28;01mif\u001b[39;00m response\u001b[38;5;241m.\u001b[39mstatus_code \u001b[38;5;241m==\u001b[39m status_codes\u001b[38;5;241m.\u001b[39mcodes\u001b[38;5;241m.\u001b[39mtoo_many_requests:\n\u001b[0;32m--> 159\u001b[0m     \u001b[38;5;28;01mraise\u001b[39;00m exceptions\u001b[38;5;241m.\u001b[39mTooManyRequestsError\u001b[38;5;241m.\u001b[39mfrom_response(response)\n\u001b[1;32m    160\u001b[0m \u001b[38;5;28;01mraise\u001b[39;00m exceptions\u001b[38;5;241m.\u001b[39mResponseError\u001b[38;5;241m.\u001b[39mfrom_response(response)\n",
      "\u001b[0;31mTooManyRequestsError\u001b[0m: The request failed: Google returned a response with code 429",
      "\nDuring handling of the above exception, another exception occurred:\n",
      "\u001b[0;31mKeyboardInterrupt\u001b[0m                         Traceback (most recent call last)",
      "Cell \u001b[0;32mIn[12], line 1\u001b[0m\n\u001b[0;32m----> 1\u001b[0m \u001b[43mgoogle_trends_2\u001b[49m\u001b[43m(\u001b[49m\u001b[43mdjia_tickers\u001b[49m\u001b[43m,\u001b[49m\u001b[43m \u001b[49m\u001b[38;5;241;43m2004\u001b[39;49m\u001b[43m)\u001b[49m\n",
      "Cell \u001b[0;32mIn[10], line 14\u001b[0m, in \u001b[0;36mgoogle_trends_2\u001b[0;34m(inputlist, start_year)\u001b[0m\n\u001b[1;32m     11\u001b[0m \u001b[38;5;28;01mwhile\u001b[39;00m retries \u001b[38;5;241m<\u001b[39m max_retries:\n\u001b[1;32m     12\u001b[0m     \u001b[38;5;28;01mtry\u001b[39;00m:\n\u001b[1;32m     13\u001b[0m         \u001b[38;5;66;03m# Make the request to Google Trends API\u001b[39;00m\n\u001b[0;32m---> 14\u001b[0m         data \u001b[38;5;241m=\u001b[39m \u001b[43mdailydata\u001b[49m\u001b[38;5;241;43m.\u001b[39;49m\u001b[43mget_daily_data\u001b[49m\u001b[43m(\u001b[49m\u001b[43mstring\u001b[49m\u001b[43m,\u001b[49m\u001b[43m \u001b[49m\u001b[43mstart_year\u001b[49m\u001b[43m,\u001b[49m\u001b[43m \u001b[49m\u001b[38;5;241;43m1\u001b[39;49m\u001b[43m,\u001b[49m\u001b[43m \u001b[49m\u001b[38;5;241;43m2023\u001b[39;49m\u001b[43m,\u001b[49m\u001b[43m \u001b[49m\u001b[38;5;241;43m1\u001b[39;49m\u001b[43m,\u001b[49m\u001b[43m \u001b[49m\u001b[43mgeo\u001b[49m\u001b[38;5;241;43m=\u001b[39;49m\u001b[38;5;124;43m'\u001b[39;49m\u001b[38;5;124;43mUS\u001b[39;49m\u001b[38;5;124;43m'\u001b[39;49m\u001b[43m)\u001b[49m\u001b[38;5;241m.\u001b[39mreset_index()\n\u001b[1;32m     15\u001b[0m         cols \u001b[38;5;241m=\u001b[39m [\u001b[38;5;124m'\u001b[39m\u001b[38;5;124mdate\u001b[39m\u001b[38;5;124m'\u001b[39m, \u001b[38;5;124mf\u001b[39m\u001b[38;5;124m'\u001b[39m\u001b[38;5;132;01m{\u001b[39;00mstring\u001b[38;5;132;01m}\u001b[39;00m\u001b[38;5;124m'\u001b[39m]\n\u001b[1;32m     16\u001b[0m         data[cols]\u001b[38;5;241m.\u001b[39mto_csv(file_name, index\u001b[38;5;241m=\u001b[39m\u001b[38;5;28;01mFalse\u001b[39;00m) \u001b[38;5;66;03m#we only need the two columns \u001b[39;00m\n",
      "File \u001b[0;32m/usr/local/lib/python3.11/site-packages/pytrends/dailydata.py:103\u001b[0m, in \u001b[0;36mget_daily_data\u001b[0;34m(word, start_year, start_mon, stop_year, stop_mon, geo, verbose, wait_time)\u001b[0m\n\u001b[1;32m     99\u001b[0m build_payload \u001b[38;5;241m=\u001b[39m partial(pytrends\u001b[38;5;241m.\u001b[39mbuild_payload,\n\u001b[1;32m    100\u001b[0m                         kw_list\u001b[38;5;241m=\u001b[39m[word], cat\u001b[38;5;241m=\u001b[39m\u001b[38;5;241m0\u001b[39m, geo\u001b[38;5;241m=\u001b[39mgeo, gprop\u001b[38;5;241m=\u001b[39m\u001b[38;5;124m'\u001b[39m\u001b[38;5;124m'\u001b[39m)\n\u001b[1;32m    102\u001b[0m \u001b[38;5;66;03m# Obtain monthly data for all months in years [start_year, stop_year]\u001b[39;00m\n\u001b[0;32m--> 103\u001b[0m monthly \u001b[38;5;241m=\u001b[39m \u001b[43m_fetch_data\u001b[49m\u001b[43m(\u001b[49m\u001b[43mpytrends\u001b[49m\u001b[43m,\u001b[49m\u001b[43m \u001b[49m\u001b[43mbuild_payload\u001b[49m\u001b[43m,\u001b[49m\n\u001b[1;32m    104\u001b[0m \u001b[43m                     \u001b[49m\u001b[43mconvert_dates_to_timeframe\u001b[49m\u001b[43m(\u001b[49m\u001b[43mstart_date\u001b[49m\u001b[43m,\u001b[49m\u001b[43m \u001b[49m\u001b[43mstop_date\u001b[49m\u001b[43m)\u001b[49m\u001b[43m)\u001b[49m\n\u001b[1;32m    106\u001b[0m \u001b[38;5;66;03m# Get daily data, month by month\u001b[39;00m\n\u001b[1;32m    107\u001b[0m results \u001b[38;5;241m=\u001b[39m {}\n",
      "File \u001b[0;32m/usr/local/lib/python3.11/site-packages/pytrends/dailydata.py:38\u001b[0m, in \u001b[0;36m_fetch_data\u001b[0;34m(pytrends, build_payload, timeframe)\u001b[0m\n\u001b[1;32m     36\u001b[0m \u001b[38;5;28mprint\u001b[39m(err)\n\u001b[1;32m     37\u001b[0m \u001b[38;5;28mprint\u001b[39m(\u001b[38;5;124mf\u001b[39m\u001b[38;5;124m'\u001b[39m\u001b[38;5;124mTrying again in \u001b[39m\u001b[38;5;132;01m{\u001b[39;00m\u001b[38;5;241m60\u001b[39m\u001b[38;5;250m \u001b[39m\u001b[38;5;241m+\u001b[39m\u001b[38;5;250m \u001b[39m\u001b[38;5;241m5\u001b[39m\u001b[38;5;250m \u001b[39m\u001b[38;5;241m*\u001b[39m\u001b[38;5;250m \u001b[39mattempts\u001b[38;5;132;01m}\u001b[39;00m\u001b[38;5;124m seconds.\u001b[39m\u001b[38;5;124m'\u001b[39m)\n\u001b[0;32m---> 38\u001b[0m \u001b[43msleep\u001b[49m\u001b[43m(\u001b[49m\u001b[38;5;241;43m60\u001b[39;49m\u001b[43m \u001b[49m\u001b[38;5;241;43m+\u001b[39;49m\u001b[43m \u001b[49m\u001b[38;5;241;43m5\u001b[39;49m\u001b[43m \u001b[49m\u001b[38;5;241;43m*\u001b[39;49m\u001b[43m \u001b[49m\u001b[43mattempts\u001b[49m\u001b[43m)\u001b[49m\n\u001b[1;32m     39\u001b[0m attempts \u001b[38;5;241m+\u001b[39m\u001b[38;5;241m=\u001b[39m \u001b[38;5;241m1\u001b[39m\n\u001b[1;32m     40\u001b[0m \u001b[38;5;28;01mif\u001b[39;00m attempts \u001b[38;5;241m>\u001b[39m \u001b[38;5;241m3\u001b[39m:\n",
      "\u001b[0;31mKeyboardInterrupt\u001b[0m: "
     ]
    }
   ],
   "source": [
    "google_trends_2(djia_tickers, 2004)"
   ]
  },
  {
   "cell_type": "code",
   "execution_count": null,
   "id": "db2fa854",
   "metadata": {},
   "outputs": [],
   "source": [
    "def fetch_google_trends_before2013(keyword, start_year):\n",
    "    try:\n",
    "        # Get the daily data\n",
    "        data = dailydata.get_daily_data(keyword, start_year, 1, 2013, 12, geo='US')\n",
    "\n",
    "        # Save the data to a CSV file\n",
    "        data.to_csv('data.csv', index=False)\n",
    "\n",
    "        # Check if 'isPartial' exists in the DataFrame\n",
    "        if 'isPartial' in data.columns:\n",
    "            data = data.drop(columns=['isPartial'])\n",
    "    except KeyError as e:\n",
    "        print(f\"An error occurred: {e}\")\n",
    "        data = pd.DataFrame()\n",
    "\n",
    "    # Sleep for 1 second to avoid hitting the rate limit\n",
    "    time.sleep(6)\n",
    "\n",
    "    return data\n"
   ]
  },
  {
   "cell_type": "code",
   "execution_count": null,
   "id": "2a6f4d53",
   "metadata": {},
   "outputs": [
    {
     "name": "stdout",
     "output_type": "stream",
     "text": [
      "The request failed: Google returned a response with code 429\n",
      "Trying again in 60 seconds.\n"
     ]
    },
    {
     "ename": "KeyboardInterrupt",
     "evalue": "",
     "output_type": "error",
     "traceback": [
      "\u001b[0;31m---------------------------------------------------------------------------\u001b[0m",
      "\u001b[0;31mTooManyRequestsError\u001b[0m                      Traceback (most recent call last)",
      "File \u001b[0;32m/usr/local/lib/python3.11/site-packages/pytrends/dailydata.py:34\u001b[0m, in \u001b[0;36m_fetch_data\u001b[0;34m(pytrends, build_payload, timeframe)\u001b[0m\n\u001b[1;32m     33\u001b[0m \u001b[38;5;28;01mtry\u001b[39;00m:\n\u001b[0;32m---> 34\u001b[0m     \u001b[43mbuild_payload\u001b[49m\u001b[43m(\u001b[49m\u001b[43mtimeframe\u001b[49m\u001b[38;5;241;43m=\u001b[39;49m\u001b[43mtimeframe\u001b[49m\u001b[43m)\u001b[49m\n\u001b[1;32m     35\u001b[0m \u001b[38;5;28;01mexcept\u001b[39;00m ResponseError \u001b[38;5;28;01mas\u001b[39;00m err:\n",
      "File \u001b[0;32m/usr/local/lib/python3.11/site-packages/pytrends/request.py:189\u001b[0m, in \u001b[0;36mTrendReq.build_payload\u001b[0;34m(self, kw_list, cat, timeframe, geo, gprop)\u001b[0m\n\u001b[1;32m    188\u001b[0m \u001b[38;5;66;03m# get tokens\u001b[39;00m\n\u001b[0;32m--> 189\u001b[0m \u001b[38;5;28;43mself\u001b[39;49m\u001b[38;5;241;43m.\u001b[39;49m\u001b[43m_tokens\u001b[49m\u001b[43m(\u001b[49m\u001b[43m)\u001b[49m\n\u001b[1;32m    190\u001b[0m \u001b[38;5;28;01mreturn\u001b[39;00m\n",
      "File \u001b[0;32m/usr/local/lib/python3.11/site-packages/pytrends/request.py:195\u001b[0m, in \u001b[0;36mTrendReq._tokens\u001b[0;34m(self)\u001b[0m\n\u001b[1;32m    194\u001b[0m \u001b[38;5;66;03m# make the request and parse the returned json\u001b[39;00m\n\u001b[0;32m--> 195\u001b[0m widget_dicts \u001b[38;5;241m=\u001b[39m \u001b[38;5;28;43mself\u001b[39;49m\u001b[38;5;241;43m.\u001b[39;49m\u001b[43m_get_data\u001b[49m\u001b[43m(\u001b[49m\n\u001b[1;32m    196\u001b[0m \u001b[43m    \u001b[49m\u001b[43murl\u001b[49m\u001b[38;5;241;43m=\u001b[39;49m\u001b[43mTrendReq\u001b[49m\u001b[38;5;241;43m.\u001b[39;49m\u001b[43mGENERAL_URL\u001b[49m\u001b[43m,\u001b[49m\n\u001b[1;32m    197\u001b[0m \u001b[43m    \u001b[49m\u001b[43mmethod\u001b[49m\u001b[38;5;241;43m=\u001b[39;49m\u001b[43mTrendReq\u001b[49m\u001b[38;5;241;43m.\u001b[39;49m\u001b[43mPOST_METHOD\u001b[49m\u001b[43m,\u001b[49m\n\u001b[1;32m    198\u001b[0m \u001b[43m    \u001b[49m\u001b[43mparams\u001b[49m\u001b[38;5;241;43m=\u001b[39;49m\u001b[38;5;28;43mself\u001b[39;49m\u001b[38;5;241;43m.\u001b[39;49m\u001b[43mtoken_payload\u001b[49m\u001b[43m,\u001b[49m\n\u001b[1;32m    199\u001b[0m \u001b[43m    \u001b[49m\u001b[43mtrim_chars\u001b[49m\u001b[38;5;241;43m=\u001b[39;49m\u001b[38;5;241;43m4\u001b[39;49m\u001b[43m,\u001b[49m\n\u001b[1;32m    200\u001b[0m \u001b[43m\u001b[49m\u001b[43m)\u001b[49m[\u001b[38;5;124m'\u001b[39m\u001b[38;5;124mwidgets\u001b[39m\u001b[38;5;124m'\u001b[39m]\n\u001b[1;32m    201\u001b[0m \u001b[38;5;66;03m# order of the json matters...\u001b[39;00m\n",
      "File \u001b[0;32m/usr/local/lib/python3.11/site-packages/pytrends/request.py:159\u001b[0m, in \u001b[0;36mTrendReq._get_data\u001b[0;34m(self, url, method, trim_chars, **kwargs)\u001b[0m\n\u001b[1;32m    158\u001b[0m \u001b[38;5;28;01mif\u001b[39;00m response\u001b[38;5;241m.\u001b[39mstatus_code \u001b[38;5;241m==\u001b[39m status_codes\u001b[38;5;241m.\u001b[39mcodes\u001b[38;5;241m.\u001b[39mtoo_many_requests:\n\u001b[0;32m--> 159\u001b[0m     \u001b[38;5;28;01mraise\u001b[39;00m exceptions\u001b[38;5;241m.\u001b[39mTooManyRequestsError\u001b[38;5;241m.\u001b[39mfrom_response(response)\n\u001b[1;32m    160\u001b[0m \u001b[38;5;28;01mraise\u001b[39;00m exceptions\u001b[38;5;241m.\u001b[39mResponseError\u001b[38;5;241m.\u001b[39mfrom_response(response)\n",
      "\u001b[0;31mTooManyRequestsError\u001b[0m: The request failed: Google returned a response with code 429",
      "\nDuring handling of the above exception, another exception occurred:\n",
      "\u001b[0;31mKeyboardInterrupt\u001b[0m                         Traceback (most recent call last)",
      "Cell \u001b[0;32mIn[59], line 1\u001b[0m\n\u001b[0;32m----> 1\u001b[0m \u001b[43mfetch_google_trends_before2013\u001b[49m\u001b[43m(\u001b[49m\u001b[38;5;124;43m\"\u001b[39;49m\u001b[38;5;124;43mWBA\u001b[39;49m\u001b[38;5;124;43m\"\u001b[39;49m\u001b[43m,\u001b[49m\u001b[43m \u001b[49m\u001b[38;5;241;43m2004\u001b[39;49m\u001b[43m)\u001b[49m\n",
      "Cell \u001b[0;32mIn[58], line 4\u001b[0m, in \u001b[0;36mfetch_google_trends_before2013\u001b[0;34m(keyword, start_year)\u001b[0m\n\u001b[1;32m      1\u001b[0m \u001b[38;5;28;01mdef\u001b[39;00m \u001b[38;5;21mfetch_google_trends_before2013\u001b[39m(keyword, start_year):\n\u001b[1;32m      2\u001b[0m     \u001b[38;5;28;01mtry\u001b[39;00m:\n\u001b[1;32m      3\u001b[0m         \u001b[38;5;66;03m# Get the daily data\u001b[39;00m\n\u001b[0;32m----> 4\u001b[0m         data \u001b[38;5;241m=\u001b[39m \u001b[43mdailydata\u001b[49m\u001b[38;5;241;43m.\u001b[39;49m\u001b[43mget_daily_data\u001b[49m\u001b[43m(\u001b[49m\u001b[43mkeyword\u001b[49m\u001b[43m,\u001b[49m\u001b[43m \u001b[49m\u001b[43mstart_year\u001b[49m\u001b[43m,\u001b[49m\u001b[43m \u001b[49m\u001b[38;5;241;43m1\u001b[39;49m\u001b[43m,\u001b[49m\u001b[43m \u001b[49m\u001b[38;5;241;43m2013\u001b[39;49m\u001b[43m,\u001b[49m\u001b[43m \u001b[49m\u001b[38;5;241;43m12\u001b[39;49m\u001b[43m,\u001b[49m\u001b[43m \u001b[49m\u001b[43mgeo\u001b[49m\u001b[38;5;241;43m=\u001b[39;49m\u001b[38;5;124;43m'\u001b[39;49m\u001b[38;5;124;43mUS\u001b[39;49m\u001b[38;5;124;43m'\u001b[39;49m\u001b[43m)\u001b[49m\n\u001b[1;32m      6\u001b[0m         \u001b[38;5;66;03m# Save the data to a CSV file\u001b[39;00m\n\u001b[1;32m      7\u001b[0m         data\u001b[38;5;241m.\u001b[39mto_csv(\u001b[38;5;124m'\u001b[39m\u001b[38;5;124mdata.csv\u001b[39m\u001b[38;5;124m'\u001b[39m, index\u001b[38;5;241m=\u001b[39m\u001b[38;5;28;01mFalse\u001b[39;00m)\n",
      "File \u001b[0;32m/usr/local/lib/python3.11/site-packages/pytrends/dailydata.py:103\u001b[0m, in \u001b[0;36mget_daily_data\u001b[0;34m(word, start_year, start_mon, stop_year, stop_mon, geo, verbose, wait_time)\u001b[0m\n\u001b[1;32m     99\u001b[0m build_payload \u001b[38;5;241m=\u001b[39m partial(pytrends\u001b[38;5;241m.\u001b[39mbuild_payload,\n\u001b[1;32m    100\u001b[0m                         kw_list\u001b[38;5;241m=\u001b[39m[word], cat\u001b[38;5;241m=\u001b[39m\u001b[38;5;241m0\u001b[39m, geo\u001b[38;5;241m=\u001b[39mgeo, gprop\u001b[38;5;241m=\u001b[39m\u001b[38;5;124m'\u001b[39m\u001b[38;5;124m'\u001b[39m)\n\u001b[1;32m    102\u001b[0m \u001b[38;5;66;03m# Obtain monthly data for all months in years [start_year, stop_year]\u001b[39;00m\n\u001b[0;32m--> 103\u001b[0m monthly \u001b[38;5;241m=\u001b[39m \u001b[43m_fetch_data\u001b[49m\u001b[43m(\u001b[49m\u001b[43mpytrends\u001b[49m\u001b[43m,\u001b[49m\u001b[43m \u001b[49m\u001b[43mbuild_payload\u001b[49m\u001b[43m,\u001b[49m\n\u001b[1;32m    104\u001b[0m \u001b[43m                     \u001b[49m\u001b[43mconvert_dates_to_timeframe\u001b[49m\u001b[43m(\u001b[49m\u001b[43mstart_date\u001b[49m\u001b[43m,\u001b[49m\u001b[43m \u001b[49m\u001b[43mstop_date\u001b[49m\u001b[43m)\u001b[49m\u001b[43m)\u001b[49m\n\u001b[1;32m    106\u001b[0m \u001b[38;5;66;03m# Get daily data, month by month\u001b[39;00m\n\u001b[1;32m    107\u001b[0m results \u001b[38;5;241m=\u001b[39m {}\n",
      "File \u001b[0;32m/usr/local/lib/python3.11/site-packages/pytrends/dailydata.py:38\u001b[0m, in \u001b[0;36m_fetch_data\u001b[0;34m(pytrends, build_payload, timeframe)\u001b[0m\n\u001b[1;32m     36\u001b[0m \u001b[38;5;28mprint\u001b[39m(err)\n\u001b[1;32m     37\u001b[0m \u001b[38;5;28mprint\u001b[39m(\u001b[38;5;124mf\u001b[39m\u001b[38;5;124m'\u001b[39m\u001b[38;5;124mTrying again in \u001b[39m\u001b[38;5;132;01m{\u001b[39;00m\u001b[38;5;241m60\u001b[39m\u001b[38;5;250m \u001b[39m\u001b[38;5;241m+\u001b[39m\u001b[38;5;250m \u001b[39m\u001b[38;5;241m5\u001b[39m\u001b[38;5;250m \u001b[39m\u001b[38;5;241m*\u001b[39m\u001b[38;5;250m \u001b[39mattempts\u001b[38;5;132;01m}\u001b[39;00m\u001b[38;5;124m seconds.\u001b[39m\u001b[38;5;124m'\u001b[39m)\n\u001b[0;32m---> 38\u001b[0m sleep(\u001b[38;5;241m60\u001b[39m \u001b[38;5;241m+\u001b[39m \u001b[38;5;241m5\u001b[39m \u001b[38;5;241m*\u001b[39m attempts)\n\u001b[1;32m     39\u001b[0m attempts \u001b[38;5;241m+\u001b[39m\u001b[38;5;241m=\u001b[39m \u001b[38;5;241m1\u001b[39m\n\u001b[1;32m     40\u001b[0m \u001b[38;5;28;01mif\u001b[39;00m attempts \u001b[38;5;241m>\u001b[39m \u001b[38;5;241m3\u001b[39m:\n",
      "\u001b[0;31mKeyboardInterrupt\u001b[0m: "
     ]
    }
   ],
   "source": [
    "fetch_google_trends_before2013(\"WBA\", 2004)"
   ]
  },
  {
   "cell_type": "code",
   "execution_count": null,
   "id": "b8258cc5",
   "metadata": {},
   "outputs": [],
   "source": []
  },
  {
   "cell_type": "markdown",
   "id": "4438ee50-d9ad-4271-a902-c93f1b83f397",
   "metadata": {},
   "source": [
    "### Checking the CSV files from the function as pandas dataframes"
   ]
  },
  {
   "cell_type": "code",
   "execution_count": null,
   "id": "44e31d1d-41d0-4c20-a213-577d9d73064f",
   "metadata": {},
   "outputs": [
    {
     "data": {
      "text/html": [
       "<div>\n",
       "<style scoped>\n",
       "    .dataframe tbody tr th:only-of-type {\n",
       "        vertical-align: middle;\n",
       "    }\n",
       "\n",
       "    .dataframe tbody tr th {\n",
       "        vertical-align: top;\n",
       "    }\n",
       "\n",
       "    .dataframe thead th {\n",
       "        text-align: right;\n",
       "    }\n",
       "</style>\n",
       "<table border=\"1\" class=\"dataframe\">\n",
       "  <thead>\n",
       "    <tr style=\"text-align: right;\">\n",
       "      <th></th>\n",
       "      <th>AAPL</th>\n",
       "    </tr>\n",
       "    <tr>\n",
       "      <th>date</th>\n",
       "      <th></th>\n",
       "    </tr>\n",
       "  </thead>\n",
       "  <tbody>\n",
       "    <tr>\n",
       "      <th>2004-01-01</th>\n",
       "      <td>0.00</td>\n",
       "    </tr>\n",
       "    <tr>\n",
       "      <th>2004-01-02</th>\n",
       "      <td>0.00</td>\n",
       "    </tr>\n",
       "    <tr>\n",
       "      <th>2004-01-03</th>\n",
       "      <td>0.00</td>\n",
       "    </tr>\n",
       "    <tr>\n",
       "      <th>2004-01-04</th>\n",
       "      <td>0.00</td>\n",
       "    </tr>\n",
       "    <tr>\n",
       "      <th>2004-01-05</th>\n",
       "      <td>0.00</td>\n",
       "    </tr>\n",
       "    <tr>\n",
       "      <th>...</th>\n",
       "      <td>...</td>\n",
       "    </tr>\n",
       "    <tr>\n",
       "      <th>2023-12-27</th>\n",
       "      <td>19.20</td>\n",
       "    </tr>\n",
       "    <tr>\n",
       "      <th>2023-12-28</th>\n",
       "      <td>16.32</td>\n",
       "    </tr>\n",
       "    <tr>\n",
       "      <th>2023-12-29</th>\n",
       "      <td>14.40</td>\n",
       "    </tr>\n",
       "    <tr>\n",
       "      <th>2023-12-30</th>\n",
       "      <td>3.84</td>\n",
       "    </tr>\n",
       "    <tr>\n",
       "      <th>2023-12-31</th>\n",
       "      <td>3.36</td>\n",
       "    </tr>\n",
       "  </tbody>\n",
       "</table>\n",
       "<p>7305 rows × 1 columns</p>\n",
       "</div>"
      ],
      "text/plain": [
       "             AAPL\n",
       "date             \n",
       "2004-01-01   0.00\n",
       "2004-01-02   0.00\n",
       "2004-01-03   0.00\n",
       "2004-01-04   0.00\n",
       "2004-01-05   0.00\n",
       "...           ...\n",
       "2023-12-27  19.20\n",
       "2023-12-28  16.32\n",
       "2023-12-29  14.40\n",
       "2023-12-30   3.84\n",
       "2023-12-31   3.36\n",
       "\n",
       "[7305 rows x 1 columns]"
      ]
     },
     "execution_count": 43,
     "metadata": {},
     "output_type": "execute_result"
    }
   ],
   "source": [
    "#CHECKING IF CSV FILES DOWNLOADED PROPERLY \n",
    "\n",
    "df_AAPL = pd.read_csv(\"AAPL.csv\", index_col=0)\n",
    "df_AAPL"
   ]
  },
  {
   "cell_type": "markdown",
   "id": "111c543d-f4b8-4a24-9db8-55fa5504c43e",
   "metadata": {},
   "source": [
    "Columns explained: \n",
    "\n",
    "1. AAPL_unscaled:\n",
    "2. AAPL_Monthly\n",
    "3. isPartial: This column indicates whether the data for the corresponding date is complete or partial. If the value is \"True\", it means the data for that date is incomplete and subject to revision. If the value is \"False\", it means the data is complete for that date.\n",
    "4. scale\n",
    "5. AAPL\n",
    "\n",
    "The column named after the word argument contains the daily search volume already scaled and comparable through time. The column f'{word}_unscaled' is the original daily data fetched month by month, and it is not comparable across different months (but is comparable within a month).The column f'{word}_monthly' contains the original monthly datafetched at once. The values in this column have been backfilled so that there are no NaN present.The column 'scale' contains the scale used to obtain the scaleddaily data."
   ]
  },
  {
   "cell_type": "markdown",
   "id": "0fc61f48-dd26-4de8-a53e-915415b80d81",
   "metadata": {},
   "source": [
    "## Documentation:"
   ]
  },
  {
   "cell_type": "markdown",
   "id": "6d173260-027f-450b-9494-41b90670d80a",
   "metadata": {},
   "source": [
    "### How is Google Trends data normalized?\n",
    "\n",
    "Google Trends normalizes search data to make comparisons between terms easier. Search results are normalized to the time and location of a query by the following process:\n",
    "\n",
    "Each data point is divided by the total searches of the geography and time range it represents to compare relative popularity. Otherwise, places with the most search volume would always be ranked highest.\n",
    "\n",
    "The resulting numbers are then scaled on a range of 0 to 100 based on a topic’s proportion to all searches on all topics.\n",
    "\n",
    "Different regions that show the same search interest for a term don't always have the same total search volumes."
   ]
  }
 ],
 "metadata": {
  "kernelspec": {
   "display_name": "Python 3 (ipykernel)",
   "language": "python",
   "name": "python3"
  },
  "language_info": {
   "codemirror_mode": {
    "name": "ipython",
    "version": 3
   },
   "file_extension": ".py",
   "mimetype": "text/x-python",
   "name": "python",
   "nbconvert_exporter": "python",
   "pygments_lexer": "ipython3",
   "version": "3.11.7"
  }
 },
 "nbformat": 4,
 "nbformat_minor": 5
}
